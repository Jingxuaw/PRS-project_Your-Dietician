{
  "nbformat": 4,
  "nbformat_minor": 0,
  "metadata": {
    "kernelspec": {
      "display_name": "Python 3",
      "language": "python",
      "name": "python3"
    },
    "language_info": {
      "codemirror_mode": {
        "name": "ipython",
        "version": 3
      },
      "file_extension": ".py",
      "mimetype": "text/x-python",
      "name": "python",
      "nbconvert_exporter": "python",
      "pygments_lexer": "ipython3",
      "version": "3.5.2"
    },
    "colab": {
      "name": "BMI prediction_asian.ipynb",
      "provenance": [],
      "toc_visible": true
    },
    "accelerator": "GPU"
  },
  "cells": [
    {
      "cell_type": "markdown",
      "metadata": {
        "id": "4o-YVSv8U6ex"
      },
      "source": [
        "## Data  Set\n",
        "\n",
        "\n",
        "\n"
      ]
    },
    {
      "cell_type": "markdown",
      "metadata": {
        "id": "Yim6yMScU6ex"
      },
      "source": [
        "Our data set was crawled down from Google Baidu by team members according to their favorite celebrities, while BMI, weight, height and other data were obtained from public news and CSV files were formed. Since a person's weight and height are variable at any time, this function can only be used as an auxiliary reference to measure BMI.\n"
      ]
    },
    {
      "cell_type": "code",
      "metadata": {
        "id": "4C935rwHYu2-"
      },
      "source": [
        "## Input the Data"
      ],
      "execution_count": 42,
      "outputs": []
    },
    {
      "cell_type": "code",
      "metadata": {
        "id": "LjJHPoCOYGiU"
      },
      "source": [
        "import pandas as pd\n",
        "import numpy as np\n",
        "import matplotlib.pyplot as plt\n",
        "import re\n",
        "from pathlib import Path as p"
      ],
      "execution_count": 43,
      "outputs": []
    },
    {
      "cell_type": "code",
      "metadata": {
        "id": "uBvohRCBU6ex"
      },
      "source": [
        "data_label = \"./Famous person data - Sheet1.csv\""
      ],
      "execution_count": 44,
      "outputs": []
    },
    {
      "cell_type": "code",
      "metadata": {
        "id": "kPBJDigiU6e8"
      },
      "source": [
        "folder = \"photo\""
      ],
      "execution_count": 45,
      "outputs": []
    },
    {
      "cell_type": "code",
      "metadata": {
        "id": "EQ_rV4vVU6e-",
        "outputId": "62d71dcc-53b6-4f53-ed4c-29011440d966",
        "colab": {
          "base_uri": "https://localhost:8080/"
        }
      },
      "source": [
        "from glob import glob\n",
        "photo_files = glob(\"photo/*\")\n",
        "\n",
        "select_jpgs = ([img for img in photo_files if \".jpg\" in img or \".jpeg\" in img or \"JPG\" in img])\n",
        "\n",
        "print(\"Total {} photos \".format(len(select_jpgs)))"
      ],
      "execution_count": 46,
      "outputs": [
        {
          "output_type": "stream",
          "text": [
            "Total 342 photos \n"
          ],
          "name": "stdout"
        }
      ]
    },
    {
      "cell_type": "code",
      "metadata": {
        "id": "rTgBaHv1U6fD"
      },
      "source": [
        "id_path = [(p(images).stem[:(index_number(p(images).stem))],images) for  images in select_jpgs ]"
      ],
      "execution_count": 47,
      "outputs": []
    },
    {
      "cell_type": "code",
      "metadata": {
        "id": "GEKjpmNCU6fB"
      },
      "source": [
        "def index_number(string):\n",
        "    match = re.search(\"\\d\", p(string).stem)\n",
        "    return match.start(0)"
      ],
      "execution_count": 48,
      "outputs": []
    },
    {
      "cell_type": "code",
      "metadata": {
        "id": "b41wnEbjU6e3"
      },
      "source": [
        "data_csv = pd.read_csv(data_label)"
      ],
      "execution_count": 60,
      "outputs": []
    },
    {
      "cell_type": "code",
      "metadata": {
        "id": "QfGBDsIkU6e1"
      },
      "source": [
        "height_weight = pd.DataFrame(id_path,columns=['name','path'])"
      ],
      "execution_count": 54,
      "outputs": []
    },
    {
      "cell_type": "code",
      "metadata": {
        "id": "6hEjam2PU6fF"
      },
      "source": [
        "data = pd.merge(height_weight,data_csv) ## merged the training images with their profile"
      ],
      "execution_count": 61,
      "outputs": []
    },
    {
      "cell_type": "code",
      "metadata": {
        "scrolled": true,
        "id": "Q4FiTKezU6fG",
        "outputId": "2329975b-432d-46ab-c835-c922e0797a0b",
        "colab": {
          "base_uri": "https://localhost:8080/"
        }
      },
      "source": [
        "data.head"
      ],
      "execution_count": 62,
      "outputs": [
        {
          "output_type": "execute_result",
          "data": {
            "text/plain": [
              "<bound method NDFrame.head of             UID                    path  id name  height  weight        BMI\n",
              "0    hongjinbao   photo/hongjinbao9.jpg  11  hjb    1.70     100  34.602076\n",
              "1    hongjinbao   photo/hongjinbao8.jpg  11  hjb    1.70     100  34.602076\n",
              "2    hongjinbao   photo/hongjinbao7.jpg  11  hjb    1.70     100  34.602076\n",
              "3    hongjinbao   photo/hongjinbao4.jpg  11  hjb    1.70     100  34.602076\n",
              "4    hongjinbao   photo/hongjinbao5.jpg  11  hjb    1.70     100  34.602076\n",
              "..          ...                     ...  ..  ...     ...     ...        ...\n",
              "336  meiyanfang  photo/meiyanfang3.jpeg  20  myf    1.68      50  17.715419\n",
              "337  meiyanfang   photo/meiyanfang5.jpg  20  myf    1.68      50  17.715419\n",
              "338       qiqin        photo/qiqin2.jpg  22   qq    1.73      62  20.715694\n",
              "339       qiqin        photo/qiqin1.jpg  22   qq    1.73      62  20.715694\n",
              "340       qiqin       photo/qiqin3.jpeg  22   qq    1.73      62  20.715694\n",
              "\n",
              "[341 rows x 7 columns]>"
            ]
          },
          "metadata": {
            "tags": []
          },
          "execution_count": 62
        }
      ]
    },
    {
      "cell_type": "markdown",
      "metadata": {
        "id": "HRpyCaDtU6fI"
      },
      "source": [
        "## Face detection"
      ]
    },
    {
      "cell_type": "markdown",
      "metadata": {
        "id": "bHkm8l5E5_1k"
      },
      "source": [
        ""
      ]
    },
    {
      "cell_type": "code",
      "metadata": {
        "id": "q0gwbfWqU6fJ",
        "outputId": "453e1583-81cd-4721-ca25-4da5abc25933",
        "colab": {
          "base_uri": "https://localhost:8080/"
        }
      },
      "source": [
        "!pip install face_recognition\n",
        "import face_recognition"
      ],
      "execution_count": 63,
      "outputs": [
        {
          "output_type": "stream",
          "text": [
            "Collecting face_recognition\n",
            "  Downloading https://files.pythonhosted.org/packages/1e/95/f6c9330f54ab07bfa032bf3715c12455a381083125d8880c43cbe76bb3d0/face_recognition-1.3.0-py2.py3-none-any.whl\n",
            "Requirement already satisfied: Pillow in /usr/local/lib/python3.6/dist-packages (from face_recognition) (7.0.0)\n",
            "Requirement already satisfied: numpy in /usr/local/lib/python3.6/dist-packages (from face_recognition) (1.18.5)\n",
            "Collecting face-recognition-models>=0.3.0\n",
            "\u001b[?25l  Downloading https://files.pythonhosted.org/packages/cf/3b/4fd8c534f6c0d1b80ce0973d01331525538045084c73c153ee6df20224cf/face_recognition_models-0.3.0.tar.gz (100.1MB)\n",
            "\u001b[K     |████████████████████████████████| 100.2MB 41kB/s \n",
            "\u001b[?25hRequirement already satisfied: dlib>=19.7 in /usr/local/lib/python3.6/dist-packages (from face_recognition) (19.18.0)\n",
            "Requirement already satisfied: Click>=6.0 in /usr/local/lib/python3.6/dist-packages (from face_recognition) (7.1.2)\n",
            "Building wheels for collected packages: face-recognition-models\n",
            "  Building wheel for face-recognition-models (setup.py) ... \u001b[?25l\u001b[?25hdone\n",
            "  Created wheel for face-recognition-models: filename=face_recognition_models-0.3.0-py2.py3-none-any.whl size=100566173 sha256=45f1fffc257c1df9473e41deb7ff4b7f124ed72f84833d99c8b561960fc75f73\n",
            "  Stored in directory: /root/.cache/pip/wheels/d2/99/18/59c6c8f01e39810415c0e63f5bede7d83dfb0ffc039865465f\n",
            "Successfully built face-recognition-models\n",
            "Installing collected packages: face-recognition-models, face-recognition\n",
            "Successfully installed face-recognition-1.3.0 face-recognition-models-0.3.0\n"
          ],
          "name": "stdout"
        }
      ]
    },
    {
      "cell_type": "code",
      "metadata": {
        "id": "ZlmYK_UAU6fL"
      },
      "source": [
        "def face_detect(image_path):\n",
        "    print(image_path)\n",
        "    face_reg = face_recognition.load_image_file(image_path)\n",
        "    face_code = face_recognition.face_encodings(face_reg)\n",
        "\n",
        "    if not face_code :\n",
        "        print(\"no face\")\n",
        "        return np.zeros(128).tolist()\n",
        "\n",
        "    return face_code[0].tolist()"
      ],
      "execution_count": 102,
      "outputs": []
    },
    {
      "cell_type": "code",
      "metadata": {
        "id": "CbDsJofKU6fM"
      },
      "source": [
        "detected_photo = []"
      ],
      "execution_count": 104,
      "outputs": []
    },
    {
      "cell_type": "code",
      "metadata": {
        "id": "645gLgQWU6fO",
        "outputId": "96cee86e-6c17-459d-cae0-8b774276e7e0",
        "colab": {
          "base_uri": "https://localhost:8080/"
        }
      },
      "source": [
        "for images in data.path:\n",
        "    face_code = face_detect(images)\n",
        "    detected_photo.append(face_code)"
      ],
      "execution_count": 105,
      "outputs": [
        {
          "output_type": "stream",
          "text": [
            "photo/hongjinbao9.jpg\n",
            "photo/hongjinbao8.jpg\n",
            "photo/hongjinbao7.jpg\n",
            "photo/hongjinbao4.jpg\n",
            "photo/hongjinbao5.jpg\n",
            "photo/hongjinbao1.jpg\n",
            "photo/hongjinbao3.jpg\n",
            "photo/hongjinbao6.jpg\n",
            "photo/hongjinbao2.jpg\n",
            "photo/emma6.jpg\n",
            "photo/emma4.jpg\n",
            "photo/emma2.jpg\n",
            "photo/emma3.jpg\n",
            "photo/emma5.jpg\n",
            "photo/emma1.jpg\n",
            "photo/chenjieyi11.jpg\n",
            "photo/chenjieyi12.jpg\n",
            "photo/chenjieyi16.jpg\n",
            "photo/chenjieyi18.jpg\n",
            "photo/chenjieyi8.jpg\n",
            "photo/chenjieyi6.jpg\n",
            "photo/chenjieyi4.jpg\n",
            "photo/chenjieyi14.jpg\n",
            "photo/chenjieyi3.jpg\n",
            "photo/chenjieyi5.jpg\n",
            "photo/chenjieyi1.jpg\n",
            "photo/chenjieyi19.jpg\n",
            "photo/chenjieyi7.jpg\n",
            "photo/chenjieyi2.jpg\n",
            "photo/chenjieyi10.jpg\n",
            "photo/chenjieyi15.jpg\n",
            "photo/chenjieyi17.jpg\n",
            "photo/chenjieyi9.jpg\n",
            "photo/chenjieyi13.jpeg\n",
            "photo/srk2.jpg\n",
            "photo/srk6.jpg\n",
            "photo/srk4.jpg\n",
            "photo/srk11.jpg\n",
            "photo/srk8.jpg\n",
            "photo/srk13.jpg\n",
            "photo/srk5.jpg\n",
            "photo/srk3.jpeg\n",
            "no face\n",
            "photo/srk9.jpg\n",
            "photo/srk12.jpg\n",
            "photo/srk1.jpg\n",
            "photo/srk10.jpeg\n",
            "photo/srk7.jpg\n",
            "photo/ben2.jpg\n",
            "photo/ben5.jpg\n",
            "photo/ben1.jpg\n",
            "photo/ben4.jpg\n",
            "photo/ben3.jpg\n",
            "photo/guofucheng3.jpg\n",
            "photo/guofucheng4.jpg\n",
            "photo/guofucheng1.jpg\n",
            "photo/guofucheng2.jpg\n",
            "photo/guofucheng5.jpg\n",
            "photo/kalki4.jpg\n",
            "photo/kalki3.jpeg\n",
            "photo/kalki2.jpg\n",
            "photo/kalki6.jpg\n",
            "photo/kalki7.jpg\n",
            "photo/kalki1.jpg\n",
            "photo/kalki5.jpg\n",
            "photo/fanwenfang14.jpg\n",
            "photo/fanwenfang6.jpg\n",
            "photo/fanwenfang11.jpg\n",
            "photo/fanwenfang10.jpg\n",
            "photo/fanwenfang12.jpg\n",
            "photo/fanwenfang9.jpg\n",
            "photo/fanwenfang13.jpg\n",
            "photo/fanwenfang15.jpg\n",
            "photo/fanwenfang8.jpg\n",
            "photo/fanwenfang3.jpg\n",
            "photo/fanwenfang5.jpg\n",
            "photo/fanwenfang4.jpg\n",
            "photo/fanwenfang16.jpg\n",
            "photo/fanwenfang1.jpg\n",
            "photo/fanwenfang2.jpg\n",
            "photo/luoben4.jpg\n",
            "photo/luoben5.jpg\n",
            "photo/luoben3.jpg\n",
            "photo/luoben7.jpg\n",
            "photo/luoben8.jpg\n",
            "photo/luoben1.jpg\n",
            "photo/luoben6.jpg\n",
            "photo/luoben2.jpg\n",
            "photo/pengyuyan4.jpg\n",
            "photo/pengyuyan2.jpg\n",
            "photo/pengyuyan7.jpg\n",
            "photo/pengyuyan9.jpg\n",
            "photo/pengyuyan3.jpg\n",
            "photo/pengyuyan5.jpg\n",
            "photo/pengyuyan1.jpg\n",
            "photo/pengyuyan8.jpg\n",
            "photo/pengyuyan6.jpg\n",
            "photo/wuyanzu8.jpg\n",
            "photo/wuyanzu2.jpg\n",
            "photo/wuyanzu4.jpg\n",
            "photo/wuyanzu1.jpg\n",
            "photo/wuyanzu6.jpeg\n",
            "photo/wuyanzu5.jpg\n",
            "photo/wuyanzu7.jpg\n",
            "photo/wuyanzu3.jpg\n",
            "photo/chenyixun2.jpg\n",
            "photo/chenyixun3.jpg\n",
            "photo/chenyixun1.jpeg\n",
            "photo/chenyixun5.jpg\n",
            "photo/linjujie7.jpg\n",
            "photo/linjujie10.jpg\n",
            "photo/linjujie6.jpg\n",
            "photo/linjujie3.jpg\n",
            "photo/linjujie1.jpg\n",
            "photo/linjujie8.jpg\n",
            "photo/linjujie4.jpg\n",
            "photo/linjujie5.jpg\n",
            "photo/linjujie2.jpg\n",
            "photo/dengziqi5.jpg\n",
            "photo/dengziqi1.jpg\n",
            "photo/dengziqi2.jpg\n",
            "photo/dengziqi6.jpg\n",
            "photo/dengziqi4.jpg\n",
            "photo/dengziqi3.jpg\n",
            "photo/messi4.jpg\n",
            "photo/messi2.jpg\n",
            "photo/messi1.jpg\n",
            "photo/messi3.jpg\n",
            "photo/lixiaolong3.jpg\n",
            "photo/lixiaolong1.jpg\n",
            "photo/lixiaolong2.jpg\n",
            "photo/lixiaolong4.jpg\n",
            "photo/zhangxueyou2.jpg\n",
            "photo/zhangxueyou1.jpg\n",
            "photo/zhangxueyou7.jpg\n",
            "photo/zhangxueyou4.jpg\n",
            "photo/zhangxueyou5.jpg\n",
            "photo/zhangxueyou6.jpg\n",
            "photo/zhangxueyou3.jpg\n",
            "photo/zhangguorong2.jpg\n",
            "photo/zhangguorong4.jpg\n",
            "photo/zhangguorong3.jpg\n",
            "photo/zhangguorong1.jpg\n",
            "photo/zhangguorong5.jpg\n",
            "photo/zhangguorong6.jpeg\n",
            "photo/nuoyier6.jpg\n",
            "photo/nuoyier3.jpg\n",
            "photo/nuoyier7.jpg\n",
            "photo/nuoyier2.jpg\n",
            "photo/nuoyier5.jpg\n",
            "photo/nuoyier1.jpg\n",
            "photo/nuoyier8.jpg\n",
            "photo/nuoyier9.jpg\n",
            "photo/nuoyier10.jpg\n",
            "photo/nuoyier4.jpg\n",
            "photo/nuoyier11.jpg\n",
            "photo/zhoujielun5.jpg\n",
            "photo/zhoujielun2.jpg\n",
            "photo/zhoujielun3.jpg\n",
            "photo/zhoujielun6.jpg\n",
            "photo/zhoujielun4.jpg\n",
            "photo/zhoujielun1.jpg\n",
            "photo/ann5.jpg\n",
            "photo/ann4.jpg\n",
            "photo/ann3.jpg\n",
            "photo/ann1.jpg\n",
            "photo/ann2.jpg\n",
            "photo/zhangjiahui3.jpg\n",
            "photo/zhangjiahui4.jpg\n",
            "photo/zhangjiahui1.jpg\n",
            "photo/zhangjiahui2.jpg\n",
            "photo/feiyuqing7.jpg\n",
            "photo/feiyuqing1.jpg\n",
            "photo/feiyuqing6.jpg\n",
            "photo/feiyuqing5.jpg\n",
            "photo/feiyuqing4.jpg\n",
            "photo/feiyuqing2.jpg\n",
            "photo/linyilian1.jpeg\n",
            "photo/linyilian2.jpg\n",
            "photo/linyilian3.jpg\n",
            "photo/linyilian4.jpg\n",
            "photo/amir15.jpg\n",
            "photo/amir10.jpg\n",
            "photo/amir5.jpg\n",
            "photo/amir14.jpeg\n",
            "photo/amir12.jpg\n",
            "photo/amir1.jpg\n",
            "photo/amir8.jpg\n",
            "photo/amir11.jpg\n",
            "photo/amir9.jpg\n",
            "photo/amir13.jpg\n",
            "photo/amir7.jpeg\n",
            "photo/amir3.jpg\n",
            "photo/amir4.jpeg\n",
            "no face\n",
            "photo/amir2.jpg\n",
            "photo/gongli3.jpg\n",
            "photo/gongli4.jpg\n",
            "photo/gongli1.jpg\n",
            "photo/gongli2.jpg\n",
            "photo/depu2.jpg\n",
            "photo/depu5.jpg\n",
            "photo/depu4.jpg\n",
            "photo/depu3.jpg\n",
            "photo/depu1.jpg\n",
            "photo/zhouhuajian1.jpg\n",
            "photo/zhouhuajian2.jpg\n",
            "photo/zhouhuajian4.jpg\n",
            "photo/zhouhuajian3.jpg\n",
            "photo/sunyanzi3.jpg\n",
            "photo/sunyanzi9.jpg\n",
            "photo/sunyanzi1.jpg\n",
            "photo/sunyanzi8.jpg\n",
            "photo/sunyanzi4.jpg\n",
            "photo/sunyanzi5.jpg\n",
            "photo/sunyanzi7.jpg\n",
            "photo/sunyanzi2.jpg\n",
            "photo/sunyanzi6.jpg\n",
            "photo/taile4.jpg\n",
            "photo/taile9.jpg\n",
            "photo/taile3.jpg\n",
            "photo/taile1.jpg\n",
            "photo/taile10.jpg\n",
            "photo/taile7.jpg\n",
            "photo/taile2.jpg\n",
            "photo/taile8.jpg\n",
            "photo/taile6.jpg\n",
            "photo/taile5.jpg\n",
            "photo/trump1.jpg\n",
            "photo/trump4.jpg\n",
            "photo/trump3.jpg\n",
            "photo/trump5.jpg\n",
            "photo/trump2.jpg\n",
            "photo/denglijun4.jpg\n",
            "photo/denglijun3.jpg\n",
            "photo/denglijun5.jpg\n",
            "photo/denglijun6.jpg\n",
            "photo/denglijun1.jpg\n",
            "photo/denglijun2.jpg\n",
            "photo/zhouxingchi2.jpg\n",
            "photo/zhouxingchi7.jpg\n",
            "photo/zhouxingchi4.jpg\n",
            "photo/zhouxingchi3.jpg\n",
            "photo/zhouxingchi1.jpg\n",
            "photo/zhouxingchi5.jpg\n",
            "photo/zhouxingchi6.jpg\n",
            "photo/zhourunfa3.jpg\n",
            "photo/zhourunfa8.jpg\n",
            "photo/zhourunfa7.jpg\n",
            "photo/zhourunfa4.jpg\n",
            "photo/zhourunfa1.jpeg\n",
            "photo/zhourunfa2.jpg\n",
            "photo/zhourunfa5.jpg\n",
            "photo/zhourunfa6.jpg\n",
            "photo/lilianjie6.jpg\n",
            "photo/lilianjie5.jpg\n",
            "photo/lilianjie7.jpg\n",
            "photo/lilianjie1.jpg\n",
            "photo/lilianjie3.jpg\n",
            "photo/lilianjie2.jpg\n",
            "photo/lilianjie4.jpg\n",
            "photo/lilianjie8.jpg\n",
            "photo/wangfei4.jpg\n",
            "photo/wangfei2.jpg\n",
            "photo/wangfei3.jpg\n",
            "photo/wangfei1.jpg\n",
            "photo/caijianya1.jpeg\n",
            "photo/caijianya6.jpg\n",
            "photo/caijianya4.jpg\n",
            "photo/caijianya5.jpg\n",
            "photo/caijianya2.jpg\n",
            "photo/caijianya3.jpg\n",
            "photo/liuyifei3.jpg\n",
            "photo/liuyifei4.jpg\n",
            "photo/liuyifei2.jpg\n",
            "photo/liuyifei1.jpg\n",
            "photo/liujialing6.jpg\n",
            "photo/liujialing2.jpg\n",
            "photo/liujialing1.jpg\n",
            "photo/liujialing3.jpg\n",
            "photo/liujialing5.jpg\n",
            "photo/liujialing4.jpg\n",
            "photo/chenglong7.jpg\n",
            "photo/chenglong4.jpg\n",
            "photo/chenglong9.jpg\n",
            "photo/chenglong8.jpg\n",
            "photo/chenglong6.jpg\n",
            "photo/chenglong2.jpg\n",
            "photo/chenglong3.jpg\n",
            "photo/chenglong1.jpg\n",
            "photo/yangqianhua1.jpg\n",
            "photo/yangqianhua3.jpg\n",
            "photo/yangqianhua2.jpg\n",
            "photo/yangqianhua4.jpg\n",
            "photo/ivanka1.jpg\n",
            "photo/ivanka3.jpg\n",
            "photo/ivanka4.jpg\n",
            "photo/ivanka2.jpg\n",
            "photo/guajie5.jpg\n",
            "photo/guajie1.jpg\n",
            "photo/guajie2.jpg\n",
            "photo/guajie3.jpg\n",
            "photo/guajie4.jpg\n",
            "photo/guajie6.jpg\n",
            "photo/tom2.jpg\n",
            "photo/tom1.jpg\n",
            "photo/tom4.jpg\n",
            "photo/tom3.jpg\n",
            "photo/liudehua7.jpg\n",
            "photo/liudehua1.jpg\n",
            "photo/liudehua3.jpg\n",
            "photo/liudehua2.jpg\n",
            "photo/liudehua6.jpg\n",
            "photo/liudehua4.jpg\n",
            "photo/liudehua5.jpg\n",
            "photo/wangzuxian1.jpeg\n",
            "photo/wangzuxian3.jpg\n",
            "photo/wangzuxian4.jpg\n",
            "photo/wangzuxian2.jpg\n",
            "photo/cr1.jpg\n",
            "photo/cr6.jpg\n",
            "photo/cr3.jpg\n",
            "photo/cr2.jpg\n",
            "photo/cr5.jpg\n",
            "photo/cr4.jpg\n",
            "photo/liming1.jpg\n",
            "photo/liming4.jpg\n",
            "photo/liming3.jpeg\n",
            "photo/liming2.jpg\n",
            "photo/daoenqiangsen3.jpg\n",
            "photo/daoenqiangsen1.jpg\n",
            "no face\n",
            "photo/zhanghuimei2.jpg\n",
            "photo/zhanghuimei3.jpg\n",
            "photo/zhanghuimei4.jpeg\n",
            "photo/zhanghuimei1.jpg\n",
            "photo/meiyanfang1.jpg\n",
            "photo/meiyanfang4.jpg\n",
            "photo/meiyanfang2.jpg\n",
            "photo/meiyanfang3.jpeg\n",
            "photo/meiyanfang5.jpg\n",
            "photo/qiqin2.jpg\n",
            "photo/qiqin1.jpg\n",
            "photo/qiqin3.jpeg\n"
          ],
          "name": "stdout"
        }
      ]
    },
    {
      "cell_type": "code",
      "metadata": {
        "id": "b4NS6wrGU6fR"
      },
      "source": [
        "X = np.array(detected_photo) ## This is the training data matrix"
      ],
      "execution_count": 106,
      "outputs": []
    },
    {
      "cell_type": "code",
      "metadata": {
        "id": "bULsJRZ8U6fT"
      },
      "source": [
        "\n",
        "y_height = data.height.values ## all labels\n",
        "y_weight = data.weight.values\n",
        "y_BMI = data.BMI.values"
      ],
      "execution_count": 107,
      "outputs": []
    },
    {
      "cell_type": "code",
      "metadata": {
        "id": "wsOumunSU6fU"
      },
      "source": [
        "from sklearn.model_selection import train_test_split\n",
        "X_train, X_test, y_height_train, y_height_test, y_weight_train, y_weight_test ,y_BMI_train, y_BMI_test = train_test_split(X, y_height,y_weight,y_BMI, random_state=1)"
      ],
      "execution_count": 108,
      "outputs": []
    },
    {
      "cell_type": "markdown",
      "metadata": {
        "id": "_U8BJuwJU6fW"
      },
      "source": [
        "## Measurement"
      ]
    },
    {
      "cell_type": "code",
      "metadata": {
        "id": "BSfwD0auU6fW"
      },
      "source": [
        "def report_goodness(model,X_test,y_test,predictor_log=True):\n",
        "    # Make predictions using the testing set\n",
        "    y_pred = model.predict(X_test)\n",
        "    y_true = y_test\n",
        "    if predictor_log:\n",
        "        y_true = np.log(y_test)\n",
        "    # The coefficients\n",
        "    # The mean squared error\n",
        "    print(\"Mean squared error: %.2f\"      % mean_squared_error(y_true, y_pred))\n",
        "    # Explained variance score: 1 is perfect prediction\n",
        "    print('Variance score: %.2f' % r2_score(y_true, y_pred))\n",
        "    \n",
        "    errors = abs(y_pred - y_true)\n",
        "    mape = 100 * np.mean(errors / y_true)\n",
        "    accuracy = 100 - mape\n",
        "    print('Model Performance')\n",
        "    print('Average Error: {:0.4f} degrees.'.format(np.mean(errors)))\n",
        "    print('Accuracy = {:0.2f}%.'.format(accuracy))"
      ],
      "execution_count": 124,
      "outputs": []
    },
    {
      "cell_type": "markdown",
      "metadata": {
        "id": "_h5DTTGbU6fY"
      },
      "source": [
        "## Model selection \n",
        "\n"
      ]
    },
    {
      "cell_type": "code",
      "metadata": {
        "id": "X8fyB0ouU6fY"
      },
      "source": [
        "from sklearn.svm import SVR\n",
        "from sklearn.metrics import mean_squared_error, r2_score"
      ],
      "execution_count": 125,
      "outputs": []
    },
    {
      "cell_type": "markdown",
      "metadata": {
        "id": "o7dKoDdzU6fa"
      },
      "source": [
        "## Height"
      ]
    },
    {
      "cell_type": "code",
      "metadata": {
        "id": "nH_l11xpU6fb",
        "outputId": "7956547c-40ad-4e7f-ce37-5877ae23c091",
        "colab": {
          "base_uri": "https://localhost:8080/"
        }
      },
      "source": [
        "from sklearn import  linear_model\n",
        "model_height = linear_model.LinearRegression()\n",
        "model_height = model_height.fit(X_train,np.log(y_height_train))\n",
        "report_goodness(model_height,X_test,y_height_test)"
      ],
      "execution_count": 164,
      "outputs": [
        {
          "output_type": "stream",
          "text": [
            "Mean squared error: 0.76\n",
            "Variance score: 0.21\n",
            "Model Performance\n",
            "Average Error: 0.6836 degrees.\n",
            "Accuracy = -16.81%.\n"
          ],
          "name": "stdout"
        }
      ]
    },
    {
      "cell_type": "code",
      "metadata": {
        "id": "biEWANDIBmJa",
        "outputId": "2009de68-4b19-4455-8452-cfc482ed4a27",
        "colab": {
          "base_uri": "https://localhost:8080/"
        }
      },
      "source": [
        "from sklearn.ensemble import BaggingRegressor\n",
        "model_height = BaggingRegressor()\n",
        "model_height = model_height.fit(X_train,np.log(y_height_train))\n",
        "report_goodness(model_height,X_test,y_height_test)"
      ],
      "execution_count": 166,
      "outputs": [
        {
          "output_type": "stream",
          "text": [
            "Mean squared error: 0.56\n",
            "Variance score: 0.42\n",
            "Model Performance\n",
            "Average Error: 0.3378 degrees.\n",
            "Accuracy = 55.82%.\n"
          ],
          "name": "stdout"
        }
      ]
    },
    {
      "cell_type": "code",
      "metadata": {
        "id": "w8OJJLnpFklW",
        "outputId": "7d06422f-e03a-46b7-c0ba-967ee79b3eee",
        "colab": {
          "base_uri": "https://localhost:8080/"
        }
      },
      "source": [
        "from sklearn import ensemble\n",
        "model_height = ensemble.GradientBoostingRegressor(n_estimators=100)#这里使用100个决策树\n",
        "model_height = model_height.fit(X_train,np.log(y_height_train))\n",
        "report_goodness(model_height,X_test,y_height_test)"
      ],
      "execution_count": 167,
      "outputs": [
        {
          "output_type": "stream",
          "text": [
            "Mean squared error: 0.49\n",
            "Variance score: 0.49\n",
            "Model Performance\n",
            "Average Error: 0.2451 degrees.\n",
            "Accuracy = 68.79%.\n"
          ],
          "name": "stdout"
        }
      ]
    },
    {
      "cell_type": "code",
      "metadata": {
        "id": "aOzZUkxoBmRv",
        "outputId": "f5ea54e5-6e0b-4cc0-e5f0-3aeacb0ca8c3",
        "colab": {
          "base_uri": "https://localhost:8080/"
        }
      },
      "source": [
        "from sklearn import ensemble\n",
        "model_height = ensemble.AdaBoostRegressor(n_estimators=50)#这里使用50个决策树\n",
        "model_height = model_height.fit(X_train,np.log(y_height_train))\n",
        "report_goodness(model_height,X_test,y_height_test)"
      ],
      "execution_count": 168,
      "outputs": [
        {
          "output_type": "stream",
          "text": [
            "Mean squared error: 0.24\n",
            "Variance score: 0.75\n",
            "Model Performance\n",
            "Average Error: 0.0825 degrees.\n",
            "Accuracy = 93.65%.\n"
          ],
          "name": "stdout"
        }
      ]
    },
    {
      "cell_type": "code",
      "metadata": {
        "id": "uqcyDUJgHGaB",
        "outputId": "2a93b0db-5189-4f4f-cb1d-cc946e63fbee",
        "colab": {
          "base_uri": "https://localhost:8080/"
        }
      },
      "source": [
        "from sklearn.linear_model import Ridge\n",
        "model_height = Ridge(fit_intercept=True, alpha=0.0015, random_state=4, normalize=True)\n",
        "model_height = model_height.fit(X_train,np.log(y_height_train))\n",
        "report_goodness(model_height,X_test,y_height_test)"
      ],
      "execution_count": 169,
      "outputs": [
        {
          "output_type": "stream",
          "text": [
            "Mean squared error: 0.61\n",
            "Variance score: 0.37\n",
            "Model Performance\n",
            "Average Error: 0.5955 degrees.\n",
            "Accuracy = 1.27%.\n"
          ],
          "name": "stdout"
        }
      ]
    },
    {
      "cell_type": "code",
      "metadata": {
        "id": "ECtRlWu-HRP8",
        "outputId": "fa1d0a6f-bc15-486f-b574-427e37fede83",
        "colab": {
          "base_uri": "https://localhost:8080/"
        }
      },
      "source": [
        "from sklearn.ensemble import RandomForestRegressor\n",
        "model_height = RandomForestRegressor(max_depth=2, random_state=0,\n",
        "                             n_estimators=100)\n",
        "model_height = model_height.fit(X_train,np.log(y_height_train))\n",
        "report_goodness(model_height,X_test,y_height_test)"
      ],
      "execution_count": 170,
      "outputs": [
        {
          "output_type": "stream",
          "text": [
            "Mean squared error: 0.53\n",
            "Variance score: 0.45\n",
            "Model Performance\n",
            "Average Error: 0.3433 degrees.\n",
            "Accuracy = 54.97%.\n"
          ],
          "name": "stdout"
        }
      ]
    },
    {
      "cell_type": "code",
      "metadata": {
        "id": "Td8wavsVHfbt",
        "outputId": "09e68667-a1a5-431b-b167-25be6e309b54",
        "colab": {
          "base_uri": "https://localhost:8080/"
        }
      },
      "source": [
        "from sklearn.kernel_ridge import KernelRidge\n",
        "model_height = KernelRidge(kernel='rbf', gamma=0.21,alpha=0.0017)\n",
        "model_height = model_height.fit(X_train,np.log(y_height_train))\n",
        "report_goodness(model_height,X_test,y_height_test)"
      ],
      "execution_count": 173,
      "outputs": [
        {
          "output_type": "stream",
          "text": [
            "Mean squared error: 0.17\n",
            "Variance score: 0.82\n",
            "Model Performance\n",
            "Average Error: 0.2731 degrees.\n",
            "Accuracy = 56.79%.\n"
          ],
          "name": "stdout"
        }
      ]
    },
    {
      "cell_type": "markdown",
      "metadata": {
        "id": "DDomQu3EU6fe"
      },
      "source": [
        "## Weight"
      ]
    },
    {
      "cell_type": "code",
      "metadata": {
        "id": "Az5VpmbMU6fe",
        "outputId": "99557510-9105-4b97-e719-385f9f5b3e31",
        "colab": {
          "base_uri": "https://localhost:8080/"
        }
      },
      "source": [
        "from sklearn import  linear_model\n",
        "model_weight = linear_model.LinearRegression()\n",
        "model_weight = model_weight.fit(X_train,np.log(y_weight_train))\n",
        "report_goodness(model_weight,X_test,y_weight_test)"
      ],
      "execution_count": 181,
      "outputs": [
        {
          "output_type": "stream",
          "text": [
            "Mean squared error: 0.01\n",
            "Variance score: 0.80\n",
            "Model Performance\n",
            "Average Error: 0.0822 degrees.\n",
            "Accuracy = 98.02%.\n"
          ],
          "name": "stdout"
        }
      ]
    },
    {
      "cell_type": "code",
      "metadata": {
        "id": "thIawe6wU6fg",
        "outputId": "09d2d618-8eec-4160-cffd-1575484f0e8f",
        "colab": {
          "base_uri": "https://localhost:8080/"
        }
      },
      "source": [
        "from sklearn.ensemble import BaggingRegressor\n",
        "model_weight = BaggingRegressor()\n",
        "model_weight = model_weight.fit(X_train,np.log(y_weight_train))\n",
        "report_goodness(model_weight,X_test,y_weight_test)"
      ],
      "execution_count": 182,
      "outputs": [
        {
          "output_type": "stream",
          "text": [
            "Mean squared error: 0.02\n",
            "Variance score: 0.66\n",
            "Model Performance\n",
            "Average Error: 0.0967 degrees.\n",
            "Accuracy = 97.68%.\n"
          ],
          "name": "stdout"
        }
      ]
    },
    {
      "cell_type": "code",
      "metadata": {
        "id": "cM0hF-9vI4QS",
        "outputId": "ad459472-d417-421a-a931-35413aad5a9b",
        "colab": {
          "base_uri": "https://localhost:8080/"
        }
      },
      "source": [
        "from sklearn import ensemble\n",
        "model_weight = ensemble.GradientBoostingRegressor(n_estimators=100)#这里使用100个决策树\n",
        "model_weight = model_weight.fit(X_train,np.log(y_weight_train))\n",
        "report_goodness(model_weight,X_test,y_weight_test)"
      ],
      "execution_count": 183,
      "outputs": [
        {
          "output_type": "stream",
          "text": [
            "Mean squared error: 0.01\n",
            "Variance score: 0.78\n",
            "Model Performance\n",
            "Average Error: 0.0781 degrees.\n",
            "Accuracy = 98.13%.\n"
          ],
          "name": "stdout"
        }
      ]
    },
    {
      "cell_type": "code",
      "metadata": {
        "id": "hKmvXq1HJG0Y",
        "outputId": "59bbb8a0-dcb9-4365-f4bf-b2f3a883e704",
        "colab": {
          "base_uri": "https://localhost:8080/"
        }
      },
      "source": [
        "from sklearn import ensemble\n",
        "model_weight = ensemble.AdaBoostRegressor(n_estimators=50)#这里使用50个决策树\n",
        "model_weight = model_weight.fit(X_train,np.log(y_weight_train))\n",
        "report_goodness(model_weight,X_test,y_weight_test)"
      ],
      "execution_count": 184,
      "outputs": [
        {
          "output_type": "stream",
          "text": [
            "Mean squared error: 0.02\n",
            "Variance score: 0.71\n",
            "Model Performance\n",
            "Average Error: 0.0957 degrees.\n",
            "Accuracy = 97.69%.\n"
          ],
          "name": "stdout"
        }
      ]
    },
    {
      "cell_type": "code",
      "metadata": {
        "id": "WBF1M4oEJN9q",
        "outputId": "f591a5db-8a9e-4523-dd03-75d4f69590d2",
        "colab": {
          "base_uri": "https://localhost:8080/"
        }
      },
      "source": [
        "from sklearn.linear_model import Ridge\n",
        "model_weight = Ridge(fit_intercept=True, alpha=0.0015, random_state=4, normalize=True)\n",
        "model_weight = model_weight.fit(X_train,np.log(y_weight_train))\n",
        "report_goodness(model_weight,X_test,y_weight_test)"
      ],
      "execution_count": 185,
      "outputs": [
        {
          "output_type": "stream",
          "text": [
            "Mean squared error: 0.01\n",
            "Variance score: 0.76\n",
            "Model Performance\n",
            "Average Error: 0.0866 degrees.\n",
            "Accuracy = 97.92%.\n"
          ],
          "name": "stdout"
        }
      ]
    },
    {
      "cell_type": "code",
      "metadata": {
        "id": "yMoP4zavJOEJ",
        "outputId": "ee251c9c-746f-4262-ccd5-0f0d9fa14d9d",
        "colab": {
          "base_uri": "https://localhost:8080/"
        }
      },
      "source": [
        "from sklearn.ensemble import RandomForestRegressor\n",
        "model_weight = RandomForestRegressor(max_depth=2, random_state=0,\n",
        "                             n_estimators=100)\n",
        "model_weight = model_weight.fit(X_train,np.log(y_weight_train))\n",
        "report_goodness(model_weight,X_test,y_weight_test)"
      ],
      "execution_count": 188,
      "outputs": [
        {
          "output_type": "stream",
          "text": [
            "Mean squared error: 0.03\n",
            "Variance score: 0.51\n",
            "Model Performance\n",
            "Average Error: 0.1222 degrees.\n",
            "Accuracy = 97.07%.\n"
          ],
          "name": "stdout"
        }
      ]
    },
    {
      "cell_type": "code",
      "metadata": {
        "id": "dNrP-MfcJnae",
        "outputId": "ac228c26-ba4e-42e2-b050-a80daccc4c53",
        "colab": {
          "base_uri": "https://localhost:8080/"
        }
      },
      "source": [
        "from sklearn.kernel_ridge import KernelRidge\n",
        "model_weight = KernelRidge(kernel='rbf', gamma=0.21,alpha=0.0017)\n",
        "model_weight = model_weight.fit(X_train,np.log(y_weight_train))\n",
        "report_goodness(model_weight,X_test,y_weight_test)"
      ],
      "execution_count": 189,
      "outputs": [
        {
          "output_type": "stream",
          "text": [
            "Mean squared error: 0.01\n",
            "Variance score: 0.87\n",
            "Model Performance\n",
            "Average Error: 0.0636 degrees.\n",
            "Accuracy = 98.46%.\n"
          ],
          "name": "stdout"
        }
      ]
    },
    {
      "cell_type": "markdown",
      "metadata": {
        "id": "IkeEW2pzU6fi"
      },
      "source": [
        "## BMI"
      ]
    },
    {
      "cell_type": "code",
      "metadata": {
        "id": "dKyrqAXhU6fi",
        "outputId": "138d123f-1f02-4b44-a999-42ae0284171b",
        "colab": {
          "base_uri": "https://localhost:8080/"
        }
      },
      "source": [
        "model_BMI = BaggingRegressor()\n",
        "model_BMI = model_BMI.fit(X_train,np.log(y_BMI_train))\n",
        "report_goodness(model_BMI,X_test,y_BMI_test)"
      ],
      "execution_count": 191,
      "outputs": [
        {
          "output_type": "stream",
          "text": [
            "Mean squared error: 0.01\n",
            "Variance score: 0.60\n",
            "Model Performance\n",
            "Average Error: 0.0846 degrees.\n",
            "Accuracy = 97.29%.\n"
          ],
          "name": "stdout"
        }
      ]
    },
    {
      "cell_type": "code",
      "metadata": {
        "id": "jauKDkRxU6fk",
        "outputId": "fd6adff1-438e-41ac-f1f9-948367d14ab3",
        "colab": {
          "base_uri": "https://localhost:8080/"
        }
      },
      "source": [
        "model_BMI = linear_model.LinearRegression()\n",
        "model_BMI = model_BMI.fit(X_train,np.log(y_BMI_train))\n",
        "report_goodness(model_BMI,X_test,y_BMI_test)"
      ],
      "execution_count": 192,
      "outputs": [
        {
          "output_type": "stream",
          "text": [
            "Mean squared error: 0.02\n",
            "Variance score: 0.45\n",
            "Model Performance\n",
            "Average Error: 0.1029 degrees.\n",
            "Accuracy = 96.69%.\n"
          ],
          "name": "stdout"
        }
      ]
    },
    {
      "cell_type": "code",
      "metadata": {
        "id": "I-yMcDJ6KOq4",
        "outputId": "5e19ef49-4e59-4026-9393-c50f17f4d0c6",
        "colab": {
          "base_uri": "https://localhost:8080/"
        }
      },
      "source": [
        "model_BMI = ensemble.GradientBoostingRegressor(n_estimators=100)#这里使用100个决策树\n",
        "model_BMI = model_BMI.fit(X_train,np.log(y_BMI_train))\n",
        "report_goodness(model_BMI,X_test,y_BMI_test)"
      ],
      "execution_count": 193,
      "outputs": [
        {
          "output_type": "stream",
          "text": [
            "Mean squared error: 0.01\n",
            "Variance score: 0.80\n",
            "Model Performance\n",
            "Average Error: 0.0654 degrees.\n",
            "Accuracy = 97.89%.\n"
          ],
          "name": "stdout"
        }
      ]
    },
    {
      "cell_type": "code",
      "metadata": {
        "id": "SfsaGBYwKOvt",
        "outputId": "c2dfc01f-d9c4-4da1-ca06-7a25ea4dd987",
        "colab": {
          "base_uri": "https://localhost:8080/"
        }
      },
      "source": [
        "model_BMI = ensemble.AdaBoostRegressor(n_estimators=50)#这里使用50个决策树\n",
        "model_BMI = model_BMI.fit(X_train,np.log(y_BMI_train))\n",
        "report_goodness(model_BMI,X_test,y_BMI_test)"
      ],
      "execution_count": 194,
      "outputs": [
        {
          "output_type": "stream",
          "text": [
            "Mean squared error: 0.01\n",
            "Variance score: 0.76\n",
            "Model Performance\n",
            "Average Error: 0.0740 degrees.\n",
            "Accuracy = 97.59%.\n"
          ],
          "name": "stdout"
        }
      ]
    },
    {
      "cell_type": "code",
      "metadata": {
        "id": "rQ3eLQd5KO1k",
        "outputId": "0c5912ba-5f7f-451a-c767-c8e2a9ded717",
        "colab": {
          "base_uri": "https://localhost:8080/"
        }
      },
      "source": [
        "model_BMI = Ridge(fit_intercept=True, alpha=0.0015, random_state=4, normalize=True)\n",
        "model_BMI = model_BMI.fit(X_train,np.log(y_BMI_train))\n",
        "report_goodness(model_BMI,X_test,y_BMI_test)"
      ],
      "execution_count": 195,
      "outputs": [
        {
          "output_type": "stream",
          "text": [
            "Mean squared error: 0.02\n",
            "Variance score: 0.50\n",
            "Model Performance\n",
            "Average Error: 0.0980 degrees.\n",
            "Accuracy = 96.85%.\n"
          ],
          "name": "stdout"
        }
      ]
    },
    {
      "cell_type": "code",
      "metadata": {
        "id": "Ng7_ekaRKO7v",
        "outputId": "77df30db-b879-4456-bf6b-969542a9dbc7",
        "colab": {
          "base_uri": "https://localhost:8080/"
        }
      },
      "source": [
        "model_BMI = RandomForestRegressor(max_depth=2, random_state=0,\n",
        "                             n_estimators=100)\n",
        "model_BMI = model_BMI.fit(X_train,np.log(y_BMI_train))\n",
        "report_goodness(model_BMI,X_test,y_BMI_test)"
      ],
      "execution_count": 196,
      "outputs": [
        {
          "output_type": "stream",
          "text": [
            "Mean squared error: 0.02\n",
            "Variance score: 0.46\n",
            "Model Performance\n",
            "Average Error: 0.1072 degrees.\n",
            "Accuracy = 96.56%.\n"
          ],
          "name": "stdout"
        }
      ]
    },
    {
      "cell_type": "code",
      "metadata": {
        "id": "ooI_lLYyK-O5",
        "outputId": "63c5ebfd-0ac0-4dec-a2ca-ae8e1eacbe09",
        "colab": {
          "base_uri": "https://localhost:8080/"
        }
      },
      "source": [
        "model_BMI = KernelRidge(kernel='rbf', gamma=0.21,alpha=0.0017)\n",
        "model_BMI = model_BMI.fit(X_train,np.log(y_BMI_train))\n",
        "report_goodness(model_BMI,X_test,y_BMI_test)"
      ],
      "execution_count": 197,
      "outputs": [
        {
          "output_type": "stream",
          "text": [
            "Mean squared error: 0.00\n",
            "Variance score: 0.89\n",
            "Model Performance\n",
            "Average Error: 0.0470 degrees.\n",
            "Accuracy = 98.47%.\n"
          ],
          "name": "stdout"
        }
      ]
    },
    {
      "cell_type": "markdown",
      "metadata": {
        "id": "oQt23LzHU6fl"
      },
      "source": [
        "Finally we decided to use KernelRidge model, because it s variance score is the highest, which means it can represent more situations."
      ]
    },
    {
      "cell_type": "markdown",
      "metadata": {
        "id": "DqWxCBSdU6gV"
      },
      "source": [
        "## save all models "
      ]
    },
    {
      "cell_type": "code",
      "metadata": {
        "id": "Nx5Osm_YU6gV",
        "outputId": "911a6730-cea0-432b-a71d-b880d1c4bd5a",
        "colab": {
          "base_uri": "https://localhost:8080/"
        }
      },
      "source": [
        "from sklearn.externals import joblib"
      ],
      "execution_count": 198,
      "outputs": [
        {
          "output_type": "stream",
          "text": [
            "/usr/local/lib/python3.6/dist-packages/sklearn/externals/joblib/__init__.py:15: FutureWarning: sklearn.externals.joblib is deprecated in 0.21 and will be removed in 0.23. Please import this functionality directly from joblib, which can be installed with: pip install joblib. If this warning is raised when loading pickled models, you may need to re-serialize those models with scikit-learn 0.21+.\n",
            "  warnings.warn(msg, category=FutureWarning)\n"
          ],
          "name": "stderr"
        }
      ]
    },
    {
      "cell_type": "markdown",
      "metadata": {
        "id": "BP97A0GtU6gW"
      },
      "source": [
        "# save the model to disk"
      ]
    },
    {
      "cell_type": "code",
      "metadata": {
        "id": "0HERz6-yU6gW",
        "outputId": "eae3e810-19fb-45c7-fa37-0932683b02b3",
        "colab": {
          "base_uri": "https://localhost:8080/"
        }
      },
      "source": [
        "height_model = 'weight_predictor.model'\n",
        "weight_model = 'height_predictor.model'\n",
        "bmi_model = 'bmi_predictor.model'\n",
        "joblib.dump(model_height, height_model)\n",
        "joblib.dump(model_weight, weight_model)\n",
        "joblib.dump(model_BMI, bmi_model)"
      ],
      "execution_count": 210,
      "outputs": [
        {
          "output_type": "execute_result",
          "data": {
            "text/plain": [
              "['bmi_predictor.model']"
            ]
          },
          "metadata": {
            "tags": []
          },
          "execution_count": 210
        }
      ]
    },
    {
      "cell_type": "markdown",
      "metadata": {
        "id": "Qn9lZJ3QU6gY"
      },
      "source": [
        "# load the model from disk"
      ]
    },
    {
      "cell_type": "code",
      "metadata": {
        "id": "qtaZNIywU6gY"
      },
      "source": [
        "height_model = 'weight_predictor.model'\n",
        "weight_model = 'height_predictor.model'\n",
        "bmi_model = 'bmi_predictor.model'\n",
        "height_model = joblib.load(height_model)\n",
        "weight_model = joblib.load(weight_model)\n",
        "bmi_model = joblib.load(bmi_model)"
      ],
      "execution_count": 221,
      "outputs": []
    },
    {
      "cell_type": "markdown",
      "metadata": {
        "id": "BsoGt0OVU6ga"
      },
      "source": [
        "## test "
      ]
    },
    {
      "cell_type": "code",
      "metadata": {
        "id": "OBWluRcCU6ga"
      },
      "source": [
        "def predict_height_width_BMI(test_image,height_model,weight_model,bmi_model):\n",
        "    test_array = np.expand_dims(np.array(face_detect(test_image)),axis=0)\n",
        "    height = np.asscalar(np.exp(height_model.predict(test_array)))\n",
        "    weight = np.asscalar(np.exp(weight_model.predict(test_array)))\n",
        "    bmi = np.asscalar(np.exp(bmi_model.predict(test_array)))\n",
        "    return {'height':height,'weight':weight,'bmi':bmi}\n",
        "    "
      ],
      "execution_count": 216,
      "outputs": []
    },
    {
      "cell_type": "markdown",
      "metadata": {
        "id": "-sBxczQqU6gb"
      },
      "source": [
        "## prediction on test images"
      ]
    },
    {
      "cell_type": "code",
      "metadata": {
        "id": "wfcXIwKNU6gc"
      },
      "source": [
        "from IPython.display import Image"
      ],
      "execution_count": 213,
      "outputs": []
    },
    {
      "cell_type": "code",
      "metadata": {
        "id": "jsZH3wYXU6gd",
        "outputId": "27f2996a-288d-4695-98d9-73c9774fc8dc",
        "colab": {
          "base_uri": "https://localhost:8080/",
          "height": 225
        }
      },
      "source": [
        "test_image = 'height_weight_test/23.jpg'\n",
        "Image(test_image)"
      ],
      "execution_count": null,
      "outputs": [
        {
          "output_type": "execute_result",
          "data": {
            "image/jpeg": "[encoded data removed]",
            "text/plain": [
              "<IPython.core.display.Image object>"
            ]
          },
          "metadata": {
            "tags": []
          },
          "execution_count": 67
        }
      ]
    },
    {
      "cell_type": "code",
      "metadata": {
        "id": "Es8vtGwIU6ge",
        "outputId": "7dab1c89-5540-4f8a-8973-ef3ccf28cb5b",
        "colab": {
          "base_uri": "https://localhost:8080/",
          "height": 203
        }
      },
      "source": [
        "predict_height_width_BMI(test_image,height_model,weight_model,bmi_model)"
      ],
      "execution_count": null,
      "outputs": [
        {
          "output_type": "stream",
          "text": [
            "height_weight_test/23.jpg\n"
          ],
          "name": "stdout"
        },
        {
          "output_type": "stream",
          "text": [
            "/usr/local/lib/python3.6/dist-packages/ipykernel_launcher.py:3: DeprecationWarning: np.asscalar(a) is deprecated since NumPy v1.16, use a.item() instead\n",
            "  This is separate from the ipykernel package so we can avoid doing imports until\n",
            "/usr/local/lib/python3.6/dist-packages/ipykernel_launcher.py:4: DeprecationWarning: np.asscalar(a) is deprecated since NumPy v1.16, use a.item() instead\n",
            "  after removing the cwd from sys.path.\n",
            "/usr/local/lib/python3.6/dist-packages/ipykernel_launcher.py:5: DeprecationWarning: np.asscalar(a) is deprecated since NumPy v1.16, use a.item() instead\n",
            "  \"\"\"\n"
          ],
          "name": "stderr"
        },
        {
          "output_type": "execute_result",
          "data": {
            "text/plain": [
              "{'bmi': 22.57836660894522,\n",
              " 'height': 1.7430179499953597,\n",
              " 'weight': 66.88182955016546}"
            ]
          },
          "metadata": {
            "tags": []
          },
          "execution_count": 68
        }
      ]
    },
    {
      "cell_type": "code",
      "metadata": {
        "id": "i6DMfd-TU6ge",
        "outputId": "c61c8824-aa31-458d-e78e-c06b0f792ab7",
        "colab": {
          "base_uri": "https://localhost:8080/",
          "height": 242
        }
      },
      "source": [
        "test_image = '12.jpg'\n",
        "Image(test_image)"
      ],
      "execution_count": 222,
      "outputs": [
        {
          "output_type": "execute_result",
          "data": {
            "image/jpeg": "[encoded data removed]",
            "text/plain": [
              "<IPython.core.display.Image object>"
            ]
          },
          "metadata": {
            "tags": []
          },
          "execution_count": 222
        }
      ]
    },
    {
      "cell_type": "code",
      "metadata": {
        "id": "lcgLWeYyU6gg",
        "outputId": "66430c29-18d3-4f6f-c129-e43961d4ff3e",
        "colab": {
          "base_uri": "https://localhost:8080/"
        }
      },
      "source": [
        "predict_height_width_BMI(test_image,height_model,weight_model,bmi_model)"
      ],
      "execution_count": 223,
      "outputs": [
        {
          "output_type": "stream",
          "text": [
            "12.jpg\n"
          ],
          "name": "stdout"
        },
        {
          "output_type": "stream",
          "text": [
            "/usr/local/lib/python3.6/dist-packages/ipykernel_launcher.py:3: DeprecationWarning: np.asscalar(a) is deprecated since NumPy v1.16, use a.item() instead\n",
            "  This is separate from the ipykernel package so we can avoid doing imports until\n",
            "/usr/local/lib/python3.6/dist-packages/ipykernel_launcher.py:4: DeprecationWarning: np.asscalar(a) is deprecated since NumPy v1.16, use a.item() instead\n",
            "  after removing the cwd from sys.path.\n",
            "/usr/local/lib/python3.6/dist-packages/ipykernel_launcher.py:5: DeprecationWarning: np.asscalar(a) is deprecated since NumPy v1.16, use a.item() instead\n",
            "  \"\"\"\n"
          ],
          "name": "stderr"
        },
        {
          "output_type": "execute_result",
          "data": {
            "text/plain": [
              "{'bmi': 23.68568111531265,\n",
              " 'height': 1.7008816567141105,\n",
              " 'weight': 61.374557499461275}"
            ]
          },
          "metadata": {
            "tags": []
          },
          "execution_count": 223
        }
      ]
    },
    {
      "cell_type": "code",
      "metadata": {
        "id": "I5G9CAEQU6gh",
        "outputId": "7e46540b-cce9-4cac-980b-0a5d729427a2",
        "colab": {
          "base_uri": "https://localhost:8080/",
          "height": 261
        }
      },
      "source": [
        "test_image = '11.jpg'\n",
        "Image(test_image)"
      ],
      "execution_count": 224,
      "outputs": [
        {
          "output_type": "execute_result",
          "data": {
            "image/jpeg": "[encoded data removed]",
            "text/plain": [
              "<IPython.core.display.Image object>"
            ]
          },
          "metadata": {
            "tags": []
          },
          "execution_count": 224
        }
      ]
    },
    {
      "cell_type": "code",
      "metadata": {
        "id": "yFndGjKSU6gj",
        "outputId": "ebf8f069-0f38-49e7-9d5b-8d068668d1f1",
        "colab": {
          "base_uri": "https://localhost:8080/"
        }
      },
      "source": [
        "predict_height_width_BMI(test_image,height_model,weight_model,bmi_model)"
      ],
      "execution_count": 225,
      "outputs": [
        {
          "output_type": "stream",
          "text": [
            "11.jpg\n"
          ],
          "name": "stdout"
        },
        {
          "output_type": "stream",
          "text": [
            "/usr/local/lib/python3.6/dist-packages/ipykernel_launcher.py:3: DeprecationWarning: np.asscalar(a) is deprecated since NumPy v1.16, use a.item() instead\n",
            "  This is separate from the ipykernel package so we can avoid doing imports until\n",
            "/usr/local/lib/python3.6/dist-packages/ipykernel_launcher.py:4: DeprecationWarning: np.asscalar(a) is deprecated since NumPy v1.16, use a.item() instead\n",
            "  after removing the cwd from sys.path.\n",
            "/usr/local/lib/python3.6/dist-packages/ipykernel_launcher.py:5: DeprecationWarning: np.asscalar(a) is deprecated since NumPy v1.16, use a.item() instead\n",
            "  \"\"\"\n"
          ],
          "name": "stderr"
        },
        {
          "output_type": "execute_result",
          "data": {
            "text/plain": [
              "{'bmi': 21.670302908628717,\n",
              " 'height': 1.8834461043339898,\n",
              " 'weight': 80.96250277782457}"
            ]
          },
          "metadata": {
            "tags": []
          },
          "execution_count": 225
        }
      ]
    }
  ]
}