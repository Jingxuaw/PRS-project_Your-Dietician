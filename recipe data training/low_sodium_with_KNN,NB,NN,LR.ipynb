{
  "nbformat": 4,
  "nbformat_minor": 0,
  "metadata": {
    "colab": {
      "name": "low_sodium_with_KNN,NB,NN.ipynb",
      "provenance": [],
      "collapsed_sections": []
    },
    "kernelspec": {
      "name": "python3",
      "display_name": "Python 3"
    }
  },
  "cells": [
    {
      "cell_type": "code",
      "metadata": {
        "id": "wcZzO8n50dtz",
        "outputId": "18fa96e2-2dcf-48b5-a96f-02f92448622c",
        "colab": {
          "base_uri": "https://localhost:8080/",
          "height": 34
        }
      },
      "source": [
        "from google.colab import drive\n",
        "drive.mount('/content/gdrive')"
      ],
      "execution_count": null,
      "outputs": [
        {
          "output_type": "stream",
          "text": [
            "Mounted at /content/gdrive\n"
          ],
          "name": "stdout"
        }
      ]
    },
    {
      "cell_type": "code",
      "metadata": {
        "id": "szx4FLle1C3A",
        "outputId": "4e0b407a-a85f-4dc5-bc71-cb582868aa21",
        "colab": {
          "base_uri": "https://localhost:8080/",
          "height": 51
        }
      },
      "source": [
        "from ast import literal_eval\n",
        "import pandas as pd\n",
        "import numpy as np\n",
        "import matplotlib\n",
        "import matplotlib.pyplot as plt\n",
        "import seaborn as sns\n",
        "from scipy import sparse as sp_sparse\n",
        "from sklearn.feature_extraction.text import TfidfVectorizer\n",
        "from sklearn.preprocessing import MultiLabelBinarizer\n",
        "from sklearn.naive_bayes import MultinomialNB\n",
        "from sklearn.multiclass import OneVsRestClassifier\n",
        "from sklearn.linear_model import LogisticRegression, RidgeClassifier\n",
        "from sklearn.svm import LinearSVC\n",
        "from sklearn.pipeline import Pipeline\n",
        "from sklearn.feature_extraction.text import CountVectorizer\n",
        "import nltk\n",
        "import re\n",
        "from nltk.corpus import stopwords\n",
        "nltk.download('stopwords')\n",
        "stop_words = set(stopwords.words('english'))"
      ],
      "execution_count": null,
      "outputs": [
        {
          "output_type": "stream",
          "text": [
            "[nltk_data] Downloading package stopwords to /root/nltk_data...\n",
            "[nltk_data]   Unzipping corpora/stopwords.zip.\n"
          ],
          "name": "stdout"
        }
      ]
    },
    {
      "cell_type": "code",
      "metadata": {
        "id": "TpMM7ELy0mbW"
      },
      "source": [
        "from sklearn.model_selection import train_test_split\n",
        "data = pd.read_csv('/content/gdrive/My Drive/project/50000.csv',encoding='ISO-8859-1')\n",
        "# data['tags'] = data['tags'].apply(literal_eval)\n",
        "# x = data.nutrition\n",
        "x = data.drop([\"name\",\"id\",\"contributor_id\",\"submitted\",\"steps\",\"tags\",\"description\",\"ingredients\"],axis = 1)\n",
        "y = data['low-sodium']\n"
      ],
      "execution_count": null,
      "outputs": []
    },
    {
      "cell_type": "code",
      "metadata": {
        "id": "WENhwEEl0qkU"
      },
      "source": [
        "import numpy as np\n",
        "from sklearn.preprocessing import LabelEncoder\n",
        "\n",
        "# Convert each category in the label to an integer\n",
        "# le = LabelEncoder()\n",
        "# y= le.fit_transform(y)\n",
        "X_train,X_test,y_train,y_test = train_test_split(x,y,test_size=1/5,random_state=0)"
      ],
      "execution_count": null,
      "outputs": []
    },
    {
      "cell_type": "code",
      "metadata": {
        "id": "TYiqdBlv9uQE",
        "outputId": "14a1f293-4bf4-4177-f570-1ab0a6dd9c66",
        "colab": {
          "base_uri": "https://localhost:8080/",
          "height": 238
        }
      },
      "source": [
        "print(y)\n",
        "print(y.shape)"
      ],
      "execution_count": null,
      "outputs": [
        {
          "output_type": "stream",
          "text": [
            "0        1\n",
            "1        1\n",
            "2        0\n",
            "3        0\n",
            "4        1\n",
            "        ..\n",
            "49995    1\n",
            "49996    1\n",
            "49997    0\n",
            "49998    0\n",
            "49999    0\n",
            "Name: low-sodium, Length: 50000, dtype: int64\n",
            "(50000,)\n"
          ],
          "name": "stdout"
        }
      ]
    },
    {
      "cell_type": "code",
      "metadata": {
        "id": "O5w-f02p0rAs",
        "outputId": "8dbccb65-6a27-4d56-a05a-3967dfc8034a",
        "colab": {
          "base_uri": "https://localhost:8080/",
          "height": 221
        }
      },
      "source": [
        "print(y_train)"
      ],
      "execution_count": null,
      "outputs": [
        {
          "output_type": "stream",
          "text": [
            "20330    0\n",
            "17532    1\n",
            "45819    0\n",
            "34807    0\n",
            "31888    0\n",
            "        ..\n",
            "21243    1\n",
            "45891    0\n",
            "42613    0\n",
            "43567    0\n",
            "2732     0\n",
            "Name: low-sodium, Length: 40000, dtype: int64\n"
          ],
          "name": "stdout"
        }
      ]
    },
    {
      "cell_type": "code",
      "metadata": {
        "id": "N5Vrty9N0v2M",
        "outputId": "abb09ac2-16b0-4427-8e3f-05d1b22de0c7",
        "colab": {
          "base_uri": "https://localhost:8080/",
          "height": 255
        }
      },
      "source": [
        "print(X_train)"
      ],
      "execution_count": null,
      "outputs": [
        {
          "output_type": "stream",
          "text": [
            "       minutes  healthy  ...  stated_fat  total_carbonhydrate\n",
            "20330       70        0  ...          29                    6\n",
            "17532       60        1  ...           6                   13\n",
            "45819       50        0  ...           0                    5\n",
            "34807      130        1  ...           0                    5\n",
            "31888       25        0  ...          12                    3\n",
            "...        ...      ...  ...         ...                  ...\n",
            "21243       10        1  ...          29                    9\n",
            "45891       10        0  ...           0                    1\n",
            "42613       20        0  ...           0                    0\n",
            "43567        1        0  ...           0                    1\n",
            "2732        20        0  ...          58                   18\n",
            "\n",
            "[40000 rows x 19 columns]\n"
          ],
          "name": "stdout"
        }
      ]
    },
    {
      "cell_type": "markdown",
      "metadata": {
        "id": "s8GF3L4HDDCt"
      },
      "source": [
        " **K-NN**"
      ]
    },
    {
      "cell_type": "code",
      "metadata": {
        "id": "5NaHyG8XCuRf"
      },
      "source": [
        "from sklearn.neighbors import KNeighborsClassifier\n",
        "\n",
        "test_scores = []\n",
        "train_scores = []\n",
        "\n",
        "for i in range(1,21): # Declare an of the KNN classifier class with the value with neighbors.\n",
        "\n",
        "    knn = KNeighborsClassifier(i)\n",
        "    knn.fit(X_train,y_train) # Fit the model with training data and target values\n",
        "    \n",
        "    train_scores.append(knn.score(X_train,y_train))\n",
        "    test_scores.append(knn.score(X_test,y_test))"
      ],
      "execution_count": 9,
      "outputs": []
    },
    {
      "cell_type": "code",
      "metadata": {
        "id": "IYPIC45AC5Hm",
        "outputId": "2637dec4-cdb4-4186-a751-abbb7b5ee013",
        "colab": {
          "base_uri": "https://localhost:8080/",
          "height": 34
        }
      },
      "source": [
        "## score that comes from testing on the same datapoints that were used for training\n",
        "max_train_score = max(train_scores)\n",
        "train_scores_ind = [i for i, v in enumerate(train_scores) if v == max_train_score]\n",
        "print('Max train score {} % and k = {}'.format(max_train_score*100,list(map(lambda x: x+1, train_scores_ind))))"
      ],
      "execution_count": 10,
      "outputs": [
        {
          "output_type": "stream",
          "text": [
            "Max train score 100.0 % and k = [1]\n"
          ],
          "name": "stdout"
        }
      ]
    },
    {
      "cell_type": "code",
      "metadata": {
        "id": "Um1kV2BoC7y6",
        "outputId": "21cdee22-b1a9-4095-c532-07e93355f28a",
        "colab": {
          "base_uri": "https://localhost:8080/",
          "height": 34
        }
      },
      "source": [
        "## score that comes from testing on the datapoints that were split in the beginning to be used for testing solely\n",
        "max_test_score = max(test_scores)\n",
        "test_scores_ind = [i for i, v in enumerate(test_scores) if v == max_test_score]\n",
        "print('Max test score {} % and k = {}'.format(max_test_score*100,list(map(lambda x: x+1, test_scores_ind))))"
      ],
      "execution_count": 11,
      "outputs": [
        {
          "output_type": "stream",
          "text": [
            "Max test score 75.88000000000001 % and k = [11]\n"
          ],
          "name": "stdout"
        }
      ]
    },
    {
      "cell_type": "code",
      "metadata": {
        "id": "-StZyEnBDAY3",
        "outputId": "4d5c35e2-a449-4b1d-dd6e-dada2f54ad7e",
        "colab": {
          "base_uri": "https://localhost:8080/",
          "height": 337
        }
      },
      "source": [
        "plt.figure(figsize=(12,5))\n",
        "plt.plot(range(1,21),train_scores,marker='*',label='Train Score')\n",
        "plt.plot(range(1,21),test_scores,marker='o',label='Test Score')"
      ],
      "execution_count": 12,
      "outputs": [
        {
          "output_type": "execute_result",
          "data": {
            "text/plain": [
              "[<matplotlib.lines.Line2D at 0x7fb0b8fb0748>]"
            ]
          },
          "metadata": {
            "tags": []
          },
          "execution_count": 12
        },
        {
          "output_type": "display_data",
          "data": {
            "image/png": "[encoded data removed]",
            "text/plain": [
              "<Figure size 864x360 with 1 Axes>"
            ]
          },
          "metadata": {
            "tags": [],
            "needs_background": "light"
          }
        }
      ]
    },
    {
      "cell_type": "code",
      "metadata": {
        "id": "tnJjxGh70XgW",
        "outputId": "2f522d39-6caa-4cdf-be77-38631e552504",
        "colab": {
          "base_uri": "https://localhost:8080/",
          "height": 34
        }
      },
      "source": [
        "#Setup a knn classifier with k neighbors\n",
        "knn = KNeighborsClassifier(11)\n",
        "\n",
        "knn.fit(X_train,y_train)\n",
        "knn.score(X_test,y_test)"
      ],
      "execution_count": 17,
      "outputs": [
        {
          "output_type": "execute_result",
          "data": {
            "text/plain": [
              "0.7588"
            ]
          },
          "metadata": {
            "tags": []
          },
          "execution_count": 17
        }
      ]
    },
    {
      "cell_type": "code",
      "metadata": {
        "id": "kvz1c76wztkT",
        "outputId": "21e25947-ff92-48a8-d53f-ad4474002211",
        "colab": {
          "base_uri": "https://localhost:8080/",
          "height": 173
        }
      },
      "source": [
        "#import confusion_matrix\n",
        "from sklearn.metrics import confusion_matrix\n",
        "#let us get the predictions using the classifier we had fit above\n",
        "y_pred = knn.predict(X_test)\n",
        "#confusion_matrix(y_test,y_pred)\n",
        "pd.crosstab(y_test, y_pred, rownames=['True'], colnames=['Predicted'], margins=True)"
      ],
      "execution_count": 19,
      "outputs": [
        {
          "output_type": "execute_result",
          "data": {
            "text/html": [
              "<div>\n",
              "<style scoped>\n",
              "    .dataframe tbody tr th:only-of-type {\n",
              "        vertical-align: middle;\n",
              "    }\n",
              "\n",
              "    .dataframe tbody tr th {\n",
              "        vertical-align: top;\n",
              "    }\n",
              "\n",
              "    .dataframe thead th {\n",
              "        text-align: right;\n",
              "    }\n",
              "</style>\n",
              "<table border=\"1\" class=\"dataframe\">\n",
              "  <thead>\n",
              "    <tr style=\"text-align: right;\">\n",
              "      <th>Predicted</th>\n",
              "      <th>0</th>\n",
              "      <th>1</th>\n",
              "      <th>All</th>\n",
              "    </tr>\n",
              "    <tr>\n",
              "      <th>True</th>\n",
              "      <th></th>\n",
              "      <th></th>\n",
              "      <th></th>\n",
              "    </tr>\n",
              "  </thead>\n",
              "  <tbody>\n",
              "    <tr>\n",
              "      <th>0</th>\n",
              "      <td>6299</td>\n",
              "      <td>810</td>\n",
              "      <td>7109</td>\n",
              "    </tr>\n",
              "    <tr>\n",
              "      <th>1</th>\n",
              "      <td>1602</td>\n",
              "      <td>1289</td>\n",
              "      <td>2891</td>\n",
              "    </tr>\n",
              "    <tr>\n",
              "      <th>All</th>\n",
              "      <td>7901</td>\n",
              "      <td>2099</td>\n",
              "      <td>10000</td>\n",
              "    </tr>\n",
              "  </tbody>\n",
              "</table>\n",
              "</div>"
            ],
            "text/plain": [
              "Predicted     0     1    All\n",
              "True                        \n",
              "0          6299   810   7109\n",
              "1          1602  1289   2891\n",
              "All        7901  2099  10000"
            ]
          },
          "metadata": {
            "tags": []
          },
          "execution_count": 19
        }
      ]
    },
    {
      "cell_type": "code",
      "metadata": {
        "id": "-O0ydBCt1GfU",
        "outputId": "ac83b9e1-2220-4c97-9291-5ba7b27f205c",
        "colab": {
          "base_uri": "https://localhost:8080/",
          "height": 170
        }
      },
      "source": [
        "#import classification_report\n",
        "from sklearn.metrics import classification_report\n",
        "print(classification_report(y_test,y_pred))"
      ],
      "execution_count": 20,
      "outputs": [
        {
          "output_type": "stream",
          "text": [
            "              precision    recall  f1-score   support\n",
            "\n",
            "           0       0.80      0.89      0.84      7109\n",
            "           1       0.61      0.45      0.52      2891\n",
            "\n",
            "    accuracy                           0.76     10000\n",
            "   macro avg       0.71      0.67      0.68     10000\n",
            "weighted avg       0.74      0.76      0.75     10000\n",
            "\n"
          ],
          "name": "stdout"
        }
      ]
    },
    {
      "cell_type": "code",
      "metadata": {
        "id": "dLF8iRyOfM6l",
        "outputId": "967092ca-6932-419f-85c3-5a4b5021bd25",
        "colab": {
          "base_uri": "https://localhost:8080/",
          "height": 295
        }
      },
      "source": [
        "from sklearn.metrics import roc_curve\n",
        "y_pred_proba = knn.predict_proba(X_test)[:,1]\n",
        "fpr, tpr, thresholds = roc_curve(y_test, y_pred_proba)\n",
        "plt.plot([0,1],[0,1],'k--')\n",
        "plt.plot(fpr,tpr, label='Knn')\n",
        "plt.xlabel('fpr')\n",
        "plt.ylabel('tpr')\n",
        "plt.title('Knn(n_neighbors=11) ROC curve')\n",
        "plt.show()"
      ],
      "execution_count": 21,
      "outputs": [
        {
          "output_type": "display_data",
          "data": {
            "image/png": "[encoded data removed]",
            "text/plain": [
              "<Figure size 432x288 with 1 Axes>"
            ]
          },
          "metadata": {
            "tags": [],
            "needs_background": "light"
          }
        }
      ]
    },
    {
      "cell_type": "code",
      "metadata": {
        "id": "mMl9yzhbflcn",
        "outputId": "a920c37e-b323-407c-9834-4c1dd9de8569",
        "colab": {
          "base_uri": "https://localhost:8080/",
          "height": 34
        }
      },
      "source": [
        "#Area under ROC curve\n",
        "from sklearn.metrics import roc_auc_score\n",
        "roc_auc_score(y_test,y_pred_proba)"
      ],
      "execution_count": 22,
      "outputs": [
        {
          "output_type": "execute_result",
          "data": {
            "text/plain": [
              "0.8032234778321399"
            ]
          },
          "metadata": {
            "tags": []
          },
          "execution_count": 22
        }
      ]
    },
    {
      "cell_type": "code",
      "metadata": {
        "id": "irxXTtOafl7I",
        "outputId": "bbb17940-bff4-4431-94c2-08d6c0876e47",
        "colab": {
          "base_uri": "https://localhost:8080/",
          "height": 51
        }
      },
      "source": [
        "#import GridSearchCV\n",
        "from sklearn.model_selection import GridSearchCV\n",
        "#In case of classifier like knn the parameter to be tuned is n_neighbors\n",
        "param_grid = {'n_neighbors':np.arange(1,25)}\n",
        "knn = KNeighborsClassifier()\n",
        "knn_cv= GridSearchCV(knn,param_grid,cv=5)\n",
        "knn_cv.fit(X_train,y_train)\n",
        "\n",
        "print(\"Best Score:\" + str(knn_cv.best_score_))\n",
        "print(\"Best Parameters: \" + str(knn_cv.best_params_))"
      ],
      "execution_count": 23,
      "outputs": [
        {
          "output_type": "stream",
          "text": [
            "Best Score:0.73975\n",
            "Best Parameters: {'n_neighbors': 8}\n"
          ],
          "name": "stdout"
        }
      ]
    },
    {
      "cell_type": "markdown",
      "metadata": {
        "id": "sIF6TKh6fyaE"
      },
      "source": [
        "**NAIVE** **BAYES**"
      ]
    },
    {
      "cell_type": "code",
      "metadata": {
        "id": "TRbaXXg9f33w"
      },
      "source": [
        "from sklearn.naive_bayes import GaussianNB\n",
        "from sklearn.metrics import confusion_matrix\n"
      ],
      "execution_count": 24,
      "outputs": []
    },
    {
      "cell_type": "code",
      "metadata": {
        "id": "f3DlaBOCf4c4",
        "outputId": "6a050c76-f05e-446a-c470-e5d47625b6d3",
        "colab": {
          "base_uri": "https://localhost:8080/",
          "height": 34
        }
      },
      "source": [
        "# Initiating the Gaussian Classifier\n",
        "mod = GaussianNB()\n",
        "\n",
        "# Training your model \n",
        "mod.fit(X_train, y_train)"
      ],
      "execution_count": 25,
      "outputs": [
        {
          "output_type": "execute_result",
          "data": {
            "text/plain": [
              "GaussianNB(priors=None, var_smoothing=1e-09)"
            ]
          },
          "metadata": {
            "tags": []
          },
          "execution_count": 25
        }
      ]
    },
    {
      "cell_type": "code",
      "metadata": {
        "id": "FBTDvi26f4S0"
      },
      "source": [
        "# Predicting Outcome \n",
        "predicted = mod.predict(X_test)"
      ],
      "execution_count": 26,
      "outputs": []
    },
    {
      "cell_type": "code",
      "metadata": {
        "id": "uCAClEKdgETy",
        "outputId": "8fba4bc4-1d79-487d-cee2-5f0fb036b30c",
        "colab": {
          "base_uri": "https://localhost:8080/",
          "height": 34
        }
      },
      "source": [
        "mod.score(X_test,y_test)"
      ],
      "execution_count": 27,
      "outputs": [
        {
          "output_type": "execute_result",
          "data": {
            "text/plain": [
              "0.9965"
            ]
          },
          "metadata": {
            "tags": []
          },
          "execution_count": 27
        }
      ]
    },
    {
      "cell_type": "code",
      "metadata": {
        "id": "BEEoNgRsgERS",
        "outputId": "f2ba8d8d-8daf-4628-ba3c-07758d7b3f93",
        "colab": {
          "base_uri": "https://localhost:8080/",
          "height": 204
        }
      },
      "source": [
        "# Confusion Matrix\n",
        "y_pred = mod.predict(X_test)\n",
        "print(confusion_matrix(y_test, y_pred))  \n",
        "print(classification_report(y_test, y_pred)) "
      ],
      "execution_count": 28,
      "outputs": [
        {
          "output_type": "stream",
          "text": [
            "[[7075   34]\n",
            " [   1 2890]]\n",
            "              precision    recall  f1-score   support\n",
            "\n",
            "           0       1.00      1.00      1.00      7109\n",
            "           1       0.99      1.00      0.99      2891\n",
            "\n",
            "    accuracy                           1.00     10000\n",
            "   macro avg       0.99      1.00      1.00     10000\n",
            "weighted avg       1.00      1.00      1.00     10000\n",
            "\n"
          ],
          "name": "stdout"
        }
      ]
    },
    {
      "cell_type": "markdown",
      "metadata": {
        "id": "H_4bdFVfIZGc"
      },
      "source": [
        "**NN**"
      ]
    },
    {
      "cell_type": "code",
      "metadata": {
        "id": "Geb_mCzIIYy1"
      },
      "source": [
        "from sklearn.preprocessing import StandardScaler\n",
        "from sklearn.neural_network import MLPClassifier \n",
        "scaler = StandardScaler()  \n",
        "scaler.fit(X_train)\n",
        "\n",
        "X_train = scaler.transform(X_train)  \n",
        "X_test = scaler.transform(X_test)"
      ],
      "execution_count": 29,
      "outputs": []
    },
    {
      "cell_type": "code",
      "metadata": {
        "id": "dBGe4Z_ZIhnz",
        "outputId": "d113a2c9-dfb9-4ad8-ec52-b2c7258685ec",
        "colab": {
          "base_uri": "https://localhost:8080/",
          "height": 527
        }
      },
      "source": [
        "from sklearn.neural_network import MLPClassifier  \n",
        "mlp = MLPClassifier(hidden_layer_sizes=(10,10), max_iter=1000,verbose=2)  \n",
        "mlp.fit(X_train, y_train)  "
      ],
      "execution_count": 30,
      "outputs": [
        {
          "output_type": "stream",
          "text": [
            "Iteration 1, loss = 0.35368448\n",
            "Iteration 2, loss = 0.06091197\n",
            "Iteration 3, loss = 0.01258076\n",
            "Iteration 4, loss = 0.00531883\n",
            "Iteration 5, loss = 0.00262869\n",
            "Iteration 6, loss = 0.00168655\n",
            "Iteration 7, loss = 0.00119119\n",
            "Iteration 8, loss = 0.00089689\n",
            "Iteration 9, loss = 0.00070630\n",
            "Iteration 10, loss = 0.00057198\n",
            "Iteration 11, loss = 0.00046501\n",
            "Iteration 12, loss = 0.00036705\n",
            "Iteration 13, loss = 0.00027386\n",
            "Iteration 14, loss = 0.00018773\n",
            "Iteration 15, loss = 0.00014641\n",
            "Iteration 16, loss = 0.00011984\n",
            "Iteration 17, loss = 0.00009926\n",
            "Iteration 18, loss = 0.00008376\n",
            "Iteration 19, loss = 0.00007177\n",
            "Iteration 20, loss = 0.00006193\n",
            "Iteration 21, loss = 0.00005394\n",
            "Iteration 22, loss = 0.00004738\n",
            "Training loss did not improve more than tol=0.000100 for 10 consecutive epochs. Stopping.\n"
          ],
          "name": "stdout"
        },
        {
          "output_type": "execute_result",
          "data": {
            "text/plain": [
              "MLPClassifier(activation='relu', alpha=0.0001, batch_size='auto', beta_1=0.9,\n",
              "              beta_2=0.999, early_stopping=False, epsilon=1e-08,\n",
              "              hidden_layer_sizes=(10, 10), learning_rate='constant',\n",
              "              learning_rate_init=0.001, max_fun=15000, max_iter=1000,\n",
              "              momentum=0.9, n_iter_no_change=10, nesterovs_momentum=True,\n",
              "              power_t=0.5, random_state=None, shuffle=True, solver='adam',\n",
              "              tol=0.0001, validation_fraction=0.1, verbose=2, warm_start=False)"
            ]
          },
          "metadata": {
            "tags": []
          },
          "execution_count": 30
        }
      ]
    },
    {
      "cell_type": "code",
      "metadata": {
        "id": "7ZwnUi_6I3Hr",
        "outputId": "00232998-40f9-4b51-8d5d-2534f36df719",
        "colab": {
          "base_uri": "https://localhost:8080/",
          "height": 221
        }
      },
      "source": [
        "predictions = mlp.predict(X_test)\n",
        "\n",
        "from sklearn import metrics \n",
        "print(\"Accuracy\", metrics.accuracy_score(y_test, predictions))\n",
        "print(confusion_matrix(y_test,predictions))  \n",
        "print(classification_report(y_test,predictions))  "
      ],
      "execution_count": 31,
      "outputs": [
        {
          "output_type": "stream",
          "text": [
            "Accuracy 1.0\n",
            "[[7109    0]\n",
            " [   0 2891]]\n",
            "              precision    recall  f1-score   support\n",
            "\n",
            "           0       1.00      1.00      1.00      7109\n",
            "           1       1.00      1.00      1.00      2891\n",
            "\n",
            "    accuracy                           1.00     10000\n",
            "   macro avg       1.00      1.00      1.00     10000\n",
            "weighted avg       1.00      1.00      1.00     10000\n",
            "\n"
          ],
          "name": "stdout"
        }
      ]
    },
    {
      "cell_type": "code",
      "metadata": {
        "id": "pZnUta8CI58j",
        "outputId": "05edd841-e587-41de-9151-070ed145e798",
        "colab": {
          "base_uri": "https://localhost:8080/",
          "height": 51
        }
      },
      "source": [
        "print(\"Accuracy on training set: {:.3f}\".format(mlp.score(X_train, y_train)))\n",
        "print(\"Accuracy on test set: {:.3f}\".format(mlp.score(X_test, y_test)))"
      ],
      "execution_count": 32,
      "outputs": [
        {
          "output_type": "stream",
          "text": [
            "Accuracy on training set: 1.000\n",
            "Accuracy on test set: 1.000\n"
          ],
          "name": "stdout"
        }
      ]
    },
    {
      "cell_type": "code",
      "metadata": {
        "id": "k0JgswVhJO6w"
      },
      "source": [
        "import matplotlib.pyplot as plt\n",
        "%matplotlib inline\n",
        "import matplotlib \n",
        "import pandas as pd\n",
        "import numpy as np"
      ],
      "execution_count": 33,
      "outputs": []
    },
    {
      "cell_type": "code",
      "metadata": {
        "id": "xsOtQ6syJQZf",
        "outputId": "d97cf0b2-3045-4d18-d0ba-13d45b926a32",
        "colab": {
          "base_uri": "https://localhost:8080/",
          "height": 295
        }
      },
      "source": [
        "plt.plot(mlp.loss_curve_)\n",
        "plt.title(\"NN Loss Curve\")\n",
        "plt.xlabel(\"number of steps\")\n",
        "plt.ylabel(\"loss function\")\n",
        "plt.show()"
      ],
      "execution_count": 34,
      "outputs": [
        {
          "output_type": "display_data",
          "data": {
            "image/png": "[encoded data removed]",
            "text/plain": [
              "<Figure size 432x288 with 1 Axes>"
            ]
          },
          "metadata": {
            "tags": [],
            "needs_background": "light"
          }
        }
      ]
    },
    {
      "cell_type": "code",
      "metadata": {
        "id": "kqIYM2ZYJTmJ",
        "outputId": "73acfc4a-4699-4381-b620-d0fa1b243eec",
        "colab": {
          "base_uri": "https://localhost:8080/",
          "height": 34
        }
      },
      "source": [
        "(mlp.intercepts_[0]).shape"
      ],
      "execution_count": 35,
      "outputs": [
        {
          "output_type": "execute_result",
          "data": {
            "text/plain": [
              "(10,)"
            ]
          },
          "metadata": {
            "tags": []
          },
          "execution_count": 35
        }
      ]
    },
    {
      "cell_type": "code",
      "metadata": {
        "id": "tfdzHPEGJVMf",
        "outputId": "0b65b709-c1c8-4790-9e36-b480226ed932",
        "colab": {
          "base_uri": "https://localhost:8080/",
          "height": 34
        }
      },
      "source": [
        "(mlp.coefs_[0]).shape"
      ],
      "execution_count": 36,
      "outputs": [
        {
          "output_type": "execute_result",
          "data": {
            "text/plain": [
              "(19, 10)"
            ]
          },
          "metadata": {
            "tags": []
          },
          "execution_count": 36
        }
      ]
    },
    {
      "cell_type": "code",
      "metadata": {
        "id": "6xVaBC05JXGf",
        "outputId": "2bdd1bf0-66a3-41e9-c82d-8f3bf28f402a",
        "colab": {
          "base_uri": "https://localhost:8080/",
          "height": 51
        }
      },
      "source": [
        "mlp.intercepts_[0]"
      ],
      "execution_count": 37,
      "outputs": [
        {
          "output_type": "execute_result",
          "data": {
            "text/plain": [
              "array([ 0.7180897 ,  0.11634228,  0.3771261 ,  0.72529606,  0.35255133,\n",
              "        0.42571984, -0.28109234,  0.25889351,  0.85043747,  0.33175602])"
            ]
          },
          "metadata": {
            "tags": []
          },
          "execution_count": 37
        }
      ]
    },
    {
      "cell_type": "code",
      "metadata": {
        "id": "nfGWY8aZJYOh",
        "outputId": "d1c30479-c41a-4c5d-aca9-56d5d63cd398",
        "colab": {
          "base_uri": "https://localhost:8080/",
          "height": 1000
        }
      },
      "source": [
        "mlp.coefs_[0]"
      ],
      "execution_count": 38,
      "outputs": [
        {
          "output_type": "execute_result",
          "data": {
            "text/plain": [
              "array([[-1.72022248e-01,  1.13937434e-01,  7.61581037e-02,\n",
              "         1.99643179e-01, -4.52987781e-01,  7.59633865e-02,\n",
              "         1.43812762e-01, -1.99514115e-01, -5.08964714e-02,\n",
              "         1.19743267e-01],\n",
              "       [ 5.00222181e-01,  5.59374577e-02, -6.60455057e-01,\n",
              "         1.42525835e-01, -4.46488981e-01,  3.34977552e-01,\n",
              "        -1.97684079e-01, -1.40015547e-01, -1.68360449e-01,\n",
              "         2.72420909e-01],\n",
              "       [ 3.04382558e-01,  1.40579383e-01, -2.38328765e-01,\n",
              "        -3.16644214e-01, -4.95139153e-01, -3.26698181e-01,\n",
              "        -9.24217363e-02,  2.34650808e-01,  2.28208897e-01,\n",
              "        -7.06723415e-02],\n",
              "       [ 2.83633195e-01, -5.41641222e-02, -4.18682611e-01,\n",
              "        -1.20742213e-01, -9.56169428e-02, -1.43042302e-03,\n",
              "         4.50431116e-01,  4.08475584e-03,  1.01094446e-01,\n",
              "        -1.27332134e-01],\n",
              "       [-9.09506057e-01,  8.81535562e-01, -7.06330799e-01,\n",
              "        -1.96044670e-01, -4.70252426e-01,  5.97785337e-01,\n",
              "         1.89026257e-01,  1.07407395e+00,  7.64428740e-02,\n",
              "        -8.25233208e-01],\n",
              "       [ 2.66825744e-01,  6.32755422e-02, -4.97925745e-01,\n",
              "        -5.01022323e-01,  7.25829917e-02,  2.32654854e-01,\n",
              "         3.26415199e-01, -7.51679678e-02, -4.36103529e-01,\n",
              "        -3.94352860e-02],\n",
              "       [-6.36110915e-02,  2.49558004e-01, -7.83153962e-01,\n",
              "        -6.04258740e-01,  1.55189530e-01, -1.67243230e-01,\n",
              "        -6.26974911e-03, -1.21102390e-02, -1.95390271e-01,\n",
              "         4.71839692e-04],\n",
              "       [-7.01315679e-02, -4.27978305e-02, -2.05190054e-01,\n",
              "        -1.13416347e-01,  4.92319935e-02,  4.20865747e-02,\n",
              "        -3.94518540e-01, -4.02443247e-02,  5.16631554e-01,\n",
              "         9.58661746e-01],\n",
              "       [-3.33146887e-01, -9.00038111e-03, -3.89760755e-01,\n",
              "         2.11300026e-01, -2.28395233e-01, -7.36170933e-02,\n",
              "         1.59475107e-01, -1.24032830e-01,  4.31927344e-01,\n",
              "         5.95206563e-01],\n",
              "       [ 5.72779555e-02, -5.56276368e-02,  1.51401441e-01,\n",
              "        -9.02285153e-02,  3.61214307e-02, -6.65030944e-03,\n",
              "         2.43518229e-01,  6.92965959e-02, -1.06410904e-01,\n",
              "        -1.32920790e-01],\n",
              "       [ 2.54515979e-01, -7.88912370e-02, -7.86954221e-02,\n",
              "         6.69613843e-01, -4.98064156e-02,  2.32749184e-01,\n",
              "        -2.98310441e-01,  9.80797032e-02, -5.54210688e-01,\n",
              "        -3.04821305e-01],\n",
              "       [ 4.11783059e-01, -1.44358167e-02,  8.29562978e-01,\n",
              "        -1.36147029e-01, -8.56595095e-02,  2.42406154e-02,\n",
              "         1.66509819e-01, -2.78576869e-02, -3.31550562e-01,\n",
              "        -2.87865851e-01],\n",
              "       [ 2.10441157e-02, -1.04480756e-02,  5.51334612e-02,\n",
              "         2.33025040e-02, -1.14470635e-01, -4.70871688e-01,\n",
              "         2.37826852e-01, -1.24336728e-01,  3.12601371e-01,\n",
              "        -5.54968371e-01],\n",
              "       [ 2.79567588e-01, -3.29067090e-01,  6.90735538e-02,\n",
              "        -5.79386345e-01, -3.37361252e-01, -2.01130491e-01,\n",
              "         2.08334078e-01,  2.31732370e-01,  3.53087495e-02,\n",
              "         2.81444797e-02],\n",
              "       [ 7.08385216e-02, -8.89490255e-02,  3.43882161e-01,\n",
              "        -1.93950125e-01,  2.05478056e-01, -1.61079975e-01,\n",
              "         2.00871542e-02,  4.02603776e-01,  1.39066262e-01,\n",
              "        -1.81891746e-01],\n",
              "       [ 3.40653993e-01, -5.09109592e-01,  3.56834943e-01,\n",
              "        -7.24997140e-02,  1.51617033e-01,  2.93085803e-01,\n",
              "         4.01892021e-01, -6.97051796e-02, -2.43383644e-01,\n",
              "         3.91837945e-01],\n",
              "       [-2.67305766e-01, -2.38285560e-01,  2.52234475e-01,\n",
              "         2.54256554e-01,  3.73463283e-01,  9.48848652e-02,\n",
              "        -6.37107727e-03,  2.38308506e-01, -3.14494223e-01,\n",
              "        -3.56766932e-01],\n",
              "       [-1.04371236e-01,  4.61944688e-01, -2.44360308e-01,\n",
              "        -5.46692476e-01,  4.14413553e-01,  2.91010438e-01,\n",
              "        -1.24516703e-01, -1.93442545e-01,  9.39181881e-02,\n",
              "         1.79088593e-01],\n",
              "       [-3.33157421e-02,  4.52981091e-03, -7.95250232e-02,\n",
              "        -2.75590583e-01, -2.61025113e-01, -4.29060093e-03,\n",
              "         3.98291150e-01, -2.57066869e-01, -3.16830702e-01,\n",
              "         4.14069149e-02]])"
            ]
          },
          "metadata": {
            "tags": []
          },
          "execution_count": 38
        }
      ]
    },
    {
      "cell_type": "code",
      "metadata": {
        "id": "lEdc6BTCJaRf",
        "outputId": "9f81111a-45d3-45aa-e68f-e667602385f6",
        "colab": {
          "base_uri": "https://localhost:8080/",
          "height": 1000
        }
      },
      "source": [
        "#Adjust the number of hidde Layer/ hidden node to improve the NN performance. Write your code below.\n",
        "\n",
        "mlp = MLPClassifier(hidden_layer_sizes=(5,5), max_iter=1000,verbose=2)  \n",
        "mlp.fit(X_train, y_train) \n",
        "\n",
        "predictions = mlp.predict(X_test)  "
      ],
      "execution_count": 39,
      "outputs": [
        {
          "output_type": "stream",
          "text": [
            "Iteration 1, loss = 0.48409866\n",
            "Iteration 2, loss = 0.26013081\n",
            "Iteration 3, loss = 0.15304984\n",
            "Iteration 4, loss = 0.10415700\n",
            "Iteration 5, loss = 0.08049534\n",
            "Iteration 6, loss = 0.06681169\n",
            "Iteration 7, loss = 0.05699500\n",
            "Iteration 8, loss = 0.04942283\n",
            "Iteration 9, loss = 0.04336102\n",
            "Iteration 10, loss = 0.03839551\n",
            "Iteration 11, loss = 0.03409214\n",
            "Iteration 12, loss = 0.03042233\n",
            "Iteration 13, loss = 0.02721323\n",
            "Iteration 14, loss = 0.02438818\n",
            "Iteration 15, loss = 0.02192344\n",
            "Iteration 16, loss = 0.01976048\n",
            "Iteration 17, loss = 0.01781974\n",
            "Iteration 18, loss = 0.01609090\n",
            "Iteration 19, loss = 0.01457330\n",
            "Iteration 20, loss = 0.01320164\n",
            "Iteration 21, loss = 0.01198794\n",
            "Iteration 22, loss = 0.01091138\n",
            "Iteration 23, loss = 0.00992869\n",
            "Iteration 24, loss = 0.00905401\n",
            "Iteration 25, loss = 0.00826426\n",
            "Iteration 26, loss = 0.00754814\n",
            "Iteration 27, loss = 0.00689936\n",
            "Iteration 28, loss = 0.00631290\n",
            "Iteration 29, loss = 0.00577323\n",
            "Iteration 30, loss = 0.00528509\n",
            "Iteration 31, loss = 0.00483875\n",
            "Iteration 32, loss = 0.00443879\n",
            "Iteration 33, loss = 0.00406766\n",
            "Iteration 34, loss = 0.00372980\n",
            "Iteration 35, loss = 0.00341788\n",
            "Iteration 36, loss = 0.00313620\n",
            "Iteration 37, loss = 0.00287926\n",
            "Iteration 38, loss = 0.00264297\n",
            "Iteration 39, loss = 0.00242793\n",
            "Iteration 40, loss = 0.00223022\n",
            "Iteration 41, loss = 0.00204930\n",
            "Iteration 42, loss = 0.00188314\n",
            "Iteration 43, loss = 0.00173135\n",
            "Iteration 44, loss = 0.00159219\n",
            "Iteration 45, loss = 0.00146405\n",
            "Iteration 46, loss = 0.00134678\n",
            "Iteration 47, loss = 0.00123889\n",
            "Iteration 48, loss = 0.00113993\n",
            "Iteration 49, loss = 0.00104892\n",
            "Iteration 50, loss = 0.00096548\n",
            "Iteration 51, loss = 0.00088865\n",
            "Iteration 52, loss = 0.00081819\n",
            "Iteration 53, loss = 0.00075340\n",
            "Iteration 54, loss = 0.00069359\n",
            "Iteration 55, loss = 0.00063896\n",
            "Iteration 56, loss = 0.00058826\n",
            "Iteration 57, loss = 0.00054202\n",
            "Iteration 58, loss = 0.00049920\n",
            "Training loss did not improve more than tol=0.000100 for 10 consecutive epochs. Stopping.\n"
          ],
          "name": "stdout"
        }
      ]
    },
    {
      "cell_type": "code",
      "metadata": {
        "id": "3xVTuALOJcpg",
        "outputId": "48d58bcc-2878-4a68-a36e-96c1b91ccf1b",
        "colab": {
          "base_uri": "https://localhost:8080/",
          "height": 221
        }
      },
      "source": [
        "from sklearn.metrics import confusion_matrix\n",
        "from sklearn.metrics import classification_report\n",
        "from sklearn import metrics\n",
        "print(\"Accuracy\", metrics.accuracy_score(y_test, predictions))\n",
        "print(confusion_matrix(y_test,predictions))  \n",
        "print(classification_report(y_test,predictions))"
      ],
      "execution_count": 40,
      "outputs": [
        {
          "output_type": "stream",
          "text": [
            "Accuracy 0.9999\n",
            "[[7109    0]\n",
            " [   1 2890]]\n",
            "              precision    recall  f1-score   support\n",
            "\n",
            "           0       1.00      1.00      1.00      7109\n",
            "           1       1.00      1.00      1.00      2891\n",
            "\n",
            "    accuracy                           1.00     10000\n",
            "   macro avg       1.00      1.00      1.00     10000\n",
            "weighted avg       1.00      1.00      1.00     10000\n",
            "\n"
          ],
          "name": "stdout"
        }
      ]
    },
    {
      "cell_type": "markdown",
      "metadata": {
        "id": "2-n6qbhefBOB"
      },
      "source": [
        "**Logistic** **Regression**"
      ]
    },
    {
      "cell_type": "code",
      "metadata": {
        "id": "-U_DsYWMfIeL",
        "outputId": "bc4a123b-ff94-44d7-931e-7408f99ea44a",
        "colab": {
          "base_uri": "https://localhost:8080/",
          "height": 51
        }
      },
      "source": [
        "from sklearn.linear_model import LogisticRegression\n",
        "logreg = LogisticRegression(C=0.01, max_iter=10000).fit(X_train, y_train)\n",
        "print(\"Training set score: {:.3f}\".format(logreg.score(X_train, y_train)))\n",
        "print(\"Test set score: {:.3f}\".format(logreg.score(X_test, y_test)))"
      ],
      "execution_count": 41,
      "outputs": [
        {
          "output_type": "stream",
          "text": [
            "Training set score: 1.000\n",
            "Test set score: 1.000\n"
          ],
          "name": "stdout"
        }
      ]
    },
    {
      "cell_type": "code",
      "metadata": {
        "id": "EXd8Nhr0fJk1",
        "outputId": "815c906d-e0d9-4b82-b9b5-434a7a94beb7",
        "colab": {
          "base_uri": "https://localhost:8080/",
          "height": 34
        }
      },
      "source": [
        "logreg.intercept_.T"
      ],
      "execution_count": 42,
      "outputs": [
        {
          "output_type": "execute_result",
          "data": {
            "text/plain": [
              "array([-2.32353275])"
            ]
          },
          "metadata": {
            "tags": []
          },
          "execution_count": 42
        }
      ]
    },
    {
      "cell_type": "code",
      "metadata": {
        "id": "ZgY1sTVwfMXV",
        "outputId": "f5f77b0a-65eb-441a-e964-9111095025d0",
        "colab": {
          "base_uri": "https://localhost:8080/",
          "height": 340
        }
      },
      "source": [
        "logreg.coef_.T"
      ],
      "execution_count": 43,
      "outputs": [
        {
          "output_type": "execute_result",
          "data": {
            "text/plain": [
              "array([[-1.89080191e-03],\n",
              "       [ 1.70655986e-01],\n",
              "       [ 8.85500178e-02],\n",
              "       [ 1.84953563e-01],\n",
              "       [ 3.91530601e+00],\n",
              "       [ 8.58644954e-02],\n",
              "       [ 3.68770702e-01],\n",
              "       [-1.66474580e-02],\n",
              "       [ 1.54437890e-02],\n",
              "       [ 1.20385963e-02],\n",
              "       [ 5.50744394e-02],\n",
              "       [-6.53513389e-02],\n",
              "       [ 2.20040825e-02],\n",
              "       [ 4.39464542e-02],\n",
              "       [ 2.43242308e-02],\n",
              "       [-2.67225385e-01],\n",
              "       [ 2.18250153e-02],\n",
              "       [ 3.41853322e-02],\n",
              "       [ 1.16560612e-02]])"
            ]
          },
          "metadata": {
            "tags": []
          },
          "execution_count": 43
        }
      ]
    },
    {
      "cell_type": "code",
      "metadata": {
        "id": "_8i2E3XffMbu",
        "outputId": "892ceee2-87b6-403c-8781-4bc3594efbda",
        "colab": {
          "base_uri": "https://localhost:8080/",
          "height": 221
        }
      },
      "source": [
        "print(y_test)"
      ],
      "execution_count": 44,
      "outputs": [
        {
          "output_type": "stream",
          "text": [
            "11841    0\n",
            "19602    1\n",
            "45519    0\n",
            "25747    1\n",
            "42642    0\n",
            "        ..\n",
            "25091    0\n",
            "27853    0\n",
            "47278    0\n",
            "37020    1\n",
            "2217     0\n",
            "Name: low-sodium, Length: 10000, dtype: int64\n"
          ],
          "name": "stdout"
        }
      ]
    },
    {
      "cell_type": "code",
      "metadata": {
        "id": "TDsgGGMYfMZO",
        "outputId": "c2df25e2-04c2-4f56-fa6e-50f6c82d066b",
        "colab": {
          "base_uri": "https://localhost:8080/",
          "height": 204
        }
      },
      "source": [
        "from sklearn.metrics import classification_report, confusion_matrix  \n",
        "y_pred = logreg.predict(X_test)\n",
        "print(confusion_matrix(y_test, y_pred))  \n",
        "print(classification_report(y_test, y_pred))\n",
        "##before processing data in PCA, we got 0.73 accurancy, from this we can observe the accurancy do not decrease a lot\n",
        "#we can also normally use the model, and largely reduce caculation by using PCA"
      ],
      "execution_count": 45,
      "outputs": [
        {
          "output_type": "stream",
          "text": [
            "[[7109    0]\n",
            " [   0 2891]]\n",
            "              precision    recall  f1-score   support\n",
            "\n",
            "           0       1.00      1.00      1.00      7109\n",
            "           1       1.00      1.00      1.00      2891\n",
            "\n",
            "    accuracy                           1.00     10000\n",
            "   macro avg       1.00      1.00      1.00     10000\n",
            "weighted avg       1.00      1.00      1.00     10000\n",
            "\n"
          ],
          "name": "stdout"
        }
      ]
    },
    {
      "cell_type": "code",
      "metadata": {
        "id": "S4cy5ev3oEj-",
        "outputId": "303e6cae-2187-4924-915a-77d2622b45e9",
        "colab": {
          "base_uri": "https://localhost:8080/",
          "height": 255
        }
      },
      "source": [
        "#!pip install scikit-plot"
      ],
      "execution_count": 47,
      "outputs": [
        {
          "output_type": "stream",
          "text": [
            "Collecting scikit-plot\n",
            "  Downloading https://files.pythonhosted.org/packages/7c/47/32520e259340c140a4ad27c1b97050dd3254fdc517b1d59974d47037510e/scikit_plot-0.3.7-py3-none-any.whl\n",
            "Requirement already satisfied: scipy>=0.9 in /usr/local/lib/python3.6/dist-packages (from scikit-plot) (1.4.1)\n",
            "Requirement already satisfied: scikit-learn>=0.18 in /usr/local/lib/python3.6/dist-packages (from scikit-plot) (0.22.2.post1)\n",
            "Requirement already satisfied: matplotlib>=1.4.0 in /usr/local/lib/python3.6/dist-packages (from scikit-plot) (3.2.2)\n",
            "Requirement already satisfied: joblib>=0.10 in /usr/local/lib/python3.6/dist-packages (from scikit-plot) (0.16.0)\n",
            "Requirement already satisfied: numpy>=1.13.3 in /usr/local/lib/python3.6/dist-packages (from scipy>=0.9->scikit-plot) (1.18.5)\n",
            "Requirement already satisfied: pyparsing!=2.0.4,!=2.1.2,!=2.1.6,>=2.0.1 in /usr/local/lib/python3.6/dist-packages (from matplotlib>=1.4.0->scikit-plot) (2.4.7)\n",
            "Requirement already satisfied: kiwisolver>=1.0.1 in /usr/local/lib/python3.6/dist-packages (from matplotlib>=1.4.0->scikit-plot) (1.2.0)\n",
            "Requirement already satisfied: python-dateutil>=2.1 in /usr/local/lib/python3.6/dist-packages (from matplotlib>=1.4.0->scikit-plot) (2.8.1)\n",
            "Requirement already satisfied: cycler>=0.10 in /usr/local/lib/python3.6/dist-packages (from matplotlib>=1.4.0->scikit-plot) (0.10.0)\n",
            "Requirement already satisfied: six>=1.5 in /usr/local/lib/python3.6/dist-packages (from python-dateutil>=2.1->matplotlib>=1.4.0->scikit-plot) (1.15.0)\n",
            "Installing collected packages: scikit-plot\n",
            "Successfully installed scikit-plot-0.3.7\n"
          ],
          "name": "stdout"
        }
      ]
    },
    {
      "cell_type": "code",
      "metadata": {
        "id": "vA1i-9yFfMSd"
      },
      "source": [
        "#!conda install -c conda-forge scikit-plot\n",
        "import matplotlib.pyplot as plt\n",
        "import scikitplot as skplt\n",
        "y_pred_probas = logreg.predict_proba(X_test)"
      ],
      "execution_count": 48,
      "outputs": []
    },
    {
      "cell_type": "code",
      "metadata": {
        "id": "4tj863DRfazF",
        "outputId": "6ddec315-1de2-4f69-cd1d-8a9cd90e3709",
        "colab": {
          "base_uri": "https://localhost:8080/",
          "height": 295
        }
      },
      "source": [
        "skplt.metrics.plot_cumulative_gain(y_test, y_pred_probas)\n",
        "plt.show()"
      ],
      "execution_count": 49,
      "outputs": [
        {
          "output_type": "display_data",
          "data": {
            "image/png": "[encoded data removed]",
            "text/plain": [
              "<Figure size 432x288 with 1 Axes>"
            ]
          },
          "metadata": {
            "tags": [],
            "needs_background": "light"
          }
        }
      ]
    },
    {
      "cell_type": "code",
      "metadata": {
        "id": "uf7br18Kfbov",
        "outputId": "a9231df3-4d4b-4449-ab94-016be4a26eff",
        "colab": {
          "base_uri": "https://localhost:8080/",
          "height": 295
        }
      },
      "source": [
        "skplt.metrics.plot_lift_curve(y_test, y_pred_probas)\n",
        "plt.show()"
      ],
      "execution_count": 50,
      "outputs": [
        {
          "output_type": "display_data",
          "data": {
            "image/png": "[encoded data removed]",
            "text/plain": [
              "<Figure size 432x288 with 1 Axes>"
            ]
          },
          "metadata": {
            "tags": [],
            "needs_background": "light"
          }
        }
      ]
    }
  ]
}