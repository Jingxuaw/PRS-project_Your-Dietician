{
  "nbformat": 4,
  "nbformat_minor": 0,
  "metadata": {
    "colab": {
      "name": "low_protein_with_KNN,NB,NN.ipynb",
      "provenance": [],
      "collapsed_sections": []
    },
    "kernelspec": {
      "name": "python3",
      "display_name": "Python 3"
    }
  },
  "cells": [
    {
      "cell_type": "code",
      "metadata": {
        "id": "wcZzO8n50dtz",
        "outputId": "b0628e45-9d10-4b72-c9c9-9a54068ac8fc",
        "colab": {
          "base_uri": "https://localhost:8080/",
          "height": 34
        }
      },
      "source": [
        "from google.colab import drive\n",
        "drive.mount('/content/gdrive')"
      ],
      "execution_count": null,
      "outputs": [
        {
          "output_type": "stream",
          "text": [
            "Drive already mounted at /content/gdrive; to attempt to forcibly remount, call drive.mount(\"/content/gdrive\", force_remount=True).\n"
          ],
          "name": "stdout"
        }
      ]
    },
    {
      "cell_type": "code",
      "metadata": {
        "id": "szx4FLle1C3A",
        "outputId": "0e9b84c4-24b6-4744-a6f6-7fb2b735e86c",
        "colab": {
          "base_uri": "https://localhost:8080/",
          "height": 51
        }
      },
      "source": [
        "from ast import literal_eval\n",
        "import pandas as pd\n",
        "import numpy as np\n",
        "import matplotlib\n",
        "import matplotlib.pyplot as plt\n",
        "import seaborn as sns\n",
        "from scipy import sparse as sp_sparse\n",
        "from sklearn.feature_extraction.text import TfidfVectorizer\n",
        "from sklearn.preprocessing import MultiLabelBinarizer\n",
        "from sklearn.naive_bayes import MultinomialNB\n",
        "from sklearn.multiclass import OneVsRestClassifier\n",
        "from sklearn.linear_model import LogisticRegression, RidgeClassifier\n",
        "from sklearn.svm import LinearSVC\n",
        "from sklearn.pipeline import Pipeline\n",
        "from sklearn.feature_extraction.text import CountVectorizer\n",
        "import nltk\n",
        "import re\n",
        "from nltk.corpus import stopwords\n",
        "nltk.download('stopwords')\n",
        "stop_words = set(stopwords.words('english'))"
      ],
      "execution_count": null,
      "outputs": [
        {
          "output_type": "stream",
          "text": [
            "[nltk_data] Downloading package stopwords to /root/nltk_data...\n",
            "[nltk_data]   Package stopwords is already up-to-date!\n"
          ],
          "name": "stdout"
        }
      ]
    },
    {
      "cell_type": "code",
      "metadata": {
        "id": "TpMM7ELy0mbW"
      },
      "source": [
        "from sklearn.model_selection import train_test_split\n",
        "data = pd.read_csv('/content/gdrive/My Drive/project/50000.csv',encoding='ISO-8859-1')\n",
        "# data['tags'] = data['tags'].apply(literal_eval)\n",
        "# x = data.nutrition\n",
        "x = data.drop([\"name\",\"id\",\"contributor_id\",\"submitted\",\"steps\",\"tags\",\"description\",\"ingredients\"],axis = 1)\n",
        "y = data['low-protein']\n"
      ],
      "execution_count": null,
      "outputs": []
    },
    {
      "cell_type": "code",
      "metadata": {
        "id": "WENhwEEl0qkU"
      },
      "source": [
        "import numpy as np\n",
        "from sklearn.preprocessing import LabelEncoder\n",
        "\n",
        "# Convert each category in the label to an integer\n",
        "# le = LabelEncoder()\n",
        "# y= le.fit_transform(y)\n",
        "X_train,X_test,y_train,y_test = train_test_split(x,y,test_size=1/5,random_state=0)"
      ],
      "execution_count": null,
      "outputs": []
    },
    {
      "cell_type": "code",
      "metadata": {
        "id": "TYiqdBlv9uQE",
        "outputId": "440c56c8-1630-4ee3-b5b9-9f9c7976e7a0",
        "colab": {
          "base_uri": "https://localhost:8080/",
          "height": 238
        }
      },
      "source": [
        "print(y)\n",
        "print(y.shape)"
      ],
      "execution_count": null,
      "outputs": [
        {
          "output_type": "stream",
          "text": [
            "0        1\n",
            "1        1\n",
            "2        0\n",
            "3        0\n",
            "4        1\n",
            "        ..\n",
            "49995    1\n",
            "49996    1\n",
            "49997    0\n",
            "49998    0\n",
            "49999    0\n",
            "Name: low-protein, Length: 50000, dtype: int64\n",
            "(50000,)\n"
          ],
          "name": "stdout"
        }
      ]
    },
    {
      "cell_type": "code",
      "metadata": {
        "id": "O5w-f02p0rAs",
        "outputId": "f4d8fec6-cade-40ce-ce1c-49f5fdb478e1",
        "colab": {
          "base_uri": "https://localhost:8080/",
          "height": 221
        }
      },
      "source": [
        "print(y_train)"
      ],
      "execution_count": null,
      "outputs": [
        {
          "output_type": "stream",
          "text": [
            "20330    0\n",
            "17532    1\n",
            "45819    0\n",
            "34807    1\n",
            "31888    0\n",
            "        ..\n",
            "21243    1\n",
            "45891    0\n",
            "42613    0\n",
            "43567    0\n",
            "2732     0\n",
            "Name: low-protein, Length: 40000, dtype: int64\n"
          ],
          "name": "stdout"
        }
      ]
    },
    {
      "cell_type": "code",
      "metadata": {
        "id": "N5Vrty9N0v2M",
        "outputId": "f19d7f7b-9251-4f6a-cbd5-f68bfe0645c0",
        "colab": {
          "base_uri": "https://localhost:8080/",
          "height": 255
        }
      },
      "source": [
        "print(X_train)"
      ],
      "execution_count": null,
      "outputs": [
        {
          "output_type": "stream",
          "text": [
            "       minutes  healthy  ...  stated_fat  total_carbonhydrate\n",
            "20330       70        0  ...          29                    6\n",
            "17532       60        1  ...           6                   13\n",
            "45819       50        0  ...           0                    5\n",
            "34807      130        1  ...           0                    5\n",
            "31888       25        0  ...          12                    3\n",
            "...        ...      ...  ...         ...                  ...\n",
            "21243       10        1  ...          29                    9\n",
            "45891       10        0  ...           0                    1\n",
            "42613       20        0  ...           0                    0\n",
            "43567        1        0  ...           0                    1\n",
            "2732        20        0  ...          58                   18\n",
            "\n",
            "[40000 rows x 18 columns]\n"
          ],
          "name": "stdout"
        }
      ]
    },
    {
      "cell_type": "markdown",
      "metadata": {
        "id": "s8GF3L4HDDCt"
      },
      "source": [
        " **K-NN**"
      ]
    },
    {
      "cell_type": "code",
      "metadata": {
        "id": "5NaHyG8XCuRf"
      },
      "source": [
        "from sklearn.neighbors import KNeighborsClassifier\n",
        "\n",
        "test_scores = []\n",
        "train_scores = []\n",
        "\n",
        "for i in range(1,21): # Declare an of the KNN classifier class with the value with neighbors.\n",
        "\n",
        "    knn = KNeighborsClassifier(i)\n",
        "    knn.fit(X_train,y_train) # Fit the model with training data and target values\n",
        "    \n",
        "    train_scores.append(knn.score(X_train,y_train))\n",
        "    test_scores.append(knn.score(X_test,y_test))"
      ],
      "execution_count": null,
      "outputs": []
    },
    {
      "cell_type": "code",
      "metadata": {
        "id": "IYPIC45AC5Hm",
        "outputId": "a7b4a0cd-e3fd-490f-cdc8-8fb4bc217519",
        "colab": {
          "base_uri": "https://localhost:8080/",
          "height": 34
        }
      },
      "source": [
        "## score that comes from testing on the same datapoints that were used for training\n",
        "max_train_score = max(train_scores)\n",
        "train_scores_ind = [i for i, v in enumerate(train_scores) if v == max_train_score]\n",
        "print('Max train score {} % and k = {}'.format(max_train_score*100,list(map(lambda x: x+1, train_scores_ind))))"
      ],
      "execution_count": null,
      "outputs": [
        {
          "output_type": "stream",
          "text": [
            "Max train score 100.0 % and k = [1]\n"
          ],
          "name": "stdout"
        }
      ]
    },
    {
      "cell_type": "code",
      "metadata": {
        "id": "Um1kV2BoC7y6",
        "outputId": "95259fb6-fe38-4eea-d4bb-023f118d0448",
        "colab": {
          "base_uri": "https://localhost:8080/",
          "height": 34
        }
      },
      "source": [
        "## score that comes from testing on the datapoints that were split in the beginning to be used for testing solely\n",
        "max_test_score = max(test_scores)\n",
        "test_scores_ind = [i for i, v in enumerate(test_scores) if v == max_test_score]\n",
        "print('Max test score {} % and k = {}'.format(max_test_score*100,list(map(lambda x: x+1, test_scores_ind))))"
      ],
      "execution_count": null,
      "outputs": [
        {
          "output_type": "stream",
          "text": [
            "Max test score 78.25 % and k = [13]\n"
          ],
          "name": "stdout"
        }
      ]
    },
    {
      "cell_type": "code",
      "metadata": {
        "id": "-StZyEnBDAY3",
        "outputId": "57e9c850-db21-42e6-a3b5-bb7464854cf1",
        "colab": {
          "base_uri": "https://localhost:8080/",
          "height": 337
        }
      },
      "source": [
        "plt.figure(figsize=(12,5))\n",
        "plt.plot(range(1,21),train_scores,marker='*',label='Train Score')\n",
        "plt.plot(range(1,21),test_scores,marker='o',label='Test Score')"
      ],
      "execution_count": null,
      "outputs": [
        {
          "output_type": "execute_result",
          "data": {
            "text/plain": [
              "[<matplotlib.lines.Line2D at 0x7facfe9074a8>]"
            ]
          },
          "metadata": {
            "tags": []
          },
          "execution_count": 454
        },
        {
          "output_type": "display_data",
          "data": {
            "image/png": "[encoded data removed]",
            "text/plain": [
              "<Figure size 864x360 with 1 Axes>"
            ]
          },
          "metadata": {
            "tags": [],
            "needs_background": "light"
          }
        }
      ]
    },
    {
      "cell_type": "code",
      "metadata": {
        "id": "tnJjxGh70XgW",
        "outputId": "e2f9f036-56ed-4088-889b-2fcbeed86593",
        "colab": {
          "base_uri": "https://localhost:8080/",
          "height": 34
        }
      },
      "source": [
        "#Setup a knn classifier with k neighbors\n",
        "knn = KNeighborsClassifier(13)\n",
        "\n",
        "knn.fit(X_train,y_train)\n",
        "knn.score(X_test,y_test)"
      ],
      "execution_count": null,
      "outputs": [
        {
          "output_type": "execute_result",
          "data": {
            "text/plain": [
              "0.7825"
            ]
          },
          "metadata": {
            "tags": []
          },
          "execution_count": 458
        }
      ]
    },
    {
      "cell_type": "code",
      "metadata": {
        "id": "kvz1c76wztkT",
        "outputId": "1b79e7bf-a426-41c3-8676-dc9d89f9507f",
        "colab": {
          "base_uri": "https://localhost:8080/",
          "height": 173
        }
      },
      "source": [
        "#import confusion_matrix\n",
        "from sklearn.metrics import confusion_matrix\n",
        "#let us get the predictions using the classifier we had fit above\n",
        "y_pred = knn.predict(X_test)\n",
        "#confusion_matrix(y_test,y_pred)\n",
        "pd.crosstab(y_test, y_pred, rownames=['True'], colnames=['Predicted'], margins=True)"
      ],
      "execution_count": null,
      "outputs": [
        {
          "output_type": "execute_result",
          "data": {
            "text/html": [
              "<div>\n",
              "<style scoped>\n",
              "    .dataframe tbody tr th:only-of-type {\n",
              "        vertical-align: middle;\n",
              "    }\n",
              "\n",
              "    .dataframe tbody tr th {\n",
              "        vertical-align: top;\n",
              "    }\n",
              "\n",
              "    .dataframe thead th {\n",
              "        text-align: right;\n",
              "    }\n",
              "</style>\n",
              "<table border=\"1\" class=\"dataframe\">\n",
              "  <thead>\n",
              "    <tr style=\"text-align: right;\">\n",
              "      <th>Predicted</th>\n",
              "      <th>0</th>\n",
              "      <th>1</th>\n",
              "      <th>All</th>\n",
              "    </tr>\n",
              "    <tr>\n",
              "      <th>True</th>\n",
              "      <th></th>\n",
              "      <th></th>\n",
              "      <th></th>\n",
              "    </tr>\n",
              "  </thead>\n",
              "  <tbody>\n",
              "    <tr>\n",
              "      <th>0</th>\n",
              "      <td>6882</td>\n",
              "      <td>631</td>\n",
              "      <td>7513</td>\n",
              "    </tr>\n",
              "    <tr>\n",
              "      <th>1</th>\n",
              "      <td>1544</td>\n",
              "      <td>943</td>\n",
              "      <td>2487</td>\n",
              "    </tr>\n",
              "    <tr>\n",
              "      <th>All</th>\n",
              "      <td>8426</td>\n",
              "      <td>1574</td>\n",
              "      <td>10000</td>\n",
              "    </tr>\n",
              "  </tbody>\n",
              "</table>\n",
              "</div>"
            ],
            "text/plain": [
              "Predicted     0     1    All\n",
              "True                        \n",
              "0          6882   631   7513\n",
              "1          1544   943   2487\n",
              "All        8426  1574  10000"
            ]
          },
          "metadata": {
            "tags": []
          },
          "execution_count": 459
        }
      ]
    },
    {
      "cell_type": "code",
      "metadata": {
        "id": "-O0ydBCt1GfU",
        "outputId": "9084c40b-7471-4efb-ea4e-b1524ff97624",
        "colab": {
          "base_uri": "https://localhost:8080/",
          "height": 170
        }
      },
      "source": [
        "#import classification_report\n",
        "from sklearn.metrics import classification_report\n",
        "print(classification_report(y_test,y_pred))"
      ],
      "execution_count": null,
      "outputs": [
        {
          "output_type": "stream",
          "text": [
            "              precision    recall  f1-score   support\n",
            "\n",
            "           0       0.82      0.92      0.86      7513\n",
            "           1       0.60      0.38      0.46      2487\n",
            "\n",
            "    accuracy                           0.78     10000\n",
            "   macro avg       0.71      0.65      0.66     10000\n",
            "weighted avg       0.76      0.78      0.76     10000\n",
            "\n"
          ],
          "name": "stdout"
        }
      ]
    },
    {
      "cell_type": "code",
      "metadata": {
        "id": "dLF8iRyOfM6l",
        "outputId": "c9df9db1-645e-4116-d29e-2a7f9d1247e8",
        "colab": {
          "base_uri": "https://localhost:8080/",
          "height": 295
        }
      },
      "source": [
        "from sklearn.metrics import roc_curve\n",
        "y_pred_proba = knn.predict_proba(X_test)[:,1]\n",
        "fpr, tpr, thresholds = roc_curve(y_test, y_pred_proba)\n",
        "plt.plot([0,1],[0,1],'k--')\n",
        "plt.plot(fpr,tpr, label='Knn')\n",
        "plt.xlabel('fpr')\n",
        "plt.ylabel('tpr')\n",
        "plt.title('Knn(n_neighbors=13) ROC curve')\n",
        "plt.show()"
      ],
      "execution_count": null,
      "outputs": [
        {
          "output_type": "display_data",
          "data": {
            "image/png": "[encoded data removed]",
            "text/plain": [
              "<Figure size 432x288 with 1 Axes>"
            ]
          },
          "metadata": {
            "tags": [],
            "needs_background": "light"
          }
        }
      ]
    },
    {
      "cell_type": "code",
      "metadata": {
        "id": "mMl9yzhbflcn",
        "outputId": "3ea50024-5130-455f-8081-01b587f7a51d",
        "colab": {
          "base_uri": "https://localhost:8080/",
          "height": 34
        }
      },
      "source": [
        "#Area under ROC curve\n",
        "from sklearn.metrics import roc_auc_score\n",
        "roc_auc_score(y_test,y_pred_proba)"
      ],
      "execution_count": null,
      "outputs": [
        {
          "output_type": "execute_result",
          "data": {
            "text/plain": [
              "0.799860913914608"
            ]
          },
          "metadata": {
            "tags": []
          },
          "execution_count": 462
        }
      ]
    },
    {
      "cell_type": "code",
      "metadata": {
        "id": "irxXTtOafl7I",
        "outputId": "2b855ca8-dde0-40c5-f29b-93d40522e2c8",
        "colab": {
          "base_uri": "https://localhost:8080/",
          "height": 51
        }
      },
      "source": [
        "#import GridSearchCV\n",
        "from sklearn.model_selection import GridSearchCV\n",
        "#In case of classifier like knn the parameter to be tuned is n_neighbors\n",
        "param_grid = {'n_neighbors':np.arange(1,25)}\n",
        "knn = KNeighborsClassifier()\n",
        "knn_cv= GridSearchCV(knn,param_grid,cv=5)\n",
        "knn_cv.fit(X_train,y_train)\n",
        "\n",
        "print(\"Best Score:\" + str(knn_cv.best_score_))\n",
        "print(\"Best Parameters: \" + str(knn_cv.best_params_))"
      ],
      "execution_count": null,
      "outputs": [
        {
          "output_type": "stream",
          "text": [
            "Best Score:0.77165\n",
            "Best Parameters: {'n_neighbors': 21}\n"
          ],
          "name": "stdout"
        }
      ]
    },
    {
      "cell_type": "markdown",
      "metadata": {
        "id": "sIF6TKh6fyaE"
      },
      "source": [
        "**NAIVE** **BAYES**"
      ]
    },
    {
      "cell_type": "code",
      "metadata": {
        "id": "TRbaXXg9f33w"
      },
      "source": [
        "from sklearn.naive_bayes import GaussianNB\n",
        "from sklearn.metrics import confusion_matrix\n"
      ],
      "execution_count": null,
      "outputs": []
    },
    {
      "cell_type": "code",
      "metadata": {
        "id": "f3DlaBOCf4c4",
        "outputId": "1e8380bd-14c4-4939-ed24-e9acc5806523",
        "colab": {
          "base_uri": "https://localhost:8080/",
          "height": 34
        }
      },
      "source": [
        "# Initiating the Gaussian Classifier\n",
        "mod = GaussianNB()\n",
        "\n",
        "# Training your model \n",
        "mod.fit(X_train, y_train)"
      ],
      "execution_count": null,
      "outputs": [
        {
          "output_type": "execute_result",
          "data": {
            "text/plain": [
              "GaussianNB(priors=None, var_smoothing=1e-09)"
            ]
          },
          "metadata": {
            "tags": []
          },
          "execution_count": 465
        }
      ]
    },
    {
      "cell_type": "code",
      "metadata": {
        "id": "FBTDvi26f4S0"
      },
      "source": [
        "# Predicting Outcome \n",
        "predicted = mod.predict(X_test)"
      ],
      "execution_count": null,
      "outputs": []
    },
    {
      "cell_type": "code",
      "metadata": {
        "id": "uCAClEKdgETy",
        "outputId": "94698e21-55e0-4a77-8eda-fed3dc8f7745",
        "colab": {
          "base_uri": "https://localhost:8080/",
          "height": 34
        }
      },
      "source": [
        "mod.score(X_test,y_test)"
      ],
      "execution_count": null,
      "outputs": [
        {
          "output_type": "execute_result",
          "data": {
            "text/plain": [
              "0.9975"
            ]
          },
          "metadata": {
            "tags": []
          },
          "execution_count": 467
        }
      ]
    },
    {
      "cell_type": "code",
      "metadata": {
        "id": "BEEoNgRsgERS",
        "outputId": "5db6d2ad-eb04-4028-ebd5-c63d4699e054",
        "colab": {
          "base_uri": "https://localhost:8080/",
          "height": 204
        }
      },
      "source": [
        "# Confusion Matrix\n",
        "y_pred = mod.predict(X_test)\n",
        "print(confusion_matrix(y_test, y_pred))  \n",
        "print(classification_report(y_test, y_pred)) "
      ],
      "execution_count": null,
      "outputs": [
        {
          "output_type": "stream",
          "text": [
            "[[7493   20]\n",
            " [   5 2482]]\n",
            "              precision    recall  f1-score   support\n",
            "\n",
            "           0       1.00      1.00      1.00      7513\n",
            "           1       0.99      1.00      0.99      2487\n",
            "\n",
            "    accuracy                           1.00     10000\n",
            "   macro avg       1.00      1.00      1.00     10000\n",
            "weighted avg       1.00      1.00      1.00     10000\n",
            "\n"
          ],
          "name": "stdout"
        }
      ]
    },
    {
      "cell_type": "markdown",
      "metadata": {
        "id": "H_4bdFVfIZGc"
      },
      "source": [
        "**NN**"
      ]
    },
    {
      "cell_type": "code",
      "metadata": {
        "id": "Geb_mCzIIYy1"
      },
      "source": [
        "from sklearn.preprocessing import StandardScaler\n",
        "from sklearn.neural_network import MLPClassifier \n",
        "scaler = StandardScaler()  \n",
        "scaler.fit(X_train)\n",
        "\n",
        "X_train = scaler.transform(X_train)  \n",
        "X_test = scaler.transform(X_test)"
      ],
      "execution_count": null,
      "outputs": []
    },
    {
      "cell_type": "code",
      "metadata": {
        "id": "dBGe4Z_ZIhnz",
        "outputId": "d179b5a9-1124-433a-d5c3-b67f68d4c9e4",
        "colab": {
          "base_uri": "https://localhost:8080/",
          "height": 510
        }
      },
      "source": [
        "from sklearn.neural_network import MLPClassifier  \n",
        "mlp = MLPClassifier(hidden_layer_sizes=(10,10), max_iter=1000,verbose=2)  \n",
        "mlp.fit(X_train, y_train)  "
      ],
      "execution_count": null,
      "outputs": [
        {
          "output_type": "stream",
          "text": [
            "Iteration 1, loss = 0.28780486\n",
            "Iteration 2, loss = 0.05587496\n",
            "Iteration 3, loss = 0.01482555\n",
            "Iteration 4, loss = 0.00514478\n",
            "Iteration 5, loss = 0.00274501\n",
            "Iteration 6, loss = 0.00173282\n",
            "Iteration 7, loss = 0.00117648\n",
            "Iteration 8, loss = 0.00081975\n",
            "Iteration 9, loss = 0.00055454\n",
            "Iteration 10, loss = 0.00041711\n",
            "Iteration 11, loss = 0.00034423\n",
            "Iteration 12, loss = 0.00027391\n",
            "Iteration 13, loss = 0.00022660\n",
            "Iteration 14, loss = 0.00019952\n",
            "Iteration 15, loss = 0.00016652\n",
            "Iteration 16, loss = 0.00014194\n",
            "Iteration 17, loss = 0.00010331\n",
            "Iteration 18, loss = 0.00009098\n",
            "Iteration 19, loss = 0.00007998\n",
            "Iteration 20, loss = 0.00007083\n",
            "Iteration 21, loss = 0.00006252\n",
            "Training loss did not improve more than tol=0.000100 for 10 consecutive epochs. Stopping.\n"
          ],
          "name": "stdout"
        },
        {
          "output_type": "execute_result",
          "data": {
            "text/plain": [
              "MLPClassifier(activation='relu', alpha=0.0001, batch_size='auto', beta_1=0.9,\n",
              "              beta_2=0.999, early_stopping=False, epsilon=1e-08,\n",
              "              hidden_layer_sizes=(10, 10), learning_rate='constant',\n",
              "              learning_rate_init=0.001, max_fun=15000, max_iter=1000,\n",
              "              momentum=0.9, n_iter_no_change=10, nesterovs_momentum=True,\n",
              "              power_t=0.5, random_state=None, shuffle=True, solver='adam',\n",
              "              tol=0.0001, validation_fraction=0.1, verbose=2, warm_start=False)"
            ]
          },
          "metadata": {
            "tags": []
          },
          "execution_count": 479
        }
      ]
    },
    {
      "cell_type": "code",
      "metadata": {
        "id": "7ZwnUi_6I3Hr",
        "outputId": "1135e1ca-5a73-4c37-e82b-825260f34084",
        "colab": {
          "base_uri": "https://localhost:8080/",
          "height": 221
        }
      },
      "source": [
        "predictions = mlp.predict(X_test)\n",
        "\n",
        "from sklearn import metrics \n",
        "print(\"Accuracy\", metrics.accuracy_score(y_test, predictions))\n",
        "print(confusion_matrix(y_test,predictions))  \n",
        "print(classification_report(y_test,predictions))  "
      ],
      "execution_count": null,
      "outputs": [
        {
          "output_type": "stream",
          "text": [
            "Accuracy 0.9998\n",
            "[[7513    0]\n",
            " [   2 2485]]\n",
            "              precision    recall  f1-score   support\n",
            "\n",
            "           0       1.00      1.00      1.00      7513\n",
            "           1       1.00      1.00      1.00      2487\n",
            "\n",
            "    accuracy                           1.00     10000\n",
            "   macro avg       1.00      1.00      1.00     10000\n",
            "weighted avg       1.00      1.00      1.00     10000\n",
            "\n"
          ],
          "name": "stdout"
        }
      ]
    },
    {
      "cell_type": "code",
      "metadata": {
        "id": "pZnUta8CI58j",
        "outputId": "c8134ecd-031b-442b-92fe-5dd97ef2ec83",
        "colab": {
          "base_uri": "https://localhost:8080/",
          "height": 51
        }
      },
      "source": [
        "print(\"Accuracy on training set: {:.3f}\".format(mlp.score(X_train, y_train)))\n",
        "print(\"Accuracy on test set: {:.3f}\".format(mlp.score(X_test, y_test)))"
      ],
      "execution_count": null,
      "outputs": [
        {
          "output_type": "stream",
          "text": [
            "Accuracy on training set: 1.000\n",
            "Accuracy on test set: 1.000\n"
          ],
          "name": "stdout"
        }
      ]
    },
    {
      "cell_type": "code",
      "metadata": {
        "id": "k0JgswVhJO6w"
      },
      "source": [
        "import matplotlib.pyplot as plt\n",
        "%matplotlib inline\n",
        "import matplotlib \n",
        "import pandas as pd\n",
        "import numpy as np"
      ],
      "execution_count": null,
      "outputs": []
    },
    {
      "cell_type": "code",
      "metadata": {
        "id": "xsOtQ6syJQZf",
        "outputId": "495c1d1e-4be6-4c8c-9130-9b086d907608",
        "colab": {
          "base_uri": "https://localhost:8080/",
          "height": 295
        }
      },
      "source": [
        "plt.plot(mlp.loss_curve_)\n",
        "plt.title(\"NN Loss Curve\")\n",
        "plt.xlabel(\"number of steps\")\n",
        "plt.ylabel(\"loss function\")\n",
        "plt.show()"
      ],
      "execution_count": null,
      "outputs": [
        {
          "output_type": "display_data",
          "data": {
            "image/png": "[encoded data removed]",
            "text/plain": [
              "<Figure size 432x288 with 1 Axes>"
            ]
          },
          "metadata": {
            "tags": [],
            "needs_background": "light"
          }
        }
      ]
    },
    {
      "cell_type": "code",
      "metadata": {
        "id": "kqIYM2ZYJTmJ",
        "outputId": "6c1cc5a3-504a-4209-b4ce-922424d8f8ae",
        "colab": {
          "base_uri": "https://localhost:8080/",
          "height": 34
        }
      },
      "source": [
        "(mlp.intercepts_[0]).shape"
      ],
      "execution_count": null,
      "outputs": [
        {
          "output_type": "execute_result",
          "data": {
            "text/plain": [
              "(10,)"
            ]
          },
          "metadata": {
            "tags": []
          },
          "execution_count": 484
        }
      ]
    },
    {
      "cell_type": "code",
      "metadata": {
        "id": "tfdzHPEGJVMf",
        "outputId": "cbecee7c-c3bd-4a7e-c968-0bbf599cb912",
        "colab": {
          "base_uri": "https://localhost:8080/",
          "height": 34
        }
      },
      "source": [
        "(mlp.coefs_[0]).shape"
      ],
      "execution_count": null,
      "outputs": [
        {
          "output_type": "execute_result",
          "data": {
            "text/plain": [
              "(18, 10)"
            ]
          },
          "metadata": {
            "tags": []
          },
          "execution_count": 485
        }
      ]
    },
    {
      "cell_type": "code",
      "metadata": {
        "id": "6xVaBC05JXGf",
        "outputId": "52608e39-1ec6-448e-ac45-82ded4c0c9b4",
        "colab": {
          "base_uri": "https://localhost:8080/",
          "height": 51
        }
      },
      "source": [
        "mlp.intercepts_[0]"
      ],
      "execution_count": null,
      "outputs": [
        {
          "output_type": "execute_result",
          "data": {
            "text/plain": [
              "array([ 0.35285755,  0.34703779,  0.12387921,  0.87294785,  0.10896084,\n",
              "       -0.36571154,  0.10883868,  0.34345628,  0.65241267,  0.62458673])"
            ]
          },
          "metadata": {
            "tags": []
          },
          "execution_count": 486
        }
      ]
    },
    {
      "cell_type": "code",
      "metadata": {
        "id": "nfGWY8aZJYOh",
        "outputId": "1d24626d-8194-475b-e17a-b310be8eb2a1",
        "colab": {
          "base_uri": "https://localhost:8080/",
          "height": 1000
        }
      },
      "source": [
        "mlp.coefs_[0]"
      ],
      "execution_count": null,
      "outputs": [
        {
          "output_type": "execute_result",
          "data": {
            "text/plain": [
              "array([[ 2.30551565e-01,  8.76945708e-02,  5.06646414e-01,\n",
              "        -1.24427205e-01,  1.48572364e-01, -6.15440341e-02,\n",
              "         1.08188147e-01, -5.07314845e-01, -6.60876790e-01,\n",
              "        -4.70664167e-01],\n",
              "       [ 4.84087217e-01,  3.89465625e-01, -4.96981929e-01,\n",
              "         1.13549444e-01, -8.14861663e-02,  3.91627220e-01,\n",
              "         7.24188125e-03,  2.68986169e-01, -3.69353378e-01,\n",
              "        -6.22272996e-01],\n",
              "       [ 4.77952822e-01, -8.68136729e-02,  2.38235028e-01,\n",
              "         4.27941237e-01, -5.06203209e-01, -1.93657082e-01,\n",
              "         1.05583342e-01,  4.27449725e-01, -8.26898097e-01,\n",
              "        -7.02133269e-01],\n",
              "       [ 1.39316872e-01, -2.38782298e-01,  6.75108621e-02,\n",
              "         1.98815952e-01, -4.88039472e-01,  2.67261840e-01,\n",
              "         5.96384308e-02, -9.83217068e-02,  5.28176498e-02,\n",
              "         1.63919792e-02],\n",
              "       [ 4.12825302e-01, -1.28289445e-01, -4.17479397e-01,\n",
              "         3.93495810e-01, -5.94259031e-01, -4.29327781e-01,\n",
              "         1.46648399e-01,  2.77380745e-01, -4.72124556e-01,\n",
              "        -9.80146750e-02],\n",
              "       [ 2.81308153e-01, -1.25456329e-01,  3.70819191e-01,\n",
              "         2.06345394e-01, -7.44094161e-03, -1.57129329e-01,\n",
              "         1.81368759e-01, -2.56751015e-01, -2.89932482e-01,\n",
              "        -7.23597999e-01],\n",
              "       [-1.14351083e+00, -8.90446684e-01, -3.01620125e-01,\n",
              "         2.96457740e-01, -3.19787757e-01, -2.59258970e-01,\n",
              "         8.91211234e-01, -5.68718642e-02,  3.08463152e-01,\n",
              "        -9.24036538e-01],\n",
              "       [ 3.11689404e-01,  8.65763498e-01,  3.66388857e-01,\n",
              "        -2.67974557e-02, -4.05458070e-01,  1.94248436e-02,\n",
              "         7.55307839e-02,  3.57769700e-01, -1.21760183e-01,\n",
              "        -3.04731260e-02],\n",
              "       [-6.27535454e-01,  1.06293366e+00, -7.90452701e-02,\n",
              "        -8.90468004e-02, -4.87268176e-01, -1.27370104e-01,\n",
              "        -1.61456834e-01, -3.82933333e-01, -1.44364601e-01,\n",
              "         1.48254765e-01],\n",
              "       [ 2.01465867e-01, -1.14599883e-01,  3.03843707e-02,\n",
              "         7.62583926e-02, -2.91843633e-01,  1.71286681e-01,\n",
              "         5.42540255e-02, -2.92686454e-01, -1.73708942e-01,\n",
              "         1.25601134e-01],\n",
              "       [ 2.05048913e-01, -4.55636995e-01,  8.69721491e-02,\n",
              "         2.44864838e-01,  2.20821648e-01, -2.07724184e-01,\n",
              "        -1.19930970e-01, -3.71325434e-02,  2.71979141e-02,\n",
              "         4.13350510e-02],\n",
              "       [ 3.55675173e-01, -3.18431366e-01, -5.35676767e-01,\n",
              "         4.45605332e-01, -1.16085341e-01,  3.70665732e-01,\n",
              "        -4.18305843e-01, -2.33613949e-01,  1.78970576e-01,\n",
              "        -2.63740159e-01],\n",
              "       [-3.12634556e-01,  9.69844829e-02, -5.73492690e-02,\n",
              "         3.06861766e-01,  2.92257737e-01,  1.51172572e-01,\n",
              "         1.47921178e-01,  2.76982849e-01,  1.12647529e-01,\n",
              "         1.49968770e-01],\n",
              "       [-4.06546032e-01, -3.07800048e-01, -2.66809286e-01,\n",
              "        -2.97374244e-01, -9.66534977e-02, -1.44962006e-01,\n",
              "         1.44299123e-01,  4.61409304e-02, -4.50553121e-01,\n",
              "         9.08454108e-02],\n",
              "       [-3.56971239e-01, -5.73793996e-04, -1.12016610e-01,\n",
              "         2.95949732e-01,  3.74392984e-01,  1.89386866e-01,\n",
              "         9.71781585e-02, -1.07413974e-02, -4.25936283e-01,\n",
              "        -1.37183673e-01],\n",
              "       [ 1.86711486e-01,  2.53340772e-01,  1.99575373e-01,\n",
              "        -2.99491101e-01,  5.44790917e-01,  2.71177671e-01,\n",
              "        -2.84692720e-01, -2.85231243e-01,  3.53305253e-02,\n",
              "        -1.11266100e-01],\n",
              "       [ 3.67455770e-01,  1.58660810e-01, -1.11081068e-01,\n",
              "         3.57003503e-01, -5.15851749e-01, -5.56497130e-02,\n",
              "         2.81904501e-01, -4.89855908e-01, -4.75727357e-01,\n",
              "         2.30852381e-01],\n",
              "       [-2.87802739e-01, -2.97603847e-01, -3.55703577e-01,\n",
              "         3.08043350e-02, -5.85119515e-02, -3.84900923e-01,\n",
              "         1.82344454e-01,  2.27392840e-01,  1.82841788e-01,\n",
              "        -1.70210240e-01]])"
            ]
          },
          "metadata": {
            "tags": []
          },
          "execution_count": 487
        }
      ]
    },
    {
      "cell_type": "code",
      "metadata": {
        "id": "lEdc6BTCJaRf",
        "outputId": "f7e1c532-403c-480d-d69c-f2fa985e1bdf",
        "colab": {
          "base_uri": "https://localhost:8080/",
          "height": 476
        }
      },
      "source": [
        "#Adjust the number of hidde Layer/ hidden node to improve the NN performance. Write your code below.\n",
        "\n",
        "mlp = MLPClassifier(hidden_layer_sizes=(5,5), max_iter=1000,verbose=2)  \n",
        "mlp.fit(X_train, y_train) \n",
        "\n",
        "predictions = mlp.predict(X_test)  "
      ],
      "execution_count": null,
      "outputs": [
        {
          "output_type": "stream",
          "text": [
            "Iteration 1, loss = 0.53371038\n",
            "Iteration 2, loss = 0.14940805\n",
            "Iteration 3, loss = inf\n",
            "Iteration 4, loss = 0.01756006\n",
            "Iteration 5, loss = 0.00991849\n",
            "Iteration 6, loss = 0.00620352\n",
            "Iteration 7, loss = 0.00419909\n",
            "Iteration 8, loss = 0.00298356\n",
            "Iteration 9, loss = 0.00217869\n",
            "Iteration 10, loss = 0.00164531\n",
            "Iteration 11, loss = 0.00127142\n",
            "Iteration 12, loss = 0.00101775\n",
            "Iteration 13, loss = 0.00080422\n",
            "Iteration 14, loss = 0.00065013\n",
            "Iteration 15, loss = 0.00054294\n",
            "Iteration 16, loss = 0.00045591\n",
            "Iteration 17, loss = 0.00039188\n",
            "Iteration 18, loss = 0.00033527\n",
            "Iteration 19, loss = 0.00027891\n",
            "Iteration 20, loss = 0.00035955\n",
            "Iteration 21, loss = 0.00021897\n",
            "Iteration 22, loss = 0.00016116\n",
            "Iteration 23, loss = 0.00013254\n",
            "Iteration 24, loss = 0.00010861\n",
            "Iteration 25, loss = 0.00008945\n",
            "Iteration 26, loss = 0.00007743\n",
            "Training loss did not improve more than tol=0.000100 for 10 consecutive epochs. Stopping.\n"
          ],
          "name": "stdout"
        }
      ]
    },
    {
      "cell_type": "code",
      "metadata": {
        "id": "3xVTuALOJcpg",
        "outputId": "6305eae3-8204-417c-8fb2-284577eff9c0",
        "colab": {
          "base_uri": "https://localhost:8080/",
          "height": 221
        }
      },
      "source": [
        "from sklearn.metrics import confusion_matrix\n",
        "from sklearn.metrics import classification_report\n",
        "from sklearn import metrics\n",
        "print(\"Accuracy\", metrics.accuracy_score(y_test, predictions))\n",
        "print(confusion_matrix(y_test,predictions))  \n",
        "print(classification_report(y_test,predictions))"
      ],
      "execution_count": null,
      "outputs": [
        {
          "output_type": "stream",
          "text": [
            "Accuracy 0.9998\n",
            "[[7513    0]\n",
            " [   2 2485]]\n",
            "              precision    recall  f1-score   support\n",
            "\n",
            "           0       1.00      1.00      1.00      7513\n",
            "           1       1.00      1.00      1.00      2487\n",
            "\n",
            "    accuracy                           1.00     10000\n",
            "   macro avg       1.00      1.00      1.00     10000\n",
            "weighted avg       1.00      1.00      1.00     10000\n",
            "\n"
          ],
          "name": "stdout"
        }
      ]
    },
    {
      "cell_type": "markdown",
      "metadata": {
        "id": "2-n6qbhefBOB"
      },
      "source": [
        "**Logistic** **Regression**"
      ]
    },
    {
      "cell_type": "code",
      "metadata": {
        "id": "-U_DsYWMfIeL",
        "outputId": "eefe384a-2372-4434-8824-69ebc2328f63",
        "colab": {
          "base_uri": "https://localhost:8080/",
          "height": 51
        }
      },
      "source": [
        "from sklearn.linear_model import LogisticRegression\n",
        "logreg = LogisticRegression(C=0.01, max_iter=10000).fit(X_train, y_train)\n",
        "print(\"Training set score: {:.3f}\".format(logreg.score(X_train, y_train)))\n",
        "print(\"Test set score: {:.3f}\".format(logreg.score(X_test, y_test)))"
      ],
      "execution_count": null,
      "outputs": [
        {
          "output_type": "stream",
          "text": [
            "Training set score: 1.000\n",
            "Test set score: 1.000\n"
          ],
          "name": "stdout"
        }
      ]
    },
    {
      "cell_type": "code",
      "metadata": {
        "id": "EXd8Nhr0fJk1",
        "outputId": "b408d830-34f9-4c1c-a209-774a001578f2",
        "colab": {
          "base_uri": "https://localhost:8080/",
          "height": 34
        }
      },
      "source": [
        "logreg.intercept_.T"
      ],
      "execution_count": null,
      "outputs": [
        {
          "output_type": "execute_result",
          "data": {
            "text/plain": [
              "array([-2.93562025])"
            ]
          },
          "metadata": {
            "tags": []
          },
          "execution_count": 491
        }
      ]
    },
    {
      "cell_type": "code",
      "metadata": {
        "id": "ZgY1sTVwfMXV",
        "outputId": "e4525779-c8a0-4675-ea89-5e4667686414",
        "colab": {
          "base_uri": "https://localhost:8080/",
          "height": 323
        }
      },
      "source": [
        "logreg.coef_.T"
      ],
      "execution_count": null,
      "outputs": [
        {
          "output_type": "execute_result",
          "data": {
            "text/plain": [
              "array([[ 7.98686327e-03],\n",
              "       [ 7.69286836e-02],\n",
              "       [ 2.56674333e-01],\n",
              "       [ 2.45631437e-01],\n",
              "       [ 4.04774074e-01],\n",
              "       [ 8.77973025e-02],\n",
              "       [ 3.64017907e+00],\n",
              "       [ 4.57244349e-04],\n",
              "       [ 7.79902406e-03],\n",
              "       [-6.90990015e-02],\n",
              "       [-7.50541364e-03],\n",
              "       [ 3.29049454e-02],\n",
              "       [ 6.98249834e-03],\n",
              "       [ 7.40277754e-02],\n",
              "       [ 1.46737479e-02],\n",
              "       [-4.38100940e-01],\n",
              "       [ 1.01539408e-01],\n",
              "       [ 5.64324950e-02]])"
            ]
          },
          "metadata": {
            "tags": []
          },
          "execution_count": 492
        }
      ]
    },
    {
      "cell_type": "code",
      "metadata": {
        "id": "_8i2E3XffMbu",
        "outputId": "1849236e-dc31-45e3-bafd-6a1f30b68ff5",
        "colab": {
          "base_uri": "https://localhost:8080/",
          "height": 221
        }
      },
      "source": [
        "print(y_test)"
      ],
      "execution_count": null,
      "outputs": [
        {
          "output_type": "stream",
          "text": [
            "11841    0\n",
            "19602    1\n",
            "45519    0\n",
            "25747    0\n",
            "42642    0\n",
            "        ..\n",
            "25091    0\n",
            "27853    0\n",
            "47278    0\n",
            "37020    1\n",
            "2217     0\n",
            "Name: low-protein, Length: 10000, dtype: int64\n"
          ],
          "name": "stdout"
        }
      ]
    },
    {
      "cell_type": "code",
      "metadata": {
        "id": "TDsgGGMYfMZO",
        "outputId": "6844db68-f025-4a12-857a-077bb5793d43",
        "colab": {
          "base_uri": "https://localhost:8080/",
          "height": 204
        }
      },
      "source": [
        "from sklearn.metrics import classification_report, confusion_matrix  \n",
        "y_pred = logreg.predict(X_test)\n",
        "print(confusion_matrix(y_test, y_pred))  \n",
        "print(classification_report(y_test, y_pred))\n",
        "##before processing data in PCA, we got 0.73 accurancy, from this we can observe the accurancy do not decrease a lot\n",
        "#we can also normally use the model, and largely reduce caculation by using PCA"
      ],
      "execution_count": null,
      "outputs": [
        {
          "output_type": "stream",
          "text": [
            "[[7513    0]\n",
            " [   0 2487]]\n",
            "              precision    recall  f1-score   support\n",
            "\n",
            "           0       1.00      1.00      1.00      7513\n",
            "           1       1.00      1.00      1.00      2487\n",
            "\n",
            "    accuracy                           1.00     10000\n",
            "   macro avg       1.00      1.00      1.00     10000\n",
            "weighted avg       1.00      1.00      1.00     10000\n",
            "\n"
          ],
          "name": "stdout"
        }
      ]
    },
    {
      "cell_type": "code",
      "metadata": {
        "id": "vA1i-9yFfMSd"
      },
      "source": [
        "#!conda install -c conda-forge scikit-plot\n",
        "import matplotlib.pyplot as plt\n",
        "import scikitplot as skplt\n",
        "y_pred_probas = logreg.predict_proba(X_test)"
      ],
      "execution_count": null,
      "outputs": []
    },
    {
      "cell_type": "code",
      "metadata": {
        "id": "4tj863DRfazF",
        "outputId": "bae445d5-bb0b-4a1c-f5b4-c6294eec4033",
        "colab": {
          "base_uri": "https://localhost:8080/",
          "height": 295
        }
      },
      "source": [
        "skplt.metrics.plot_cumulative_gain(y_test, y_pred_probas)\n",
        "plt.show()"
      ],
      "execution_count": null,
      "outputs": [
        {
          "output_type": "display_data",
          "data": {
            "image/png": "[encoded data removed]",
            "text/plain": [
              "<Figure size 432x288 with 1 Axes>"
            ]
          },
          "metadata": {
            "tags": [],
            "needs_background": "light"
          }
        }
      ]
    },
    {
      "cell_type": "code",
      "metadata": {
        "id": "uf7br18Kfbov",
        "outputId": "1b7b56cf-b826-41d0-b2f1-b34d1b1e34cc",
        "colab": {
          "base_uri": "https://localhost:8080/",
          "height": 295
        }
      },
      "source": [
        "skplt.metrics.plot_lift_curve(y_test, y_pred_probas)\n",
        "plt.show()"
      ],
      "execution_count": null,
      "outputs": [
        {
          "output_type": "display_data",
          "data": {
            "image/png": "[encoded data removed]",
            "text/plain": [
              "<Figure size 432x288 with 1 Axes>"
            ]
          },
          "metadata": {
            "tags": [],
            "needs_background": "light"
          }
        }
      ]
    },
    {
      "cell_type": "code",
      "metadata": {
        "id": "CFvVyg_BfbmV"
      },
      "source": [
        ""
      ],
      "execution_count": null,
      "outputs": []
    },
    {
      "cell_type": "code",
      "metadata": {
        "id": "C1K2w9FAfawG"
      },
      "source": [
        ""
      ],
      "execution_count": null,
      "outputs": []
    }
  ]
}