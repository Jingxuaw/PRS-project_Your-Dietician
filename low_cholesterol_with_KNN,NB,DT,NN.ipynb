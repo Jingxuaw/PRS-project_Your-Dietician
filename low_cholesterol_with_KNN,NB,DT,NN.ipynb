{
  "nbformat": 4,
  "nbformat_minor": 0,
  "metadata": {
    "colab": {
      "name": "low-cholesterol_with_KNN,NB,DT,NN.ipynb",
      "provenance": [],
      "collapsed_sections": []
    },
    "kernelspec": {
      "name": "python3",
      "display_name": "Python 3"
    }
  },
  "cells": [
    {
      "cell_type": "code",
      "metadata": {
        "id": "wcZzO8n50dtz",
        "outputId": "1ffb4c50-ab2b-4b6c-a73b-cfc8922ea9ba",
        "colab": {
          "base_uri": "https://localhost:8080/",
          "height": 34
        }
      },
      "source": [
        "from google.colab import drive\n",
        "drive.mount('/content/gdrive')"
      ],
      "execution_count": null,
      "outputs": [
        {
          "output_type": "stream",
          "text": [
            "Mounted at /content/gdrive\n"
          ],
          "name": "stdout"
        }
      ]
    },
    {
      "cell_type": "code",
      "metadata": {
        "id": "szx4FLle1C3A",
        "outputId": "74b3be53-2fc9-4149-f0e7-d98623c93ac0",
        "colab": {
          "base_uri": "https://localhost:8080/",
          "height": 51
        }
      },
      "source": [
        "from ast import literal_eval\n",
        "import pandas as pd\n",
        "import numpy as np\n",
        "import matplotlib\n",
        "import matplotlib.pyplot as plt\n",
        "import seaborn as sns\n",
        "from scipy import sparse as sp_sparse\n",
        "from sklearn.feature_extraction.text import TfidfVectorizer\n",
        "from sklearn.preprocessing import MultiLabelBinarizer\n",
        "from sklearn.naive_bayes import MultinomialNB\n",
        "from sklearn.multiclass import OneVsRestClassifier\n",
        "from sklearn.linear_model import LogisticRegression, RidgeClassifier\n",
        "from sklearn.svm import LinearSVC\n",
        "from sklearn.pipeline import Pipeline\n",
        "from sklearn.feature_extraction.text import CountVectorizer\n",
        "import nltk\n",
        "import re\n",
        "from nltk.corpus import stopwords\n",
        "nltk.download('stopwords')\n",
        "stop_words = set(stopwords.words('english'))"
      ],
      "execution_count": null,
      "outputs": [
        {
          "output_type": "stream",
          "text": [
            "[nltk_data] Downloading package stopwords to /root/nltk_data...\n",
            "[nltk_data]   Package stopwords is already up-to-date!\n"
          ],
          "name": "stdout"
        }
      ]
    },
    {
      "cell_type": "code",
      "metadata": {
        "id": "TpMM7ELy0mbW"
      },
      "source": [
        "from sklearn.model_selection import train_test_split\n",
        "data = pd.read_csv('/content/gdrive/My Drive/project/50000.csv',encoding='ISO-8859-1')\n",
        "# data['tags'] = data['tags'].apply(literal_eval)\n",
        "# x = data.nutrition\n",
        "x = data.drop([\"name\",\"id\",\"contributor_id\",\"nutrition\",\"submitted\",\"steps\",\"tags\",\"description\",\"ingredients\"],axis = 1)\n",
        "y = data['low-cholesterol']\n"
      ],
      "execution_count": 304,
      "outputs": []
    },
    {
      "cell_type": "code",
      "metadata": {
        "id": "WENhwEEl0qkU"
      },
      "source": [
        "import numpy as np\n",
        "from sklearn.preprocessing import LabelEncoder\n",
        "\n",
        "# Convert each category in the label to an integer\n",
        "# le = LabelEncoder()\n",
        "# y= le.fit_transform(y)\n",
        "X_train,X_test,y_train,y_test = train_test_split(x,y,test_size=1/5,random_state=0)"
      ],
      "execution_count": 305,
      "outputs": []
    },
    {
      "cell_type": "code",
      "metadata": {
        "id": "TYiqdBlv9uQE",
        "outputId": "9d8946e0-a606-44ae-c382-09e9053350a3",
        "colab": {
          "base_uri": "https://localhost:8080/",
          "height": 238
        }
      },
      "source": [
        "print(y)\n",
        "print(y.shape)"
      ],
      "execution_count": 306,
      "outputs": [
        {
          "output_type": "stream",
          "text": [
            "0        1\n",
            "1        1\n",
            "2        0\n",
            "3        1\n",
            "4        1\n",
            "        ..\n",
            "49995    1\n",
            "49996    1\n",
            "49997    0\n",
            "49998    0\n",
            "49999    0\n",
            "Name: low-cholesterol, Length: 50000, dtype: int64\n",
            "(50000,)\n"
          ],
          "name": "stdout"
        }
      ]
    },
    {
      "cell_type": "code",
      "metadata": {
        "id": "O5w-f02p0rAs",
        "outputId": "ff14161a-9858-4731-ced1-348a87568064",
        "colab": {
          "base_uri": "https://localhost:8080/",
          "height": 221
        }
      },
      "source": [
        "print(y_train)"
      ],
      "execution_count": 307,
      "outputs": [
        {
          "output_type": "stream",
          "text": [
            "20330    0\n",
            "17532    1\n",
            "45819    0\n",
            "34807    1\n",
            "31888    0\n",
            "        ..\n",
            "21243    1\n",
            "45891    0\n",
            "42613    0\n",
            "43567    0\n",
            "2732     0\n",
            "Name: low-cholesterol, Length: 40000, dtype: int64\n"
          ],
          "name": "stdout"
        }
      ]
    },
    {
      "cell_type": "code",
      "metadata": {
        "id": "N5Vrty9N0v2M",
        "outputId": "a0a7dca8-0621-494a-cac0-47d2921e1a2e",
        "colab": {
          "base_uri": "https://localhost:8080/",
          "height": 255
        }
      },
      "source": [
        "print(X_train)"
      ],
      "execution_count": 308,
      "outputs": [
        {
          "output_type": "stream",
          "text": [
            "       minutes  healthy  ...  stated_fat  total_carbonhydrate\n",
            "20330       70        0  ...          29                    6\n",
            "17532       60        1  ...           6                   13\n",
            "45819       50        0  ...           0                    5\n",
            "34807      130        1  ...           0                    5\n",
            "31888       25        0  ...          12                    3\n",
            "...        ...      ...  ...         ...                  ...\n",
            "21243       10        1  ...          29                    9\n",
            "45891       10        0  ...           0                    1\n",
            "42613       20        0  ...           0                    0\n",
            "43567        1        0  ...           0                    1\n",
            "2732        20        0  ...          58                   18\n",
            "\n",
            "[40000 rows x 18 columns]\n"
          ],
          "name": "stdout"
        }
      ]
    },
    {
      "cell_type": "markdown",
      "metadata": {
        "id": "s8GF3L4HDDCt"
      },
      "source": [
        " **K-NN**"
      ]
    },
    {
      "cell_type": "code",
      "metadata": {
        "id": "5NaHyG8XCuRf"
      },
      "source": [
        "from sklearn.neighbors import KNeighborsClassifier\n",
        "\n",
        "test_scores = []\n",
        "train_scores = []\n",
        "\n",
        "for i in range(1,21): # Declare an of the KNN classifier class with the value with neighbors.\n",
        "\n",
        "    knn = KNeighborsClassifier(i)\n",
        "    knn.fit(X_train,y_train) # Fit the model with training data and target values\n",
        "    \n",
        "    train_scores.append(knn.score(X_train,y_train))\n",
        "    test_scores.append(knn.score(X_test,y_test))"
      ],
      "execution_count": 309,
      "outputs": []
    },
    {
      "cell_type": "code",
      "metadata": {
        "id": "IYPIC45AC5Hm",
        "outputId": "c35d135c-10b8-407f-ac31-2746a3e55f67",
        "colab": {
          "base_uri": "https://localhost:8080/",
          "height": 34
        }
      },
      "source": [
        "## score that comes from testing on the same datapoints that were used for training\n",
        "max_train_score = max(train_scores)\n",
        "train_scores_ind = [i for i, v in enumerate(train_scores) if v == max_train_score]\n",
        "print('Max train score {} % and k = {}'.format(max_train_score*100,list(map(lambda x: x+1, train_scores_ind))))"
      ],
      "execution_count": 310,
      "outputs": [
        {
          "output_type": "stream",
          "text": [
            "Max train score 100.0 % and k = [1]\n"
          ],
          "name": "stdout"
        }
      ]
    },
    {
      "cell_type": "code",
      "metadata": {
        "id": "Um1kV2BoC7y6",
        "outputId": "98ead1c3-3a02-471c-d155-99c537385441",
        "colab": {
          "base_uri": "https://localhost:8080/",
          "height": 34
        }
      },
      "source": [
        "## score that comes from testing on the datapoints that were split in the beginning to be used for testing solely\n",
        "max_test_score = max(test_scores)\n",
        "test_scores_ind = [i for i, v in enumerate(test_scores) if v == max_test_score]\n",
        "print('Max test score {} % and k = {}'.format(max_test_score*100,list(map(lambda x: x+1, test_scores_ind))))"
      ],
      "execution_count": 311,
      "outputs": [
        {
          "output_type": "stream",
          "text": [
            "Max test score 81.10000000000001 % and k = [5]\n"
          ],
          "name": "stdout"
        }
      ]
    },
    {
      "cell_type": "code",
      "metadata": {
        "id": "-StZyEnBDAY3",
        "outputId": "3410971b-d294-4151-80a4-2fdab26136b2",
        "colab": {
          "base_uri": "https://localhost:8080/",
          "height": 337
        }
      },
      "source": [
        "plt.figure(figsize=(12,5))\n",
        "plt.plot(range(1,21),train_scores,marker='*',label='Train Score')\n",
        "plt.plot(range(1,21),test_scores,marker='o',label='Test Score')"
      ],
      "execution_count": 312,
      "outputs": [
        {
          "output_type": "execute_result",
          "data": {
            "text/plain": [
              "[<matplotlib.lines.Line2D at 0x7fad0c92ac18>]"
            ]
          },
          "metadata": {
            "tags": []
          },
          "execution_count": 312
        },
        {
          "output_type": "display_data",
          "data": {
            "image/png": "[encoded data removed]",
            "text/plain": [
              "<Figure size 864x360 with 1 Axes>"
            ]
          },
          "metadata": {
            "tags": [],
            "needs_background": "light"
          }
        }
      ]
    },
    {
      "cell_type": "code",
      "metadata": {
        "id": "tnJjxGh70XgW",
        "outputId": "3e8cf5a7-215e-40d5-d2b3-550d73d4fe49",
        "colab": {
          "base_uri": "https://localhost:8080/",
          "height": 34
        }
      },
      "source": [
        "#Setup a knn classifier with k neighbors\n",
        "knn = KNeighborsClassifier(5)\n",
        "\n",
        "knn.fit(X_train,y_train)\n",
        "knn.score(X_test,y_test)"
      ],
      "execution_count": 313,
      "outputs": [
        {
          "output_type": "execute_result",
          "data": {
            "text/plain": [
              "0.811"
            ]
          },
          "metadata": {
            "tags": []
          },
          "execution_count": 313
        }
      ]
    },
    {
      "cell_type": "code",
      "metadata": {
        "id": "kvz1c76wztkT",
        "outputId": "e6196e42-ce9b-460b-b03e-72ca18ca8cbb",
        "colab": {
          "base_uri": "https://localhost:8080/",
          "height": 173
        }
      },
      "source": [
        "#import confusion_matrix\n",
        "from sklearn.metrics import confusion_matrix\n",
        "#let us get the predictions using the classifier we had fit above\n",
        "y_pred = knn.predict(X_test)\n",
        "#confusion_matrix(y_test,y_pred)\n",
        "pd.crosstab(y_test, y_pred, rownames=['True'], colnames=['Predicted'], margins=True)"
      ],
      "execution_count": 314,
      "outputs": [
        {
          "output_type": "execute_result",
          "data": {
            "text/html": [
              "<div>\n",
              "<style scoped>\n",
              "    .dataframe tbody tr th:only-of-type {\n",
              "        vertical-align: middle;\n",
              "    }\n",
              "\n",
              "    .dataframe tbody tr th {\n",
              "        vertical-align: top;\n",
              "    }\n",
              "\n",
              "    .dataframe thead th {\n",
              "        text-align: right;\n",
              "    }\n",
              "</style>\n",
              "<table border=\"1\" class=\"dataframe\">\n",
              "  <thead>\n",
              "    <tr style=\"text-align: right;\">\n",
              "      <th>Predicted</th>\n",
              "      <th>0</th>\n",
              "      <th>1</th>\n",
              "      <th>All</th>\n",
              "    </tr>\n",
              "    <tr>\n",
              "      <th>True</th>\n",
              "      <th></th>\n",
              "      <th></th>\n",
              "      <th></th>\n",
              "    </tr>\n",
              "  </thead>\n",
              "  <tbody>\n",
              "    <tr>\n",
              "      <th>0</th>\n",
              "      <td>6961</td>\n",
              "      <td>708</td>\n",
              "      <td>7669</td>\n",
              "    </tr>\n",
              "    <tr>\n",
              "      <th>1</th>\n",
              "      <td>1182</td>\n",
              "      <td>1149</td>\n",
              "      <td>2331</td>\n",
              "    </tr>\n",
              "    <tr>\n",
              "      <th>All</th>\n",
              "      <td>8143</td>\n",
              "      <td>1857</td>\n",
              "      <td>10000</td>\n",
              "    </tr>\n",
              "  </tbody>\n",
              "</table>\n",
              "</div>"
            ],
            "text/plain": [
              "Predicted     0     1    All\n",
              "True                        \n",
              "0          6961   708   7669\n",
              "1          1182  1149   2331\n",
              "All        8143  1857  10000"
            ]
          },
          "metadata": {
            "tags": []
          },
          "execution_count": 314
        }
      ]
    },
    {
      "cell_type": "code",
      "metadata": {
        "id": "-O0ydBCt1GfU",
        "outputId": "04b078c4-8083-4247-9617-e51d83b15548",
        "colab": {
          "base_uri": "https://localhost:8080/",
          "height": 170
        }
      },
      "source": [
        "#import classification_report\n",
        "from sklearn.metrics import classification_report\n",
        "print(classification_report(y_test,y_pred))"
      ],
      "execution_count": 315,
      "outputs": [
        {
          "output_type": "stream",
          "text": [
            "              precision    recall  f1-score   support\n",
            "\n",
            "           0       0.85      0.91      0.88      7669\n",
            "           1       0.62      0.49      0.55      2331\n",
            "\n",
            "    accuracy                           0.81     10000\n",
            "   macro avg       0.74      0.70      0.71     10000\n",
            "weighted avg       0.80      0.81      0.80     10000\n",
            "\n"
          ],
          "name": "stdout"
        }
      ]
    },
    {
      "cell_type": "code",
      "metadata": {
        "id": "dLF8iRyOfM6l",
        "outputId": "0a713cc6-0f23-4131-fd8b-0c498e24525a",
        "colab": {
          "base_uri": "https://localhost:8080/",
          "height": 295
        }
      },
      "source": [
        "from sklearn.metrics import roc_curve\n",
        "y_pred_proba = knn.predict_proba(X_test)[:,1]\n",
        "fpr, tpr, thresholds = roc_curve(y_test, y_pred_proba)\n",
        "plt.plot([0,1],[0,1],'k--')\n",
        "plt.plot(fpr,tpr, label='Knn')\n",
        "plt.xlabel('fpr')\n",
        "plt.ylabel('tpr')\n",
        "plt.title('Knn(n_neighbors=5) ROC curve')\n",
        "plt.show()"
      ],
      "execution_count": 316,
      "outputs": [
        {
          "output_type": "display_data",
          "data": {
            "image/png": "[encoded data removed]",
            "text/plain": [
              "<Figure size 432x288 with 1 Axes>"
            ]
          },
          "metadata": {
            "tags": [],
            "needs_background": "light"
          }
        }
      ]
    },
    {
      "cell_type": "code",
      "metadata": {
        "id": "mMl9yzhbflcn",
        "outputId": "5fa2510c-71ef-47e9-9900-304c6d2d099d",
        "colab": {
          "base_uri": "https://localhost:8080/",
          "height": 34
        }
      },
      "source": [
        "#Area under ROC curve\n",
        "from sklearn.metrics import roc_auc_score\n",
        "roc_auc_score(y_test,y_pred_proba)"
      ],
      "execution_count": 317,
      "outputs": [
        {
          "output_type": "execute_result",
          "data": {
            "text/plain": [
              "0.8325985673097421"
            ]
          },
          "metadata": {
            "tags": []
          },
          "execution_count": 317
        }
      ]
    },
    {
      "cell_type": "code",
      "metadata": {
        "id": "irxXTtOafl7I",
        "outputId": "748756e7-6313-4721-8e16-725808faea24",
        "colab": {
          "base_uri": "https://localhost:8080/",
          "height": 51
        }
      },
      "source": [
        "#import GridSearchCV\n",
        "from sklearn.model_selection import GridSearchCV\n",
        "#In case of classifier like knn the parameter to be tuned is n_neighbors\n",
        "param_grid = {'n_neighbors':np.arange(1,25)}\n",
        "knn = KNeighborsClassifier()\n",
        "knn_cv= GridSearchCV(knn,param_grid,cv=5)\n",
        "knn_cv.fit(X_train,y_train)\n",
        "\n",
        "print(\"Best Score:\" + str(knn_cv.best_score_))\n",
        "print(\"Best Parameters: \" + str(knn_cv.best_params_))"
      ],
      "execution_count": 318,
      "outputs": [
        {
          "output_type": "stream",
          "text": [
            "Best Score:0.8045\n",
            "Best Parameters: {'n_neighbors': 9}\n"
          ],
          "name": "stdout"
        }
      ]
    },
    {
      "cell_type": "markdown",
      "metadata": {
        "id": "sIF6TKh6fyaE"
      },
      "source": [
        "**NAIVE** **BAYES**"
      ]
    },
    {
      "cell_type": "code",
      "metadata": {
        "id": "TRbaXXg9f33w"
      },
      "source": [
        "from sklearn.naive_bayes import GaussianNB\n",
        "from sklearn.metrics import confusion_matrix\n"
      ],
      "execution_count": 319,
      "outputs": []
    },
    {
      "cell_type": "code",
      "metadata": {
        "id": "f3DlaBOCf4c4",
        "outputId": "78ac6e89-3f58-4023-e4d3-3b70f84120ac",
        "colab": {
          "base_uri": "https://localhost:8080/",
          "height": 34
        }
      },
      "source": [
        "# Initiating the Gaussian Classifier\n",
        "mod = GaussianNB()\n",
        "\n",
        "# Training your model \n",
        "mod.fit(X_train, y_train)"
      ],
      "execution_count": 320,
      "outputs": [
        {
          "output_type": "execute_result",
          "data": {
            "text/plain": [
              "GaussianNB(priors=None, var_smoothing=1e-09)"
            ]
          },
          "metadata": {
            "tags": []
          },
          "execution_count": 320
        }
      ]
    },
    {
      "cell_type": "code",
      "metadata": {
        "id": "FBTDvi26f4S0"
      },
      "source": [
        "# Predicting Outcome \n",
        "predicted = mod.predict(X_test)"
      ],
      "execution_count": 321,
      "outputs": []
    },
    {
      "cell_type": "code",
      "metadata": {
        "id": "uCAClEKdgETy",
        "outputId": "717ec0be-fb50-4fa4-b6eb-e5d961a7950b",
        "colab": {
          "base_uri": "https://localhost:8080/",
          "height": 34
        }
      },
      "source": [
        "mod.score(X_test,y_test)"
      ],
      "execution_count": 322,
      "outputs": [
        {
          "output_type": "execute_result",
          "data": {
            "text/plain": [
              "0.9984"
            ]
          },
          "metadata": {
            "tags": []
          },
          "execution_count": 322
        }
      ]
    },
    {
      "cell_type": "code",
      "metadata": {
        "id": "BEEoNgRsgERS",
        "outputId": "c04b3c2e-8c41-4f24-fd95-d71c0170ec38",
        "colab": {
          "base_uri": "https://localhost:8080/",
          "height": 204
        }
      },
      "source": [
        "# Confusion Matrix\n",
        "y_pred = mod.predict(X_test)\n",
        "print(confusion_matrix(y_test, y_pred))  \n",
        "print(classification_report(y_test, y_pred)) "
      ],
      "execution_count": 323,
      "outputs": [
        {
          "output_type": "stream",
          "text": [
            "[[7657   12]\n",
            " [   4 2327]]\n",
            "              precision    recall  f1-score   support\n",
            "\n",
            "           0       1.00      1.00      1.00      7669\n",
            "           1       0.99      1.00      1.00      2331\n",
            "\n",
            "    accuracy                           1.00     10000\n",
            "   macro avg       1.00      1.00      1.00     10000\n",
            "weighted avg       1.00      1.00      1.00     10000\n",
            "\n"
          ],
          "name": "stdout"
        }
      ]
    },
    {
      "cell_type": "markdown",
      "metadata": {
        "id": "6SDUCar_EbWt"
      },
      "source": [
        "**Decision Tree**"
      ]
    },
    {
      "cell_type": "code",
      "metadata": {
        "id": "kPsvKHKJEW2P"
      },
      "source": [
        "\n"
      ],
      "execution_count": null,
      "outputs": []
    },
    {
      "cell_type": "code",
      "metadata": {
        "id": "qotZgUMhEfIV",
        "outputId": "1ce435cb-5e01-44c5-8a68-fbf4fd94106a",
        "colab": {
          "base_uri": "https://localhost:8080/",
          "height": 51
        }
      },
      "source": [
        "from sklearn.tree import DecisionTreeClassifier\n",
        "dt = DecisionTreeClassifier(criterion='entropy',max_depth=8, max_features=10, random_state=0)\n",
        "dt.fit(X_train, y_train)\n",
        "print(\"Accuracy on training set: {:.3f}\".format(dt.score(X_train, y_train)))\n",
        "print(\"Accuracy on test set: {:.3f}\".format(dt.score(X_test, y_test)))"
      ],
      "execution_count": 324,
      "outputs": [
        {
          "output_type": "stream",
          "text": [
            "Accuracy on training set: 1.000\n",
            "Accuracy on test set: 1.000\n"
          ],
          "name": "stdout"
        }
      ]
    },
    {
      "cell_type": "code",
      "metadata": {
        "id": "VVTVdbdQEn8d"
      },
      "source": [
        "y_pred = dt.predict(X_test)"
      ],
      "execution_count": 325,
      "outputs": []
    },
    {
      "cell_type": "code",
      "metadata": {
        "id": "Y0XFatSFEsbF",
        "outputId": "c7cbd854-5474-4166-9b38-52a589afac16",
        "colab": {
          "base_uri": "https://localhost:8080/",
          "height": 204
        }
      },
      "source": [
        "from sklearn.metrics import classification_report, confusion_matrix  \n",
        "\n",
        "print(confusion_matrix(y_test, y_pred))  \n",
        "print(classification_report(y_test, y_pred))"
      ],
      "execution_count": 326,
      "outputs": [
        {
          "output_type": "stream",
          "text": [
            "[[7669    0]\n",
            " [   0 2331]]\n",
            "              precision    recall  f1-score   support\n",
            "\n",
            "           0       1.00      1.00      1.00      7669\n",
            "           1       1.00      1.00      1.00      2331\n",
            "\n",
            "    accuracy                           1.00     10000\n",
            "   macro avg       1.00      1.00      1.00     10000\n",
            "weighted avg       1.00      1.00      1.00     10000\n",
            "\n"
          ],
          "name": "stdout"
        }
      ]
    },
    {
      "cell_type": "markdown",
      "metadata": {
        "id": "H_4bdFVfIZGc"
      },
      "source": [
        "**NN**"
      ]
    },
    {
      "cell_type": "code",
      "metadata": {
        "id": "Geb_mCzIIYy1"
      },
      "source": [
        "from sklearn.preprocessing import StandardScaler\n",
        "from sklearn.neural_network import MLPClassifier \n",
        "scaler = StandardScaler()  \n",
        "scaler.fit(X_train)\n",
        "\n",
        "X_train = scaler.transform(X_train)  \n",
        "X_test = scaler.transform(X_test)"
      ],
      "execution_count": 327,
      "outputs": []
    },
    {
      "cell_type": "code",
      "metadata": {
        "id": "dBGe4Z_ZIhnz",
        "outputId": "c36f3349-b98e-4c27-92b6-03924cd0e18f",
        "colab": {
          "base_uri": "https://localhost:8080/",
          "height": 544
        }
      },
      "source": [
        "from sklearn.neural_network import MLPClassifier  \n",
        "mlp = MLPClassifier(hidden_layer_sizes=(10,10), max_iter=1000,verbose=2)  \n",
        "mlp.fit(X_train, y_train)  "
      ],
      "execution_count": 328,
      "outputs": [
        {
          "output_type": "stream",
          "text": [
            "Iteration 1, loss = 0.45464244\n",
            "Iteration 2, loss = 0.10231649\n",
            "Iteration 3, loss = 0.03116046\n",
            "Iteration 4, loss = 0.01082394\n",
            "Iteration 5, loss = 0.00483965\n",
            "Iteration 6, loss = 0.00271817\n",
            "Iteration 7, loss = 0.00165552\n",
            "Iteration 8, loss = 0.00114694\n",
            "Iteration 9, loss = 0.00082801\n",
            "Iteration 10, loss = 0.00063695\n",
            "Iteration 11, loss = 0.00049859\n",
            "Iteration 12, loss = 0.00039403\n",
            "Iteration 13, loss = 0.00030767\n",
            "Iteration 14, loss = 0.00024444\n",
            "Iteration 15, loss = 0.00019869\n",
            "Iteration 16, loss = 0.00016422\n",
            "Iteration 17, loss = 0.00013892\n",
            "Iteration 18, loss = 0.00011821\n",
            "Iteration 19, loss = 0.00010182\n",
            "Iteration 20, loss = 0.00008851\n",
            "Iteration 21, loss = 0.00007759\n",
            "Iteration 22, loss = 0.00006844\n",
            "Iteration 23, loss = 0.00006065\n",
            "Training loss did not improve more than tol=0.000100 for 10 consecutive epochs. Stopping.\n"
          ],
          "name": "stdout"
        },
        {
          "output_type": "execute_result",
          "data": {
            "text/plain": [
              "MLPClassifier(activation='relu', alpha=0.0001, batch_size='auto', beta_1=0.9,\n",
              "              beta_2=0.999, early_stopping=False, epsilon=1e-08,\n",
              "              hidden_layer_sizes=(10, 10), learning_rate='constant',\n",
              "              learning_rate_init=0.001, max_fun=15000, max_iter=1000,\n",
              "              momentum=0.9, n_iter_no_change=10, nesterovs_momentum=True,\n",
              "              power_t=0.5, random_state=None, shuffle=True, solver='adam',\n",
              "              tol=0.0001, validation_fraction=0.1, verbose=2, warm_start=False)"
            ]
          },
          "metadata": {
            "tags": []
          },
          "execution_count": 328
        }
      ]
    },
    {
      "cell_type": "code",
      "metadata": {
        "id": "7ZwnUi_6I3Hr",
        "outputId": "98542878-fba2-425d-a879-54d482e9c313",
        "colab": {
          "base_uri": "https://localhost:8080/",
          "height": 221
        }
      },
      "source": [
        "predictions = mlp.predict(X_test)\n",
        "\n",
        "from sklearn import metrics \n",
        "print(\"Accuracy\", metrics.accuracy_score(y_test, predictions))\n",
        "print(confusion_matrix(y_test,predictions))  \n",
        "print(classification_report(y_test,predictions))  "
      ],
      "execution_count": 329,
      "outputs": [
        {
          "output_type": "stream",
          "text": [
            "Accuracy 1.0\n",
            "[[7669    0]\n",
            " [   0 2331]]\n",
            "              precision    recall  f1-score   support\n",
            "\n",
            "           0       1.00      1.00      1.00      7669\n",
            "           1       1.00      1.00      1.00      2331\n",
            "\n",
            "    accuracy                           1.00     10000\n",
            "   macro avg       1.00      1.00      1.00     10000\n",
            "weighted avg       1.00      1.00      1.00     10000\n",
            "\n"
          ],
          "name": "stdout"
        }
      ]
    },
    {
      "cell_type": "code",
      "metadata": {
        "id": "pZnUta8CI58j",
        "outputId": "5d7427bb-2ab5-4a8e-d316-99f6b6effa77",
        "colab": {
          "base_uri": "https://localhost:8080/",
          "height": 51
        }
      },
      "source": [
        "print(\"Accuracy on training set: {:.3f}\".format(mlp.score(X_train, y_train)))\n",
        "print(\"Accuracy on test set: {:.3f}\".format(mlp.score(X_test, y_test)))"
      ],
      "execution_count": 330,
      "outputs": [
        {
          "output_type": "stream",
          "text": [
            "Accuracy on training set: 1.000\n",
            "Accuracy on test set: 1.000\n"
          ],
          "name": "stdout"
        }
      ]
    },
    {
      "cell_type": "code",
      "metadata": {
        "id": "k0JgswVhJO6w"
      },
      "source": [
        "import matplotlib.pyplot as plt\n",
        "%matplotlib inline\n",
        "import matplotlib \n",
        "import pandas as pd\n",
        "import numpy as np"
      ],
      "execution_count": 331,
      "outputs": []
    },
    {
      "cell_type": "code",
      "metadata": {
        "id": "xsOtQ6syJQZf",
        "outputId": "77282ac4-75d7-4edb-d9ac-bca5003b42b1",
        "colab": {
          "base_uri": "https://localhost:8080/",
          "height": 295
        }
      },
      "source": [
        "plt.plot(mlp.loss_curve_)\n",
        "plt.title(\"NN Loss Curve\")\n",
        "plt.xlabel(\"number of steps\")\n",
        "plt.ylabel(\"loss function\")\n",
        "plt.show()"
      ],
      "execution_count": 332,
      "outputs": [
        {
          "output_type": "display_data",
          "data": {
            "image/png": "[encoded data removed]",
            "text/plain": [
              "<Figure size 432x288 with 1 Axes>"
            ]
          },
          "metadata": {
            "tags": [],
            "needs_background": "light"
          }
        }
      ]
    },
    {
      "cell_type": "code",
      "metadata": {
        "id": "kqIYM2ZYJTmJ",
        "outputId": "f0834ad3-abe6-4cdc-9761-1b8b71ab149d",
        "colab": {
          "base_uri": "https://localhost:8080/",
          "height": 34
        }
      },
      "source": [
        "(mlp.intercepts_[0]).shape"
      ],
      "execution_count": 333,
      "outputs": [
        {
          "output_type": "execute_result",
          "data": {
            "text/plain": [
              "(10,)"
            ]
          },
          "metadata": {
            "tags": []
          },
          "execution_count": 333
        }
      ]
    },
    {
      "cell_type": "code",
      "metadata": {
        "id": "tfdzHPEGJVMf",
        "outputId": "a27e9eaf-19a0-4a33-e795-ecb09011eb0f",
        "colab": {
          "base_uri": "https://localhost:8080/",
          "height": 34
        }
      },
      "source": [
        "(mlp.coefs_[0]).shape"
      ],
      "execution_count": 334,
      "outputs": [
        {
          "output_type": "execute_result",
          "data": {
            "text/plain": [
              "(18, 10)"
            ]
          },
          "metadata": {
            "tags": []
          },
          "execution_count": 334
        }
      ]
    },
    {
      "cell_type": "code",
      "metadata": {
        "id": "6xVaBC05JXGf",
        "outputId": "7be11ec5-ebaa-4084-ec4c-53c1120fde52",
        "colab": {
          "base_uri": "https://localhost:8080/",
          "height": 51
        }
      },
      "source": [
        "mlp.intercepts_[0]"
      ],
      "execution_count": 335,
      "outputs": [
        {
          "output_type": "execute_result",
          "data": {
            "text/plain": [
              "array([-0.22056505,  0.48330979,  1.46833593,  0.04149313, -0.0627402 ,\n",
              "        0.01670083, -0.15483994,  0.5752247 , -0.01029413,  0.3622246 ])"
            ]
          },
          "metadata": {
            "tags": []
          },
          "execution_count": 335
        }
      ]
    },
    {
      "cell_type": "code",
      "metadata": {
        "id": "nfGWY8aZJYOh",
        "outputId": "e1f81e2a-a672-4c90-c4c7-5f576a57b5d9",
        "colab": {
          "base_uri": "https://localhost:8080/",
          "height": 629
        }
      },
      "source": [
        "mlp.coefs_[0]"
      ],
      "execution_count": 336,
      "outputs": [
        {
          "output_type": "execute_result",
          "data": {
            "text/plain": [
              "array([[-0.27422797,  0.32376457,  0.25196425,  0.06478   ,  0.50106474,\n",
              "         0.03951757, -0.29633445,  0.10021833, -0.38573067, -0.16178036],\n",
              "       [-0.50611374, -0.05460495,  0.15454552,  0.01520879,  0.72652615,\n",
              "        -0.30062357, -0.17763786,  0.10066113,  0.3225788 , -0.27477104],\n",
              "       [ 0.15875204, -0.68808529, -0.86640604,  0.96777419,  0.51345885,\n",
              "        -0.43400401,  0.47137541,  0.82843983, -0.64837946,  0.15775207],\n",
              "       [-0.03371788, -0.44455833, -0.03176092, -0.10988816,  0.40510604,\n",
              "        -0.20993676, -0.01972549, -0.14834475,  0.24353146, -0.26166544],\n",
              "       [ 0.015438  , -0.07523812,  0.0678514 ,  0.30338811,  0.0328137 ,\n",
              "         0.16763482,  0.40298994, -0.21438693,  0.21568133, -0.01402054],\n",
              "       [-0.11062154, -0.45537224,  0.03638299,  0.11264348, -0.1300718 ,\n",
              "        -0.49681032, -0.09530688, -0.00182824,  0.25667051, -0.62116557],\n",
              "       [-0.02497114, -0.52558418,  0.18633599,  0.32900828,  0.26424845,\n",
              "        -0.07517577, -0.13941365, -0.26687118, -0.15974856,  0.16092033],\n",
              "       [ 0.1057053 , -0.02868308,  0.03388854,  0.00485955,  0.24561718,\n",
              "         0.8576206 , -0.12566057, -0.30204301, -0.19953287,  0.49906242],\n",
              "       [ 0.00844322, -0.47885339, -0.13090699, -0.24179019, -0.21379839,\n",
              "         0.85375156,  0.42695234, -0.26947397, -0.27179704,  0.50575309],\n",
              "       [-0.30592345, -0.27691515,  0.17175621,  0.09110821,  0.24643608,\n",
              "        -0.23285171, -0.14575738,  0.06336319,  0.22122214,  0.40068798],\n",
              "       [-0.27721847,  0.14403487,  0.05139119, -0.29045771, -0.00439429,\n",
              "        -0.23596275, -0.01236454, -0.07315669,  0.18333011, -0.09281541],\n",
              "       [ 0.4121809 , -0.3977841 , -0.22800831,  0.56791628, -0.18167397,\n",
              "         0.1677104 ,  0.37110951, -0.27983556,  0.23845745, -0.07137571],\n",
              "       [-0.20518234, -0.31280314,  0.02386382, -0.06987886,  0.17876166,\n",
              "        -0.29568407, -0.14874715,  0.04418229, -0.22754121, -0.26659456],\n",
              "       [ 0.21383535, -0.38259919, -0.1275613 , -0.31258684, -0.29010654,\n",
              "        -0.08419107,  0.16569288, -0.29067159, -0.09648828,  0.28274556],\n",
              "       [ 0.16291849, -0.66556099,  0.12659136,  0.16741621,  0.17974452,\n",
              "         0.17055711,  0.29785815,  0.01815112,  0.22948246,  0.1921956 ],\n",
              "       [-0.31792942, -0.012518  ,  0.32005323,  0.31477215,  0.08780407,\n",
              "         0.35594605,  0.36451832, -0.24733032, -0.01377523, -0.21941152],\n",
              "       [ 0.34300405, -0.40314605,  0.30300628, -0.15042391, -0.44227727,\n",
              "        -0.09839585,  0.0873417 , -0.70952168,  0.02680431,  0.23117354],\n",
              "       [ 0.35879938, -0.45356186, -0.55404808, -0.19367864, -0.18937466,\n",
              "         0.26806985,  0.22310442, -0.32551736, -0.10372669,  0.32233275]])"
            ]
          },
          "metadata": {
            "tags": []
          },
          "execution_count": 336
        }
      ]
    },
    {
      "cell_type": "code",
      "metadata": {
        "id": "lEdc6BTCJaRf",
        "outputId": "5254b170-d420-439b-8197-80d911cd5c91",
        "colab": {
          "base_uri": "https://localhost:8080/",
          "height": 527
        }
      },
      "source": [
        "#Adjust the number of hidde Layer/ hidden node to improve the NN performance. Write your code below.\n",
        "\n",
        "mlp = MLPClassifier(hidden_layer_sizes=(5,5), max_iter=1000,verbose=2)  \n",
        "mlp.fit(X_train, y_train) \n",
        "\n",
        "predictions = mlp.predict(X_test)  "
      ],
      "execution_count": 337,
      "outputs": [
        {
          "output_type": "stream",
          "text": [
            "Iteration 1, loss = 0.75650632\n",
            "Iteration 2, loss = 0.34721417\n",
            "Iteration 3, loss = 0.13672630\n",
            "Iteration 4, loss = 0.06515557\n",
            "Iteration 5, loss = 0.03458041\n",
            "Iteration 6, loss = 0.01998345\n",
            "Iteration 7, loss = 0.01252789\n",
            "Iteration 8, loss = 0.00843665\n",
            "Iteration 9, loss = 0.00595945\n",
            "Iteration 10, loss = 0.00432409\n",
            "Iteration 11, loss = 0.00319973\n",
            "Iteration 12, loss = 0.00238627\n",
            "Iteration 13, loss = 0.00182506\n",
            "Iteration 14, loss = 0.00140278\n",
            "Iteration 15, loss = 0.00107252\n",
            "Iteration 16, loss = 0.00081870\n",
            "Iteration 17, loss = 0.00064971\n",
            "Iteration 18, loss = 0.00053170\n",
            "Iteration 19, loss = 0.00043936\n",
            "Iteration 20, loss = 0.00036709\n",
            "Iteration 21, loss = 0.00030937\n",
            "Iteration 22, loss = 0.00026286\n",
            "Iteration 23, loss = 0.00022440\n",
            "Iteration 24, loss = 0.00019281\n",
            "Iteration 25, loss = 0.00016656\n",
            "Iteration 26, loss = 0.00014475\n",
            "Iteration 27, loss = 0.00012622\n",
            "Iteration 28, loss = 0.00011043\n",
            "Iteration 29, loss = 0.00010695\n",
            "Training loss did not improve more than tol=0.000100 for 10 consecutive epochs. Stopping.\n"
          ],
          "name": "stdout"
        }
      ]
    },
    {
      "cell_type": "code",
      "metadata": {
        "id": "3xVTuALOJcpg",
        "outputId": "61652690-5893-4d40-d1d1-5760aed88fb5",
        "colab": {
          "base_uri": "https://localhost:8080/",
          "height": 221
        }
      },
      "source": [
        "from sklearn.metrics import confusion_matrix\n",
        "from sklearn.metrics import classification_report\n",
        "from sklearn import metrics\n",
        "print(\"Accuracy\", metrics.accuracy_score(y_test, predictions))\n",
        "print(confusion_matrix(y_test,predictions))  \n",
        "print(classification_report(y_test,predictions))"
      ],
      "execution_count": 338,
      "outputs": [
        {
          "output_type": "stream",
          "text": [
            "Accuracy 0.9999\n",
            "[[7669    0]\n",
            " [   1 2330]]\n",
            "              precision    recall  f1-score   support\n",
            "\n",
            "           0       1.00      1.00      1.00      7669\n",
            "           1       1.00      1.00      1.00      2331\n",
            "\n",
            "    accuracy                           1.00     10000\n",
            "   macro avg       1.00      1.00      1.00     10000\n",
            "weighted avg       1.00      1.00      1.00     10000\n",
            "\n"
          ],
          "name": "stdout"
        }
      ]
    },
    {
      "cell_type": "markdown",
      "metadata": {
        "id": "2-n6qbhefBOB"
      },
      "source": [
        "**Logistic** **Regression**"
      ]
    },
    {
      "cell_type": "code",
      "metadata": {
        "id": "-U_DsYWMfIeL",
        "outputId": "66372b3e-ce04-4c98-8010-2f21a279279e",
        "colab": {
          "base_uri": "https://localhost:8080/",
          "height": 51
        }
      },
      "source": [
        "from sklearn.linear_model import LogisticRegression\n",
        "logreg = LogisticRegression(C=0.01, max_iter=10000).fit(X_train, y_train)\n",
        "print(\"Training set score: {:.3f}\".format(logreg.score(X_train, y_train)))\n",
        "print(\"Test set score: {:.3f}\".format(logreg.score(X_test, y_test)))"
      ],
      "execution_count": 339,
      "outputs": [
        {
          "output_type": "stream",
          "text": [
            "Training set score: 1.000\n",
            "Test set score: 1.000\n"
          ],
          "name": "stdout"
        }
      ]
    },
    {
      "cell_type": "code",
      "metadata": {
        "id": "EXd8Nhr0fJk1",
        "outputId": "7a61de4a-0135-4d55-8ece-4dde15cbbc11",
        "colab": {
          "base_uri": "https://localhost:8080/",
          "height": 34
        }
      },
      "source": [
        "logreg.intercept_.T"
      ],
      "execution_count": 340,
      "outputs": [
        {
          "output_type": "execute_result",
          "data": {
            "text/plain": [
              "array([-3.35900793])"
            ]
          },
          "metadata": {
            "tags": []
          },
          "execution_count": 340
        }
      ]
    },
    {
      "cell_type": "code",
      "metadata": {
        "id": "ZgY1sTVwfMXV",
        "outputId": "99d3483f-5687-4753-c0cc-13ea6685cb55",
        "colab": {
          "base_uri": "https://localhost:8080/",
          "height": 323
        }
      },
      "source": [
        "logreg.coef_.T"
      ],
      "execution_count": 341,
      "outputs": [
        {
          "output_type": "execute_result",
          "data": {
            "text/plain": [
              "array([[ 7.30803036e-03],\n",
              "       [ 7.26931621e-01],\n",
              "       [ 3.17536022e+00],\n",
              "       [ 3.52692842e-01],\n",
              "       [ 1.42472737e-01],\n",
              "       [ 2.63181931e-01],\n",
              "       [ 3.75061623e-01],\n",
              "       [ 2.00845689e-02],\n",
              "       [-7.21014795e-03],\n",
              "       [ 1.92452150e-02],\n",
              "       [-6.55567316e-02],\n",
              "       [ 1.78184559e-02],\n",
              "       [-2.85372770e-02],\n",
              "       [-2.54788522e-03],\n",
              "       [ 4.85845700e-02],\n",
              "       [-1.00632570e-01],\n",
              "       [-2.06514098e-01],\n",
              "       [ 3.91067944e-02]])"
            ]
          },
          "metadata": {
            "tags": []
          },
          "execution_count": 341
        }
      ]
    },
    {
      "cell_type": "code",
      "metadata": {
        "id": "_8i2E3XffMbu",
        "outputId": "4a1c1fb1-c73b-4e0a-c0b3-263a4013523e",
        "colab": {
          "base_uri": "https://localhost:8080/",
          "height": 221
        }
      },
      "source": [
        "print(y_test)"
      ],
      "execution_count": 342,
      "outputs": [
        {
          "output_type": "stream",
          "text": [
            "11841    0\n",
            "19602    1\n",
            "45519    0\n",
            "25747    0\n",
            "42642    0\n",
            "        ..\n",
            "25091    0\n",
            "27853    0\n",
            "47278    0\n",
            "37020    0\n",
            "2217     0\n",
            "Name: low-cholesterol, Length: 10000, dtype: int64\n"
          ],
          "name": "stdout"
        }
      ]
    },
    {
      "cell_type": "code",
      "metadata": {
        "id": "TDsgGGMYfMZO",
        "outputId": "1fa5c134-b4d7-4de6-b1d9-bbca9b6443c7",
        "colab": {
          "base_uri": "https://localhost:8080/",
          "height": 204
        }
      },
      "source": [
        "from sklearn.metrics import classification_report, confusion_matrix  \n",
        "y_pred = logreg.predict(X_test)\n",
        "print(confusion_matrix(y_test, y_pred))  \n",
        "print(classification_report(y_test, y_pred))\n",
        "##before processing data in PCA, we got 0.73 accurancy, from this we can observe the accurancy do not decrease a lot\n",
        "#we can also normally use the model, and largely reduce caculation by using PCA"
      ],
      "execution_count": 343,
      "outputs": [
        {
          "output_type": "stream",
          "text": [
            "[[7669    0]\n",
            " [   0 2331]]\n",
            "              precision    recall  f1-score   support\n",
            "\n",
            "           0       1.00      1.00      1.00      7669\n",
            "           1       1.00      1.00      1.00      2331\n",
            "\n",
            "    accuracy                           1.00     10000\n",
            "   macro avg       1.00      1.00      1.00     10000\n",
            "weighted avg       1.00      1.00      1.00     10000\n",
            "\n"
          ],
          "name": "stdout"
        }
      ]
    },
    {
      "cell_type": "code",
      "metadata": {
        "id": "vA1i-9yFfMSd"
      },
      "source": [
        "#!conda install -c conda-forge scikit-plot\n",
        "import matplotlib.pyplot as plt\n",
        "import scikitplot as skplt\n",
        "y_pred_probas = logreg.predict_proba(X_test)"
      ],
      "execution_count": 344,
      "outputs": []
    },
    {
      "cell_type": "code",
      "metadata": {
        "id": "4tj863DRfazF",
        "outputId": "8e128e39-a975-4e56-d48d-2848fc4e83fb",
        "colab": {
          "base_uri": "https://localhost:8080/",
          "height": 295
        }
      },
      "source": [
        "skplt.metrics.plot_cumulative_gain(y_test, y_pred_probas)\n",
        "plt.show()"
      ],
      "execution_count": 345,
      "outputs": [
        {
          "output_type": "display_data",
          "data": {
            "image/png": "[encoded data removed]",
            "text/plain": [
              "<Figure size 432x288 with 1 Axes>"
            ]
          },
          "metadata": {
            "tags": [],
            "needs_background": "light"
          }
        }
      ]
    },
    {
      "cell_type": "code",
      "metadata": {
        "id": "uf7br18Kfbov",
        "outputId": "dddb4b1d-3631-4f9a-e2e4-806655cbb1ea",
        "colab": {
          "base_uri": "https://localhost:8080/",
          "height": 295
        }
      },
      "source": [
        "skplt.metrics.plot_lift_curve(y_test, y_pred_probas)\n",
        "plt.show()"
      ],
      "execution_count": 346,
      "outputs": [
        {
          "output_type": "display_data",
          "data": {
            "image/png": "[encoded data removed]",
            "text/plain": [
              "<Figure size 432x288 with 1 Axes>"
            ]
          },
          "metadata": {
            "tags": [],
            "needs_background": "light"
          }
        }
      ]
    },
    {
      "cell_type": "code",
      "metadata": {
        "id": "CFvVyg_BfbmV"
      },
      "source": [
        ""
      ],
      "execution_count": null,
      "outputs": []
    },
    {
      "cell_type": "code",
      "metadata": {
        "id": "C1K2w9FAfawG"
      },
      "source": [
        ""
      ],
      "execution_count": null,
      "outputs": []
    }
  ]
}