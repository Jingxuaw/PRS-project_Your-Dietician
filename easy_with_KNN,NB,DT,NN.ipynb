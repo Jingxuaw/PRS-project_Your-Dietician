{
  "nbformat": 4,
  "nbformat_minor": 0,
  "metadata": {
    "colab": {
      "name": "easy_with_KNN,NB,DT,NN.ipynb",
      "provenance": [],
      "collapsed_sections": []
    },
    "kernelspec": {
      "name": "python3",
      "display_name": "Python 3"
    }
  },
  "cells": [
    {
      "cell_type": "code",
      "metadata": {
        "id": "wcZzO8n50dtz",
        "outputId": "b0628e45-9d10-4b72-c9c9-9a54068ac8fc",
        "colab": {
          "base_uri": "https://localhost:8080/",
          "height": 34
        }
      },
      "source": [
        "from google.colab import drive\n",
        "drive.mount('/content/gdrive')"
      ],
      "execution_count": 395,
      "outputs": [
        {
          "output_type": "stream",
          "text": [
            "Drive already mounted at /content/gdrive; to attempt to forcibly remount, call drive.mount(\"/content/gdrive\", force_remount=True).\n"
          ],
          "name": "stdout"
        }
      ]
    },
    {
      "cell_type": "code",
      "metadata": {
        "id": "szx4FLle1C3A",
        "outputId": "0e9b84c4-24b6-4744-a6f6-7fb2b735e86c",
        "colab": {
          "base_uri": "https://localhost:8080/",
          "height": 51
        }
      },
      "source": [
        "from ast import literal_eval\n",
        "import pandas as pd\n",
        "import numpy as np\n",
        "import matplotlib\n",
        "import matplotlib.pyplot as plt\n",
        "import seaborn as sns\n",
        "from scipy import sparse as sp_sparse\n",
        "from sklearn.feature_extraction.text import TfidfVectorizer\n",
        "from sklearn.preprocessing import MultiLabelBinarizer\n",
        "from sklearn.naive_bayes import MultinomialNB\n",
        "from sklearn.multiclass import OneVsRestClassifier\n",
        "from sklearn.linear_model import LogisticRegression, RidgeClassifier\n",
        "from sklearn.svm import LinearSVC\n",
        "from sklearn.pipeline import Pipeline\n",
        "from sklearn.feature_extraction.text import CountVectorizer\n",
        "import nltk\n",
        "import re\n",
        "from nltk.corpus import stopwords\n",
        "nltk.download('stopwords')\n",
        "stop_words = set(stopwords.words('english'))"
      ],
      "execution_count": 396,
      "outputs": [
        {
          "output_type": "stream",
          "text": [
            "[nltk_data] Downloading package stopwords to /root/nltk_data...\n",
            "[nltk_data]   Package stopwords is already up-to-date!\n"
          ],
          "name": "stdout"
        }
      ]
    },
    {
      "cell_type": "code",
      "metadata": {
        "id": "TpMM7ELy0mbW"
      },
      "source": [
        "from sklearn.model_selection import train_test_split\n",
        "data = pd.read_csv('/content/gdrive/My Drive/project/50000.csv',encoding='ISO-8859-1')\n",
        "# data['tags'] = data['tags'].apply(literal_eval)\n",
        "# x = data.nutrition\n",
        "x = data.drop([\"name\",\"id\",\"contributor_id\",\"nutrition\",\"submitted\",\"steps\",\"tags\",\"description\",\"ingredients\"],axis = 1)\n",
        "y = data['easy']\n"
      ],
      "execution_count": 498,
      "outputs": []
    },
    {
      "cell_type": "code",
      "metadata": {
        "id": "WENhwEEl0qkU"
      },
      "source": [
        "import numpy as np\n",
        "from sklearn.preprocessing import LabelEncoder\n",
        "\n",
        "# Convert each category in the label to an integer\n",
        "# le = LabelEncoder()\n",
        "# y= le.fit_transform(y)\n",
        "X_train,X_test,y_train,y_test = train_test_split(x,y,test_size=1/5,random_state=0)"
      ],
      "execution_count": 499,
      "outputs": []
    },
    {
      "cell_type": "code",
      "metadata": {
        "id": "TYiqdBlv9uQE",
        "outputId": "ae19d5d4-9e98-414b-cd29-8eedd65ff594",
        "colab": {
          "base_uri": "https://localhost:8080/",
          "height": 238
        }
      },
      "source": [
        "print(y)\n",
        "print(y.shape)"
      ],
      "execution_count": 500,
      "outputs": [
        {
          "output_type": "stream",
          "text": [
            "0        1\n",
            "1        0\n",
            "2        0\n",
            "3        1\n",
            "4        1\n",
            "        ..\n",
            "49995    1\n",
            "49996    1\n",
            "49997    0\n",
            "49998    1\n",
            "49999    1\n",
            "Name: easy, Length: 50000, dtype: int64\n",
            "(50000,)\n"
          ],
          "name": "stdout"
        }
      ]
    },
    {
      "cell_type": "code",
      "metadata": {
        "id": "O5w-f02p0rAs",
        "outputId": "0d8e89b1-bbd8-43bc-ceaf-735d5abc26b1",
        "colab": {
          "base_uri": "https://localhost:8080/",
          "height": 221
        }
      },
      "source": [
        "print(y_train)"
      ],
      "execution_count": 501,
      "outputs": [
        {
          "output_type": "stream",
          "text": [
            "20330    0\n",
            "17532    1\n",
            "45819    1\n",
            "34807    1\n",
            "31888    1\n",
            "        ..\n",
            "21243    1\n",
            "45891    1\n",
            "42613    1\n",
            "43567    1\n",
            "2732     1\n",
            "Name: easy, Length: 40000, dtype: int64\n"
          ],
          "name": "stdout"
        }
      ]
    },
    {
      "cell_type": "code",
      "metadata": {
        "id": "N5Vrty9N0v2M",
        "outputId": "41d8dc37-d3da-4835-de97-65b5c829e7c3",
        "colab": {
          "base_uri": "https://localhost:8080/",
          "height": 255
        }
      },
      "source": [
        "print(X_train)"
      ],
      "execution_count": 502,
      "outputs": [
        {
          "output_type": "stream",
          "text": [
            "       minutes  healthy  ...  stated_fat  total_carbonhydrate\n",
            "20330       70        0  ...          29                    6\n",
            "17532       60        1  ...           6                   13\n",
            "45819       50        0  ...           0                    5\n",
            "34807      130        1  ...           0                    5\n",
            "31888       25        0  ...          12                    3\n",
            "...        ...      ...  ...         ...                  ...\n",
            "21243       10        1  ...          29                    9\n",
            "45891       10        0  ...           0                    1\n",
            "42613       20        0  ...           0                    0\n",
            "43567        1        0  ...           0                    1\n",
            "2732        20        0  ...          58                   18\n",
            "\n",
            "[40000 rows x 19 columns]\n"
          ],
          "name": "stdout"
        }
      ]
    },
    {
      "cell_type": "markdown",
      "metadata": {
        "id": "s8GF3L4HDDCt"
      },
      "source": [
        " **K-NN**"
      ]
    },
    {
      "cell_type": "code",
      "metadata": {
        "id": "5NaHyG8XCuRf"
      },
      "source": [
        "from sklearn.neighbors import KNeighborsClassifier\n",
        "\n",
        "test_scores = []\n",
        "train_scores = []\n",
        "\n",
        "for i in range(1,21): # Declare an of the KNN classifier class with the value with neighbors.\n",
        "\n",
        "    knn = KNeighborsClassifier(i)\n",
        "    knn.fit(X_train,y_train) # Fit the model with training data and target values\n",
        "    \n",
        "    train_scores.append(knn.score(X_train,y_train))\n",
        "    test_scores.append(knn.score(X_test,y_test))"
      ],
      "execution_count": 503,
      "outputs": []
    },
    {
      "cell_type": "code",
      "metadata": {
        "id": "IYPIC45AC5Hm",
        "outputId": "ab7c572b-f741-4000-8cb8-d8ee6a078d17",
        "colab": {
          "base_uri": "https://localhost:8080/",
          "height": 34
        }
      },
      "source": [
        "## score that comes from testing on the same datapoints that were used for training\n",
        "max_train_score = max(train_scores)\n",
        "train_scores_ind = [i for i, v in enumerate(train_scores) if v == max_train_score]\n",
        "print('Max train score {} % and k = {}'.format(max_train_score*100,list(map(lambda x: x+1, train_scores_ind))))"
      ],
      "execution_count": 504,
      "outputs": [
        {
          "output_type": "stream",
          "text": [
            "Max train score 100.0 % and k = [1]\n"
          ],
          "name": "stdout"
        }
      ]
    },
    {
      "cell_type": "code",
      "metadata": {
        "id": "Um1kV2BoC7y6",
        "outputId": "92db73aa-b5df-4d3d-fda0-21df73a7b806",
        "colab": {
          "base_uri": "https://localhost:8080/",
          "height": 34
        }
      },
      "source": [
        "## score that comes from testing on the datapoints that were split in the beginning to be used for testing solely\n",
        "max_test_score = max(test_scores)\n",
        "test_scores_ind = [i for i, v in enumerate(test_scores) if v == max_test_score]\n",
        "print('Max test score {} % and k = {}'.format(max_test_score*100,list(map(lambda x: x+1, test_scores_ind))))"
      ],
      "execution_count": 505,
      "outputs": [
        {
          "output_type": "stream",
          "text": [
            "Max test score 88.56 % and k = [19]\n"
          ],
          "name": "stdout"
        }
      ]
    },
    {
      "cell_type": "code",
      "metadata": {
        "id": "-StZyEnBDAY3",
        "outputId": "d8d6f9ca-9a96-4d63-b284-03c26a418f2b",
        "colab": {
          "base_uri": "https://localhost:8080/",
          "height": 337
        }
      },
      "source": [
        "plt.figure(figsize=(12,5))\n",
        "plt.plot(range(1,21),train_scores,marker='*',label='Train Score')\n",
        "plt.plot(range(1,21),test_scores,marker='o',label='Test Score')"
      ],
      "execution_count": 506,
      "outputs": [
        {
          "output_type": "execute_result",
          "data": {
            "text/plain": [
              "[<matplotlib.lines.Line2D at 0x7facfeacb3c8>]"
            ]
          },
          "metadata": {
            "tags": []
          },
          "execution_count": 506
        },
        {
          "output_type": "display_data",
          "data": {
            "image/png": "[encoded data removed]",
            "text/plain": [
              "<Figure size 864x360 with 1 Axes>"
            ]
          },
          "metadata": {
            "tags": [],
            "needs_background": "light"
          }
        }
      ]
    },
    {
      "cell_type": "code",
      "metadata": {
        "id": "tnJjxGh70XgW",
        "outputId": "48539052-9c73-438e-8f16-e2e607b3b359",
        "colab": {
          "base_uri": "https://localhost:8080/",
          "height": 34
        }
      },
      "source": [
        "#Setup a knn classifier with k neighbors\n",
        "knn = KNeighborsClassifier(19)\n",
        "\n",
        "knn.fit(X_train,y_train)\n",
        "knn.score(X_test,y_test)"
      ],
      "execution_count": 508,
      "outputs": [
        {
          "output_type": "execute_result",
          "data": {
            "text/plain": [
              "0.8856"
            ]
          },
          "metadata": {
            "tags": []
          },
          "execution_count": 508
        }
      ]
    },
    {
      "cell_type": "code",
      "metadata": {
        "id": "kvz1c76wztkT",
        "outputId": "3f6ba439-5153-473b-c832-2c6f2c61d6d2",
        "colab": {
          "base_uri": "https://localhost:8080/",
          "height": 173
        }
      },
      "source": [
        "#import confusion_matrix\n",
        "from sklearn.metrics import confusion_matrix\n",
        "#let us get the predictions using the classifier we had fit above\n",
        "y_pred = knn.predict(X_test)\n",
        "#confusion_matrix(y_test,y_pred)\n",
        "pd.crosstab(y_test, y_pred, rownames=['True'], colnames=['Predicted'], margins=True)"
      ],
      "execution_count": 509,
      "outputs": [
        {
          "output_type": "execute_result",
          "data": {
            "text/html": [
              "<div>\n",
              "<style scoped>\n",
              "    .dataframe tbody tr th:only-of-type {\n",
              "        vertical-align: middle;\n",
              "    }\n",
              "\n",
              "    .dataframe tbody tr th {\n",
              "        vertical-align: top;\n",
              "    }\n",
              "\n",
              "    .dataframe thead th {\n",
              "        text-align: right;\n",
              "    }\n",
              "</style>\n",
              "<table border=\"1\" class=\"dataframe\">\n",
              "  <thead>\n",
              "    <tr style=\"text-align: right;\">\n",
              "      <th>Predicted</th>\n",
              "      <th>0</th>\n",
              "      <th>1</th>\n",
              "      <th>All</th>\n",
              "    </tr>\n",
              "    <tr>\n",
              "      <th>True</th>\n",
              "      <th></th>\n",
              "      <th></th>\n",
              "      <th></th>\n",
              "    </tr>\n",
              "  </thead>\n",
              "  <tbody>\n",
              "    <tr>\n",
              "      <th>0</th>\n",
              "      <td>1</td>\n",
              "      <td>1141</td>\n",
              "      <td>1142</td>\n",
              "    </tr>\n",
              "    <tr>\n",
              "      <th>1</th>\n",
              "      <td>3</td>\n",
              "      <td>8855</td>\n",
              "      <td>8858</td>\n",
              "    </tr>\n",
              "    <tr>\n",
              "      <th>All</th>\n",
              "      <td>4</td>\n",
              "      <td>9996</td>\n",
              "      <td>10000</td>\n",
              "    </tr>\n",
              "  </tbody>\n",
              "</table>\n",
              "</div>"
            ],
            "text/plain": [
              "Predicted  0     1    All\n",
              "True                     \n",
              "0          1  1141   1142\n",
              "1          3  8855   8858\n",
              "All        4  9996  10000"
            ]
          },
          "metadata": {
            "tags": []
          },
          "execution_count": 509
        }
      ]
    },
    {
      "cell_type": "code",
      "metadata": {
        "id": "-O0ydBCt1GfU",
        "outputId": "e3eedc84-0630-41da-aa11-303c37fbe726",
        "colab": {
          "base_uri": "https://localhost:8080/",
          "height": 170
        }
      },
      "source": [
        "#import classification_report\n",
        "from sklearn.metrics import classification_report\n",
        "print(classification_report(y_test,y_pred))"
      ],
      "execution_count": 510,
      "outputs": [
        {
          "output_type": "stream",
          "text": [
            "              precision    recall  f1-score   support\n",
            "\n",
            "           0       0.25      0.00      0.00      1142\n",
            "           1       0.89      1.00      0.94      8858\n",
            "\n",
            "    accuracy                           0.89     10000\n",
            "   macro avg       0.57      0.50      0.47     10000\n",
            "weighted avg       0.81      0.89      0.83     10000\n",
            "\n"
          ],
          "name": "stdout"
        }
      ]
    },
    {
      "cell_type": "code",
      "metadata": {
        "id": "dLF8iRyOfM6l",
        "outputId": "c9df9db1-645e-4116-d29e-2a7f9d1247e8",
        "colab": {
          "base_uri": "https://localhost:8080/",
          "height": 295
        }
      },
      "source": [
        "from sklearn.metrics import roc_curve\n",
        "y_pred_proba = knn.predict_proba(X_test)[:,1]\n",
        "fpr, tpr, thresholds = roc_curve(y_test, y_pred_proba)\n",
        "plt.plot([0,1],[0,1],'k--')\n",
        "plt.plot(fpr,tpr, label='Knn')\n",
        "plt.xlabel('fpr')\n",
        "plt.ylabel('tpr')\n",
        "plt.title('Knn(n_neighbors=11) ROC curve')\n",
        "plt.show()"
      ],
      "execution_count": 461,
      "outputs": [
        {
          "output_type": "display_data",
          "data": {
            "image/png": "[encoded data removed]",
            "text/plain": [
              "<Figure size 432x288 with 1 Axes>"
            ]
          },
          "metadata": {
            "tags": [],
            "needs_background": "light"
          }
        }
      ]
    },
    {
      "cell_type": "code",
      "metadata": {
        "id": "mMl9yzhbflcn",
        "outputId": "de00afd4-ea0d-42d6-f7e8-d73b90dea1f3",
        "colab": {
          "base_uri": "https://localhost:8080/",
          "height": 34
        }
      },
      "source": [
        "#Area under ROC curve\n",
        "from sklearn.metrics import roc_auc_score\n",
        "roc_auc_score(y_test,y_pred_proba)"
      ],
      "execution_count": 511,
      "outputs": [
        {
          "output_type": "execute_result",
          "data": {
            "text/plain": [
              "0.5412341599844046"
            ]
          },
          "metadata": {
            "tags": []
          },
          "execution_count": 511
        }
      ]
    },
    {
      "cell_type": "code",
      "metadata": {
        "id": "irxXTtOafl7I",
        "outputId": "690b60a3-ae6b-475c-e65e-e7dfbed4710e",
        "colab": {
          "base_uri": "https://localhost:8080/",
          "height": 51
        }
      },
      "source": [
        "#import GridSearchCV\n",
        "from sklearn.model_selection import GridSearchCV\n",
        "#In case of classifier like knn the parameter to be tuned is n_neighbors\n",
        "param_grid = {'n_neighbors':np.arange(1,25)}\n",
        "knn = KNeighborsClassifier()\n",
        "knn_cv= GridSearchCV(knn,param_grid,cv=5)\n",
        "knn_cv.fit(X_train,y_train)\n",
        "\n",
        "print(\"Best Score:\" + str(knn_cv.best_score_))\n",
        "print(\"Best Parameters: \" + str(knn_cv.best_params_))"
      ],
      "execution_count": 512,
      "outputs": [
        {
          "output_type": "stream",
          "text": [
            "Best Score:0.8938\n",
            "Best Parameters: {'n_neighbors': 23}\n"
          ],
          "name": "stdout"
        }
      ]
    },
    {
      "cell_type": "markdown",
      "metadata": {
        "id": "sIF6TKh6fyaE"
      },
      "source": [
        "**NAIVE** **BAYES**"
      ]
    },
    {
      "cell_type": "code",
      "metadata": {
        "id": "TRbaXXg9f33w"
      },
      "source": [
        "from sklearn.naive_bayes import GaussianNB\n",
        "from sklearn.metrics import confusion_matrix\n"
      ],
      "execution_count": 513,
      "outputs": []
    },
    {
      "cell_type": "code",
      "metadata": {
        "id": "f3DlaBOCf4c4",
        "outputId": "73cfcef2-e309-4479-de5e-490262988f39",
        "colab": {
          "base_uri": "https://localhost:8080/",
          "height": 34
        }
      },
      "source": [
        "# Initiating the Gaussian Classifier\n",
        "mod = GaussianNB()\n",
        "\n",
        "# Training your model \n",
        "mod.fit(X_train, y_train)"
      ],
      "execution_count": 514,
      "outputs": [
        {
          "output_type": "execute_result",
          "data": {
            "text/plain": [
              "GaussianNB(priors=None, var_smoothing=1e-09)"
            ]
          },
          "metadata": {
            "tags": []
          },
          "execution_count": 514
        }
      ]
    },
    {
      "cell_type": "code",
      "metadata": {
        "id": "FBTDvi26f4S0"
      },
      "source": [
        "# Predicting Outcome \n",
        "predicted = mod.predict(X_test)"
      ],
      "execution_count": 515,
      "outputs": []
    },
    {
      "cell_type": "code",
      "metadata": {
        "id": "uCAClEKdgETy",
        "outputId": "0fce7424-dab0-4b2c-b417-576ff2c598d2",
        "colab": {
          "base_uri": "https://localhost:8080/",
          "height": 34
        }
      },
      "source": [
        "mod.score(X_test,y_test)"
      ],
      "execution_count": 516,
      "outputs": [
        {
          "output_type": "execute_result",
          "data": {
            "text/plain": [
              "0.9987"
            ]
          },
          "metadata": {
            "tags": []
          },
          "execution_count": 516
        }
      ]
    },
    {
      "cell_type": "code",
      "metadata": {
        "id": "BEEoNgRsgERS",
        "outputId": "17395dbc-9639-4ba4-8c56-1755218ec455",
        "colab": {
          "base_uri": "https://localhost:8080/",
          "height": 204
        }
      },
      "source": [
        "# Confusion Matrix\n",
        "y_pred = mod.predict(X_test)\n",
        "print(confusion_matrix(y_test, y_pred))  \n",
        "print(classification_report(y_test, y_pred)) "
      ],
      "execution_count": 517,
      "outputs": [
        {
          "output_type": "stream",
          "text": [
            "[[1135    7]\n",
            " [   6 8852]]\n",
            "              precision    recall  f1-score   support\n",
            "\n",
            "           0       0.99      0.99      0.99      1142\n",
            "           1       1.00      1.00      1.00      8858\n",
            "\n",
            "    accuracy                           1.00     10000\n",
            "   macro avg       1.00      1.00      1.00     10000\n",
            "weighted avg       1.00      1.00      1.00     10000\n",
            "\n"
          ],
          "name": "stdout"
        }
      ]
    },
    {
      "cell_type": "markdown",
      "metadata": {
        "id": "6SDUCar_EbWt"
      },
      "source": [
        "**Decision Tree**"
      ]
    },
    {
      "cell_type": "code",
      "metadata": {
        "id": "qotZgUMhEfIV",
        "outputId": "7601a4b8-d54e-4edc-d34e-1a031ed438ce",
        "colab": {
          "base_uri": "https://localhost:8080/",
          "height": 51
        }
      },
      "source": [
        "from sklearn.tree import DecisionTreeClassifier\n",
        "dt = DecisionTreeClassifier(criterion='entropy',max_depth=3, max_features=10, random_state=0)\n",
        "dt.fit(X_train, y_train)\n",
        "print(\"Accuracy on training set: {:.3f}\".format(dt.score(X_train, y_train)))\n",
        "print(\"Accuracy on test set: {:.3f}\".format(dt.score(X_test, y_test)))"
      ],
      "execution_count": 518,
      "outputs": [
        {
          "output_type": "stream",
          "text": [
            "Accuracy on training set: 1.000\n",
            "Accuracy on test set: 1.000\n"
          ],
          "name": "stdout"
        }
      ]
    },
    {
      "cell_type": "code",
      "metadata": {
        "id": "VVTVdbdQEn8d"
      },
      "source": [
        "y_pred = dt.predict(X_test)"
      ],
      "execution_count": 519,
      "outputs": []
    },
    {
      "cell_type": "code",
      "metadata": {
        "id": "Y0XFatSFEsbF",
        "outputId": "c45b3dc2-37cf-4aeb-aa26-17b104aeb888",
        "colab": {
          "base_uri": "https://localhost:8080/",
          "height": 204
        }
      },
      "source": [
        "from sklearn.metrics import classification_report, confusion_matrix  \n",
        "\n",
        "print(confusion_matrix(y_test, y_pred))  \n",
        "print(classification_report(y_test, y_pred))"
      ],
      "execution_count": 520,
      "outputs": [
        {
          "output_type": "stream",
          "text": [
            "[[1142    0]\n",
            " [   0 8858]]\n",
            "              precision    recall  f1-score   support\n",
            "\n",
            "           0       1.00      1.00      1.00      1142\n",
            "           1       1.00      1.00      1.00      8858\n",
            "\n",
            "    accuracy                           1.00     10000\n",
            "   macro avg       1.00      1.00      1.00     10000\n",
            "weighted avg       1.00      1.00      1.00     10000\n",
            "\n"
          ],
          "name": "stdout"
        }
      ]
    },
    {
      "cell_type": "markdown",
      "metadata": {
        "id": "H_4bdFVfIZGc"
      },
      "source": [
        "**NN**"
      ]
    },
    {
      "cell_type": "code",
      "metadata": {
        "id": "Geb_mCzIIYy1"
      },
      "source": [
        "from sklearn.preprocessing import StandardScaler\n",
        "from sklearn.neural_network import MLPClassifier \n",
        "scaler = StandardScaler()  \n",
        "scaler.fit(X_train)\n",
        "\n",
        "X_train = scaler.transform(X_train)  \n",
        "X_test = scaler.transform(X_test)"
      ],
      "execution_count": 521,
      "outputs": []
    },
    {
      "cell_type": "code",
      "metadata": {
        "id": "dBGe4Z_ZIhnz",
        "outputId": "8ac2eb42-3bd9-4ee2-b652-a718723e426e",
        "colab": {
          "base_uri": "https://localhost:8080/",
          "height": 527
        }
      },
      "source": [
        "from sklearn.neural_network import MLPClassifier  \n",
        "mlp = MLPClassifier(hidden_layer_sizes=(10,10), max_iter=1000,verbose=2)  \n",
        "mlp.fit(X_train, y_train)  "
      ],
      "execution_count": 522,
      "outputs": [
        {
          "output_type": "stream",
          "text": [
            "Iteration 1, loss = 0.56141533\n",
            "Iteration 2, loss = 0.06175083\n",
            "Iteration 3, loss = 0.01474975\n",
            "Iteration 4, loss = 0.00620460\n",
            "Iteration 5, loss = 0.00325211\n",
            "Iteration 6, loss = 0.00186231\n",
            "Iteration 7, loss = 0.00122542\n",
            "Iteration 8, loss = 0.00085055\n",
            "Iteration 9, loss = 0.00062777\n",
            "Iteration 10, loss = 0.00048018\n",
            "Iteration 11, loss = 0.00037744\n",
            "Iteration 12, loss = 0.00030293\n",
            "Iteration 13, loss = 0.00024721\n",
            "Iteration 14, loss = 0.00020501\n",
            "Iteration 15, loss = 0.00017189\n",
            "Iteration 16, loss = 0.00014577\n",
            "Iteration 17, loss = 0.00012476\n",
            "Iteration 18, loss = 0.00010780\n",
            "Iteration 19, loss = 0.00009375\n",
            "Iteration 20, loss = 0.00008196\n",
            "Iteration 21, loss = 0.00007223\n",
            "Iteration 22, loss = 0.00006392\n",
            "Training loss did not improve more than tol=0.000100 for 10 consecutive epochs. Stopping.\n"
          ],
          "name": "stdout"
        },
        {
          "output_type": "execute_result",
          "data": {
            "text/plain": [
              "MLPClassifier(activation='relu', alpha=0.0001, batch_size='auto', beta_1=0.9,\n",
              "              beta_2=0.999, early_stopping=False, epsilon=1e-08,\n",
              "              hidden_layer_sizes=(10, 10), learning_rate='constant',\n",
              "              learning_rate_init=0.001, max_fun=15000, max_iter=1000,\n",
              "              momentum=0.9, n_iter_no_change=10, nesterovs_momentum=True,\n",
              "              power_t=0.5, random_state=None, shuffle=True, solver='adam',\n",
              "              tol=0.0001, validation_fraction=0.1, verbose=2, warm_start=False)"
            ]
          },
          "metadata": {
            "tags": []
          },
          "execution_count": 522
        }
      ]
    },
    {
      "cell_type": "code",
      "metadata": {
        "id": "7ZwnUi_6I3Hr",
        "outputId": "d8d56258-0aa1-4a8c-d1df-6129b8cee428",
        "colab": {
          "base_uri": "https://localhost:8080/",
          "height": 221
        }
      },
      "source": [
        "predictions = mlp.predict(X_test)\n",
        "\n",
        "from sklearn import metrics \n",
        "print(\"Accuracy\", metrics.accuracy_score(y_test, predictions))\n",
        "print(confusion_matrix(y_test,predictions))  \n",
        "print(classification_report(y_test,predictions))  "
      ],
      "execution_count": 523,
      "outputs": [
        {
          "output_type": "stream",
          "text": [
            "Accuracy 1.0\n",
            "[[1142    0]\n",
            " [   0 8858]]\n",
            "              precision    recall  f1-score   support\n",
            "\n",
            "           0       1.00      1.00      1.00      1142\n",
            "           1       1.00      1.00      1.00      8858\n",
            "\n",
            "    accuracy                           1.00     10000\n",
            "   macro avg       1.00      1.00      1.00     10000\n",
            "weighted avg       1.00      1.00      1.00     10000\n",
            "\n"
          ],
          "name": "stdout"
        }
      ]
    },
    {
      "cell_type": "code",
      "metadata": {
        "id": "pZnUta8CI58j",
        "outputId": "abb69b3c-0ef4-482c-9a0c-ce14d1612f03",
        "colab": {
          "base_uri": "https://localhost:8080/",
          "height": 51
        }
      },
      "source": [
        "print(\"Accuracy on training set: {:.3f}\".format(mlp.score(X_train, y_train)))\n",
        "print(\"Accuracy on test set: {:.3f}\".format(mlp.score(X_test, y_test)))"
      ],
      "execution_count": 524,
      "outputs": [
        {
          "output_type": "stream",
          "text": [
            "Accuracy on training set: 1.000\n",
            "Accuracy on test set: 1.000\n"
          ],
          "name": "stdout"
        }
      ]
    },
    {
      "cell_type": "code",
      "metadata": {
        "id": "k0JgswVhJO6w"
      },
      "source": [
        "import matplotlib.pyplot as plt\n",
        "%matplotlib inline\n",
        "import matplotlib \n",
        "import pandas as pd\n",
        "import numpy as np"
      ],
      "execution_count": 525,
      "outputs": []
    },
    {
      "cell_type": "code",
      "metadata": {
        "id": "xsOtQ6syJQZf",
        "outputId": "cc7f0f87-3b05-47c9-b6f5-f71666d93bd0",
        "colab": {
          "base_uri": "https://localhost:8080/",
          "height": 295
        }
      },
      "source": [
        "plt.plot(mlp.loss_curve_)\n",
        "plt.title(\"NN Loss Curve\")\n",
        "plt.xlabel(\"number of steps\")\n",
        "plt.ylabel(\"loss function\")\n",
        "plt.show()"
      ],
      "execution_count": 526,
      "outputs": [
        {
          "output_type": "display_data",
          "data": {
            "image/png": "[encoded data removed]",
            "text/plain": [
              "<Figure size 432x288 with 1 Axes>"
            ]
          },
          "metadata": {
            "tags": [],
            "needs_background": "light"
          }
        }
      ]
    },
    {
      "cell_type": "code",
      "metadata": {
        "id": "kqIYM2ZYJTmJ",
        "outputId": "45105483-3625-4e20-aff7-57ee8acaf320",
        "colab": {
          "base_uri": "https://localhost:8080/",
          "height": 34
        }
      },
      "source": [
        "(mlp.intercepts_[0]).shape"
      ],
      "execution_count": 527,
      "outputs": [
        {
          "output_type": "execute_result",
          "data": {
            "text/plain": [
              "(10,)"
            ]
          },
          "metadata": {
            "tags": []
          },
          "execution_count": 527
        }
      ]
    },
    {
      "cell_type": "code",
      "metadata": {
        "id": "tfdzHPEGJVMf",
        "outputId": "95c1335a-6066-42e9-c684-cdf5cb8c0646",
        "colab": {
          "base_uri": "https://localhost:8080/",
          "height": 34
        }
      },
      "source": [
        "(mlp.coefs_[0]).shape"
      ],
      "execution_count": 528,
      "outputs": [
        {
          "output_type": "execute_result",
          "data": {
            "text/plain": [
              "(19, 10)"
            ]
          },
          "metadata": {
            "tags": []
          },
          "execution_count": 528
        }
      ]
    },
    {
      "cell_type": "code",
      "metadata": {
        "id": "6xVaBC05JXGf",
        "outputId": "b2267d49-86b7-4f04-9204-8a287aac84b5",
        "colab": {
          "base_uri": "https://localhost:8080/",
          "height": 51
        }
      },
      "source": [
        "mlp.intercepts_[0]"
      ],
      "execution_count": 529,
      "outputs": [
        {
          "output_type": "execute_result",
          "data": {
            "text/plain": [
              "array([ 0.284172  ,  0.25674462, -0.15967522, -0.17549686,  0.24376173,\n",
              "        0.20495787, -0.52660715,  0.50787228,  0.1919618 ,  0.54665074])"
            ]
          },
          "metadata": {
            "tags": []
          },
          "execution_count": 529
        }
      ]
    },
    {
      "cell_type": "code",
      "metadata": {
        "id": "nfGWY8aZJYOh",
        "outputId": "ce9a51c4-374d-4ee6-b426-ad290ac5eb38",
        "colab": {
          "base_uri": "https://localhost:8080/",
          "height": 1000
        }
      },
      "source": [
        "mlp.coefs_[0]"
      ],
      "execution_count": 530,
      "outputs": [
        {
          "output_type": "execute_result",
          "data": {
            "text/plain": [
              "array([[ 2.47656512e-01, -6.84225892e-02,  1.38157840e-01,\n",
              "         3.94005803e-01,  3.36770185e-01,  2.76570082e-01,\n",
              "         4.99255970e-02,  7.86993522e-02,  2.80186635e-01,\n",
              "        -6.04377098e-01],\n",
              "       [-4.82790847e-04,  7.79352252e-01,  3.32521649e-01,\n",
              "         1.16278654e-01, -7.69828884e-01,  9.85205701e-02,\n",
              "        -2.73166391e-01, -2.83476888e-01,  6.97027251e-02,\n",
              "        -5.68988234e-01],\n",
              "       [ 1.20051837e-01,  7.15460972e-01, -2.38067671e-01,\n",
              "         1.09895889e-01, -4.33666953e-01,  9.09374607e-03,\n",
              "         1.63544888e-01, -7.94467284e-01, -3.38139510e-01,\n",
              "        -2.02917447e-01],\n",
              "       [-3.61140989e-01, -1.17713075e-01,  1.17193656e-01,\n",
              "        -2.81934753e-01, -1.78757825e-01,  8.99098205e-01,\n",
              "         9.75742846e-02, -6.27294020e-01, -6.84268743e-01,\n",
              "        -3.70020166e-01],\n",
              "       [ 1.80562031e-01,  6.31976249e-01,  9.82960184e-02,\n",
              "         8.42357158e-02, -3.40882724e-02,  4.99885284e-01,\n",
              "        -2.54867019e-03, -6.29711025e-01, -4.71766255e-01,\n",
              "         1.21265319e-02],\n",
              "       [-7.84484420e-02,  2.74958678e-01, -2.90495051e-01,\n",
              "         3.03206701e-01, -6.58707976e-01, -9.26052833e-02,\n",
              "         2.59537011e-01, -3.44719691e-01, -3.73912235e-01,\n",
              "         9.39044109e-02],\n",
              "       [ 7.01542317e-02,  4.12735157e-01,  1.45491705e-01,\n",
              "         1.08750177e-01,  3.43447155e-02, -3.62848572e-01,\n",
              "        -4.50257439e-02, -9.70870631e-02, -4.13370995e-01,\n",
              "         2.21295602e-01],\n",
              "       [-9.37472514e-01,  1.05211845e+00, -3.44295757e-01,\n",
              "        -9.90545512e-01,  7.21415983e-01,  7.76451841e-01,\n",
              "        -3.90705511e-01,  8.14528643e-01,  2.00181787e-01,\n",
              "         9.12280926e-01],\n",
              "       [-4.13381526e-01, -3.00821605e-01, -4.40382534e-01,\n",
              "        -6.01353578e-01,  7.54204165e-02,  4.01446334e-01,\n",
              "        -1.88370610e-01, -2.51374050e-01, -1.45144563e-01,\n",
              "        -7.57245954e-02],\n",
              "       [ 2.74641579e-02, -3.15783787e-01, -1.57157583e-01,\n",
              "        -2.68404695e-01,  3.28052009e-01,  4.30627448e-01,\n",
              "         9.93787279e-02, -6.43306762e-01, -6.97273225e-01,\n",
              "         4.90861181e-01],\n",
              "       [ 2.67441195e-02,  1.15977770e-01,  1.93117351e-01,\n",
              "         2.51367892e-02, -6.90798998e-02,  7.16763077e-02,\n",
              "         3.97382822e-02, -1.16821672e-01,  1.72766891e-01,\n",
              "        -2.96582288e-01],\n",
              "       [-5.70405953e-02, -1.29374189e-01,  6.01802671e-02,\n",
              "        -9.72766640e-03,  1.45605904e-01,  1.54534840e-01,\n",
              "         1.34274549e-02, -1.32817757e-01, -5.74836504e-02,\n",
              "        -1.30046358e-01],\n",
              "       [-2.72197011e-01, -2.82416203e-01, -3.72287014e-01,\n",
              "        -1.93732126e-01,  1.65777265e-02, -5.64715593e-01,\n",
              "        -1.75452142e-01, -4.06521443e-01,  3.52058903e-01,\n",
              "         6.77661342e-02],\n",
              "       [ 2.26821695e-01,  6.93398679e-02, -2.73083356e-01,\n",
              "         1.10832511e-01,  6.09612921e-03, -6.81668865e-01,\n",
              "         1.36714257e-01, -3.68085970e-01,  3.69329920e-01,\n",
              "         2.94807904e-01],\n",
              "       [ 2.01245084e-01, -2.16058147e-01,  1.24537633e-01,\n",
              "        -3.46208829e-01, -3.17386608e-01, -3.41317187e-01,\n",
              "         1.03231753e-01, -4.41957193e-01, -1.07792796e-01,\n",
              "         1.86872136e-01],\n",
              "       [ 2.44399732e-01,  9.74612536e-02,  1.01325764e-01,\n",
              "        -1.88854668e-01, -3.60738443e-01,  5.34535823e-02,\n",
              "        -1.70655502e-01, -1.06649855e-02,  1.34008497e-01,\n",
              "         5.43461763e-02],\n",
              "       [ 2.58770102e-01,  1.51056445e-01, -3.09128980e-01,\n",
              "         9.76338700e-02,  1.12225001e-01, -1.32559564e-01,\n",
              "         1.94865444e-01,  1.76326846e-02,  3.14728551e-01,\n",
              "        -6.72182783e-01],\n",
              "       [-1.52745456e-01, -1.37162325e-01,  3.97229584e-01,\n",
              "         3.66876618e-01,  2.56395949e-01, -4.32555647e-01,\n",
              "         4.63664280e-02,  2.03186991e-01,  2.50155942e-02,\n",
              "         1.28579562e-01],\n",
              "       [-3.00541095e-01, -6.35387491e-02,  1.86468277e-01,\n",
              "        -3.36137489e-02, -9.83197958e-02, -1.06751504e-01,\n",
              "         8.85856008e-02, -4.20459391e-02,  3.98224363e-02,\n",
              "        -1.72209763e-01]])"
            ]
          },
          "metadata": {
            "tags": []
          },
          "execution_count": 530
        }
      ]
    },
    {
      "cell_type": "code",
      "metadata": {
        "id": "lEdc6BTCJaRf",
        "outputId": "5d20172a-fd3f-44c7-f412-9c96a0005630",
        "colab": {
          "base_uri": "https://localhost:8080/",
          "height": 561
        }
      },
      "source": [
        "#Adjust the number of hidde Layer/ hidden node to improve the NN performance. Write your code below.\n",
        "\n",
        "mlp = MLPClassifier(hidden_layer_sizes=(5,5), max_iter=1000,verbose=2)  \n",
        "mlp.fit(X_train, y_train) \n",
        "\n",
        "predictions = mlp.predict(X_test)  "
      ],
      "execution_count": 531,
      "outputs": [
        {
          "output_type": "stream",
          "text": [
            "Iteration 1, loss = 0.38551887\n",
            "Iteration 2, loss = 0.12391017\n",
            "Iteration 3, loss = inf\n",
            "Iteration 4, loss = inf\n",
            "Iteration 5, loss = inf\n",
            "Iteration 6, loss = inf\n",
            "Iteration 7, loss = inf\n",
            "Iteration 8, loss = 0.00396868\n",
            "Iteration 9, loss = 0.00313057\n",
            "Iteration 10, loss = 0.00256087\n",
            "Iteration 11, loss = 0.00214670\n",
            "Iteration 12, loss = 0.00181588\n",
            "Iteration 13, loss = 0.00152825\n",
            "Iteration 14, loss = 0.00130507\n",
            "Iteration 15, loss = 0.00108220\n",
            "Iteration 16, loss = 0.00089035\n",
            "Iteration 17, loss = 0.00073132\n",
            "Iteration 18, loss = 0.00059982\n",
            "Iteration 19, loss = 0.00046495\n",
            "Iteration 20, loss = 0.00033404\n",
            "Iteration 21, loss = 0.00027810\n",
            "Iteration 22, loss = 0.00025452\n",
            "Iteration 23, loss = 0.00023039\n",
            "Iteration 24, loss = 0.00020807\n",
            "Iteration 25, loss = 0.00019796\n",
            "Iteration 26, loss = 0.00019078\n",
            "Iteration 27, loss = 0.00016651\n",
            "Iteration 28, loss = 0.00014460\n",
            "Iteration 29, loss = 0.00013439\n",
            "Iteration 30, loss = 0.00012629\n",
            "Iteration 31, loss = 0.00011840\n",
            "Training loss did not improve more than tol=0.000100 for 10 consecutive epochs. Stopping.\n"
          ],
          "name": "stdout"
        }
      ]
    },
    {
      "cell_type": "code",
      "metadata": {
        "id": "3xVTuALOJcpg",
        "outputId": "01b33d68-b284-4609-a9f1-1d72a56f3437",
        "colab": {
          "base_uri": "https://localhost:8080/",
          "height": 221
        }
      },
      "source": [
        "from sklearn.metrics import confusion_matrix\n",
        "from sklearn.metrics import classification_report\n",
        "from sklearn import metrics\n",
        "print(\"Accuracy\", metrics.accuracy_score(y_test, predictions))\n",
        "print(confusion_matrix(y_test,predictions))  \n",
        "print(classification_report(y_test,predictions))"
      ],
      "execution_count": 532,
      "outputs": [
        {
          "output_type": "stream",
          "text": [
            "Accuracy 1.0\n",
            "[[1142    0]\n",
            " [   0 8858]]\n",
            "              precision    recall  f1-score   support\n",
            "\n",
            "           0       1.00      1.00      1.00      1142\n",
            "           1       1.00      1.00      1.00      8858\n",
            "\n",
            "    accuracy                           1.00     10000\n",
            "   macro avg       1.00      1.00      1.00     10000\n",
            "weighted avg       1.00      1.00      1.00     10000\n",
            "\n"
          ],
          "name": "stdout"
        }
      ]
    },
    {
      "cell_type": "markdown",
      "metadata": {
        "id": "2-n6qbhefBOB"
      },
      "source": [
        "**Logistic** **Regression**"
      ]
    },
    {
      "cell_type": "code",
      "metadata": {
        "id": "-U_DsYWMfIeL",
        "outputId": "52a57363-fc22-40ee-e198-90750a3c52b0",
        "colab": {
          "base_uri": "https://localhost:8080/",
          "height": 51
        }
      },
      "source": [
        "from sklearn.linear_model import LogisticRegression\n",
        "logreg = LogisticRegression(C=0.01, max_iter=10000).fit(X_train, y_train)\n",
        "print(\"Training set score: {:.3f}\".format(logreg.score(X_train, y_train)))\n",
        "print(\"Test set score: {:.3f}\".format(logreg.score(X_test, y_test)))"
      ],
      "execution_count": 533,
      "outputs": [
        {
          "output_type": "stream",
          "text": [
            "Training set score: 1.000\n",
            "Test set score: 1.000\n"
          ],
          "name": "stdout"
        }
      ]
    },
    {
      "cell_type": "code",
      "metadata": {
        "id": "EXd8Nhr0fJk1",
        "outputId": "c18ce716-6fbd-4265-f781-e1a71b1ffb1e",
        "colab": {
          "base_uri": "https://localhost:8080/",
          "height": 34
        }
      },
      "source": [
        "logreg.intercept_.T"
      ],
      "execution_count": 534,
      "outputs": [
        {
          "output_type": "execute_result",
          "data": {
            "text/plain": [
              "array([5.37542088])"
            ]
          },
          "metadata": {
            "tags": []
          },
          "execution_count": 534
        }
      ]
    },
    {
      "cell_type": "code",
      "metadata": {
        "id": "ZgY1sTVwfMXV",
        "outputId": "2157a3c7-844c-472d-85fa-c91f6a741a1e",
        "colab": {
          "base_uri": "https://localhost:8080/",
          "height": 340
        }
      },
      "source": [
        "logreg.coef_.T"
      ],
      "execution_count": 535,
      "outputs": [
        {
          "output_type": "execute_result",
          "data": {
            "text/plain": [
              "array([[-2.39241776e-03],\n",
              "       [ 9.30550896e-04],\n",
              "       [ 2.20598674e-02],\n",
              "       [ 1.54908935e-02],\n",
              "       [-4.50854833e-03],\n",
              "       [ 1.54106552e-02],\n",
              "       [ 1.33042534e-02],\n",
              "       [ 2.70557030e+00],\n",
              "       [ 6.78170586e-01],\n",
              "       [ 4.79090160e-02],\n",
              "       [-1.83485847e-01],\n",
              "       [-2.79953255e-01],\n",
              "       [-8.18638788e-04],\n",
              "       [ 9.23028440e-03],\n",
              "       [ 7.66395531e-04],\n",
              "       [ 1.10305828e-03],\n",
              "       [-1.19271574e-02],\n",
              "       [-1.64115178e-02],\n",
              "       [-2.76832420e-03]])"
            ]
          },
          "metadata": {
            "tags": []
          },
          "execution_count": 535
        }
      ]
    },
    {
      "cell_type": "code",
      "metadata": {
        "id": "_8i2E3XffMbu",
        "outputId": "de691798-9648-4340-a907-ec47a5a7f932",
        "colab": {
          "base_uri": "https://localhost:8080/",
          "height": 221
        }
      },
      "source": [
        "print(y_test)"
      ],
      "execution_count": 536,
      "outputs": [
        {
          "output_type": "stream",
          "text": [
            "11841    1\n",
            "19602    1\n",
            "45519    1\n",
            "25747    1\n",
            "42642    1\n",
            "        ..\n",
            "25091    1\n",
            "27853    1\n",
            "47278    1\n",
            "37020    1\n",
            "2217     1\n",
            "Name: easy, Length: 10000, dtype: int64\n"
          ],
          "name": "stdout"
        }
      ]
    },
    {
      "cell_type": "code",
      "metadata": {
        "id": "TDsgGGMYfMZO",
        "outputId": "d439c9f9-51c3-4ae3-d9b2-47fa870b33d9",
        "colab": {
          "base_uri": "https://localhost:8080/",
          "height": 204
        }
      },
      "source": [
        "from sklearn.metrics import classification_report, confusion_matrix  \n",
        "y_pred = logreg.predict(X_test)\n",
        "print(confusion_matrix(y_test, y_pred))  \n",
        "print(classification_report(y_test, y_pred))\n",
        "##before processing data in PCA, we got 0.73 accurancy, from this we can observe the accurancy do not decrease a lot\n",
        "#we can also normally use the model, and largely reduce caculation by using PCA"
      ],
      "execution_count": 537,
      "outputs": [
        {
          "output_type": "stream",
          "text": [
            "[[1142    0]\n",
            " [   0 8858]]\n",
            "              precision    recall  f1-score   support\n",
            "\n",
            "           0       1.00      1.00      1.00      1142\n",
            "           1       1.00      1.00      1.00      8858\n",
            "\n",
            "    accuracy                           1.00     10000\n",
            "   macro avg       1.00      1.00      1.00     10000\n",
            "weighted avg       1.00      1.00      1.00     10000\n",
            "\n"
          ],
          "name": "stdout"
        }
      ]
    },
    {
      "cell_type": "code",
      "metadata": {
        "id": "vA1i-9yFfMSd"
      },
      "source": [
        "#!conda install -c conda-forge scikit-plot\n",
        "import matplotlib.pyplot as plt\n",
        "import scikitplot as skplt\n",
        "y_pred_probas = logreg.predict_proba(X_test)"
      ],
      "execution_count": 538,
      "outputs": []
    },
    {
      "cell_type": "code",
      "metadata": {
        "id": "4tj863DRfazF",
        "outputId": "6752afea-4d92-40de-b979-a4ddfc5428eb",
        "colab": {
          "base_uri": "https://localhost:8080/",
          "height": 295
        }
      },
      "source": [
        "skplt.metrics.plot_cumulative_gain(y_test, y_pred_probas)\n",
        "plt.show()"
      ],
      "execution_count": 539,
      "outputs": [
        {
          "output_type": "display_data",
          "data": {
            "image/png": "[encoded data removed]",
            "text/plain": [
              "<Figure size 432x288 with 1 Axes>"
            ]
          },
          "metadata": {
            "tags": [],
            "needs_background": "light"
          }
        }
      ]
    },
    {
      "cell_type": "code",
      "metadata": {
        "id": "uf7br18Kfbov",
        "outputId": "07b10bcc-4dce-4be3-970b-bda552567319",
        "colab": {
          "base_uri": "https://localhost:8080/",
          "height": 295
        }
      },
      "source": [
        "skplt.metrics.plot_lift_curve(y_test, y_pred_probas)\n",
        "plt.show()"
      ],
      "execution_count": 540,
      "outputs": [
        {
          "output_type": "display_data",
          "data": {
            "image/png": "[encoded data removed]",
            "text/plain": [
              "<Figure size 432x288 with 1 Axes>"
            ]
          },
          "metadata": {
            "tags": [],
            "needs_background": "light"
          }
        }
      ]
    },
    {
      "cell_type": "code",
      "metadata": {
        "id": "CFvVyg_BfbmV"
      },
      "source": [
        ""
      ],
      "execution_count": 439,
      "outputs": []
    },
    {
      "cell_type": "code",
      "metadata": {
        "id": "C1K2w9FAfawG"
      },
      "source": [
        ""
      ],
      "execution_count": 439,
      "outputs": []
    }
  ]
}