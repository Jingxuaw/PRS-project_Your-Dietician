{
  "nbformat": 4,
  "nbformat_minor": 0,
  "metadata": {
    "colab": {
      "name": "5-ingredients-or-less_with_KNN,NB,NN.ipynb",
      "provenance": [],
      "collapsed_sections": []
    },
    "kernelspec": {
      "name": "python3",
      "display_name": "Python 3"
    }
  },
  "cells": [
    {
      "cell_type": "code",
      "metadata": {
        "id": "wcZzO8n50dtz",
        "outputId": "b0628e45-9d10-4b72-c9c9-9a54068ac8fc",
        "colab": {
          "base_uri": "https://localhost:8080/",
          "height": 34
        }
      },
      "source": [
        "from google.colab import drive\n",
        "drive.mount('/content/gdrive')"
      ],
      "execution_count": 395,
      "outputs": [
        {
          "output_type": "stream",
          "text": [
            "Drive already mounted at /content/gdrive; to attempt to forcibly remount, call drive.mount(\"/content/gdrive\", force_remount=True).\n"
          ],
          "name": "stdout"
        }
      ]
    },
    {
      "cell_type": "code",
      "metadata": {
        "id": "szx4FLle1C3A",
        "outputId": "0e9b84c4-24b6-4744-a6f6-7fb2b735e86c",
        "colab": {
          "base_uri": "https://localhost:8080/",
          "height": 51
        }
      },
      "source": [
        "from ast import literal_eval\n",
        "import pandas as pd\n",
        "import numpy as np\n",
        "import matplotlib\n",
        "import matplotlib.pyplot as plt\n",
        "import seaborn as sns\n",
        "from scipy import sparse as sp_sparse\n",
        "from sklearn.feature_extraction.text import TfidfVectorizer\n",
        "from sklearn.preprocessing import MultiLabelBinarizer\n",
        "from sklearn.naive_bayes import MultinomialNB\n",
        "from sklearn.multiclass import OneVsRestClassifier\n",
        "from sklearn.linear_model import LogisticRegression, RidgeClassifier\n",
        "from sklearn.svm import LinearSVC\n",
        "from sklearn.pipeline import Pipeline\n",
        "from sklearn.feature_extraction.text import CountVectorizer\n",
        "import nltk\n",
        "import re\n",
        "from nltk.corpus import stopwords\n",
        "nltk.download('stopwords')\n",
        "stop_words = set(stopwords.words('english'))"
      ],
      "execution_count": 396,
      "outputs": [
        {
          "output_type": "stream",
          "text": [
            "[nltk_data] Downloading package stopwords to /root/nltk_data...\n",
            "[nltk_data]   Package stopwords is already up-to-date!\n"
          ],
          "name": "stdout"
        }
      ]
    },
    {
      "cell_type": "code",
      "metadata": {
        "id": "TpMM7ELy0mbW"
      },
      "source": [
        "from sklearn.model_selection import train_test_split\n",
        "data = pd.read_csv('/content/gdrive/My Drive/project/50000.csv',encoding='ISO-8859-1')\n",
        "# data['tags'] = data['tags'].apply(literal_eval)\n",
        "# x = data.nutrition\n",
        "x = data.drop([\"name\",\"id\",\"contributor_id\",\"nutrition\",\"submitted\",\"steps\",\"tags\",\"description\",\"ingredients\"],axis = 1)\n",
        "y = data['5-ingredients-or-less']\n"
      ],
      "execution_count": 541,
      "outputs": []
    },
    {
      "cell_type": "code",
      "metadata": {
        "id": "WENhwEEl0qkU"
      },
      "source": [
        "import numpy as np\n",
        "from sklearn.preprocessing import LabelEncoder\n",
        "\n",
        "# Convert each category in the label to an integer\n",
        "# le = LabelEncoder()\n",
        "# y= le.fit_transform(y)\n",
        "X_train,X_test,y_train,y_test = train_test_split(x,y,test_size=1/5,random_state=0)"
      ],
      "execution_count": 542,
      "outputs": []
    },
    {
      "cell_type": "code",
      "metadata": {
        "id": "TYiqdBlv9uQE",
        "outputId": "eb5a7176-d53e-4c95-cff2-a6ad4ab52d57",
        "colab": {
          "base_uri": "https://localhost:8080/",
          "height": 238
        }
      },
      "source": [
        "print(y)\n",
        "print(y.shape)"
      ],
      "execution_count": 543,
      "outputs": [
        {
          "output_type": "stream",
          "text": [
            "0        1\n",
            "1        0\n",
            "2        0\n",
            "3        1\n",
            "4        1\n",
            "        ..\n",
            "49995    1\n",
            "49996    1\n",
            "49997    0\n",
            "49998    1\n",
            "49999    1\n",
            "Name: 5-ingredients-or-less, Length: 50000, dtype: int64\n",
            "(50000,)\n"
          ],
          "name": "stdout"
        }
      ]
    },
    {
      "cell_type": "code",
      "metadata": {
        "id": "O5w-f02p0rAs",
        "outputId": "d79ac3ea-8a60-4462-fea0-46fae1df4791",
        "colab": {
          "base_uri": "https://localhost:8080/",
          "height": 221
        }
      },
      "source": [
        "print(y_train)"
      ],
      "execution_count": 544,
      "outputs": [
        {
          "output_type": "stream",
          "text": [
            "20330    0\n",
            "17532    1\n",
            "45819    1\n",
            "34807    1\n",
            "31888    1\n",
            "        ..\n",
            "21243    0\n",
            "45891    1\n",
            "42613    1\n",
            "43567    1\n",
            "2732     0\n",
            "Name: 5-ingredients-or-less, Length: 40000, dtype: int64\n"
          ],
          "name": "stdout"
        }
      ]
    },
    {
      "cell_type": "code",
      "metadata": {
        "id": "N5Vrty9N0v2M",
        "outputId": "6f9ee35c-4de7-4dbb-f584-54c6b9633e78",
        "colab": {
          "base_uri": "https://localhost:8080/",
          "height": 255
        }
      },
      "source": [
        "print(X_train)"
      ],
      "execution_count": 545,
      "outputs": [
        {
          "output_type": "stream",
          "text": [
            "       minutes  healthy  ...  stated_fat  total_carbonhydrate\n",
            "20330       70        0  ...          29                    6\n",
            "17532       60        1  ...           6                   13\n",
            "45819       50        0  ...           0                    5\n",
            "34807      130        1  ...           0                    5\n",
            "31888       25        0  ...          12                    3\n",
            "...        ...      ...  ...         ...                  ...\n",
            "21243       10        1  ...          29                    9\n",
            "45891       10        0  ...           0                    1\n",
            "42613       20        0  ...           0                    0\n",
            "43567        1        0  ...           0                    1\n",
            "2732        20        0  ...          58                   18\n",
            "\n",
            "[40000 rows x 19 columns]\n"
          ],
          "name": "stdout"
        }
      ]
    },
    {
      "cell_type": "markdown",
      "metadata": {
        "id": "s8GF3L4HDDCt"
      },
      "source": [
        " **K-NN**"
      ]
    },
    {
      "cell_type": "code",
      "metadata": {
        "id": "5NaHyG8XCuRf"
      },
      "source": [
        "from sklearn.neighbors import KNeighborsClassifier\n",
        "\n",
        "test_scores = []\n",
        "train_scores = []\n",
        "\n",
        "for i in range(1,21): # Declare an of the KNN classifier class with the value with neighbors.\n",
        "\n",
        "    knn = KNeighborsClassifier(i)\n",
        "    knn.fit(X_train,y_train) # Fit the model with training data and target values\n",
        "    \n",
        "    train_scores.append(knn.score(X_train,y_train))\n",
        "    test_scores.append(knn.score(X_test,y_test))"
      ],
      "execution_count": 547,
      "outputs": []
    },
    {
      "cell_type": "code",
      "metadata": {
        "id": "IYPIC45AC5Hm",
        "outputId": "b802de62-1c93-4ee7-b1e3-f9bd2ca2a5c4",
        "colab": {
          "base_uri": "https://localhost:8080/",
          "height": 34
        }
      },
      "source": [
        "## score that comes from testing on the same datapoints that were used for training\n",
        "max_train_score = max(train_scores)\n",
        "train_scores_ind = [i for i, v in enumerate(train_scores) if v == max_train_score]\n",
        "print('Max train score {} % and k = {}'.format(max_train_score*100,list(map(lambda x: x+1, train_scores_ind))))"
      ],
      "execution_count": 548,
      "outputs": [
        {
          "output_type": "stream",
          "text": [
            "Max train score 100.0 % and k = [1]\n"
          ],
          "name": "stdout"
        }
      ]
    },
    {
      "cell_type": "code",
      "metadata": {
        "id": "Um1kV2BoC7y6",
        "outputId": "596bec48-da64-4672-f9bd-a2f2008dd53c",
        "colab": {
          "base_uri": "https://localhost:8080/",
          "height": 34
        }
      },
      "source": [
        "## score that comes from testing on the datapoints that were split in the beginning to be used for testing solely\n",
        "max_test_score = max(test_scores)\n",
        "test_scores_ind = [i for i, v in enumerate(test_scores) if v == max_test_score]\n",
        "print('Max test score {} % and k = {}'.format(max_test_score*100,list(map(lambda x: x+1, test_scores_ind))))"
      ],
      "execution_count": 549,
      "outputs": [
        {
          "output_type": "stream",
          "text": [
            "Max test score 69.46 % and k = [19]\n"
          ],
          "name": "stdout"
        }
      ]
    },
    {
      "cell_type": "code",
      "metadata": {
        "id": "-StZyEnBDAY3",
        "outputId": "7328649c-c134-499c-f3fc-234e597d5faa",
        "colab": {
          "base_uri": "https://localhost:8080/",
          "height": 337
        }
      },
      "source": [
        "plt.figure(figsize=(12,5))\n",
        "plt.plot(range(1,21),train_scores,marker='*',label='Train Score')\n",
        "plt.plot(range(1,21),test_scores,marker='o',label='Test Score')"
      ],
      "execution_count": 550,
      "outputs": [
        {
          "output_type": "execute_result",
          "data": {
            "text/plain": [
              "[<matplotlib.lines.Line2D at 0x7facffb54d30>]"
            ]
          },
          "metadata": {
            "tags": []
          },
          "execution_count": 550
        },
        {
          "output_type": "display_data",
          "data": {
            "image/png": "[encoded data removed]",
            "text/plain": [
              "<Figure size 864x360 with 1 Axes>"
            ]
          },
          "metadata": {
            "tags": [],
            "needs_background": "light"
          }
        }
      ]
    },
    {
      "cell_type": "code",
      "metadata": {
        "id": "tnJjxGh70XgW",
        "outputId": "22a17d07-4aa8-45d7-9748-f2cc453b1cd4",
        "colab": {
          "base_uri": "https://localhost:8080/",
          "height": 34
        }
      },
      "source": [
        "#Setup a knn classifier with k neighbors\n",
        "knn = KNeighborsClassifier(19)\n",
        "\n",
        "knn.fit(X_train,y_train)\n",
        "knn.score(X_test,y_test)"
      ],
      "execution_count": 551,
      "outputs": [
        {
          "output_type": "execute_result",
          "data": {
            "text/plain": [
              "0.6946"
            ]
          },
          "metadata": {
            "tags": []
          },
          "execution_count": 551
        }
      ]
    },
    {
      "cell_type": "code",
      "metadata": {
        "id": "kvz1c76wztkT",
        "outputId": "072d15b0-ada7-42f2-d262-2d74990e3e39",
        "colab": {
          "base_uri": "https://localhost:8080/",
          "height": 173
        }
      },
      "source": [
        "#import confusion_matrix\n",
        "from sklearn.metrics import confusion_matrix\n",
        "#let us get the predictions using the classifier we had fit above\n",
        "y_pred = knn.predict(X_test)\n",
        "#confusion_matrix(y_test,y_pred)\n",
        "pd.crosstab(y_test, y_pred, rownames=['True'], colnames=['Predicted'], margins=True)"
      ],
      "execution_count": 552,
      "outputs": [
        {
          "output_type": "execute_result",
          "data": {
            "text/html": [
              "<div>\n",
              "<style scoped>\n",
              "    .dataframe tbody tr th:only-of-type {\n",
              "        vertical-align: middle;\n",
              "    }\n",
              "\n",
              "    .dataframe tbody tr th {\n",
              "        vertical-align: top;\n",
              "    }\n",
              "\n",
              "    .dataframe thead th {\n",
              "        text-align: right;\n",
              "    }\n",
              "</style>\n",
              "<table border=\"1\" class=\"dataframe\">\n",
              "  <thead>\n",
              "    <tr style=\"text-align: right;\">\n",
              "      <th>Predicted</th>\n",
              "      <th>0</th>\n",
              "      <th>1</th>\n",
              "      <th>All</th>\n",
              "    </tr>\n",
              "    <tr>\n",
              "      <th>True</th>\n",
              "      <th></th>\n",
              "      <th></th>\n",
              "      <th></th>\n",
              "    </tr>\n",
              "  </thead>\n",
              "  <tbody>\n",
              "    <tr>\n",
              "      <th>0</th>\n",
              "      <td>340</td>\n",
              "      <td>2613</td>\n",
              "      <td>2953</td>\n",
              "    </tr>\n",
              "    <tr>\n",
              "      <th>1</th>\n",
              "      <td>441</td>\n",
              "      <td>6606</td>\n",
              "      <td>7047</td>\n",
              "    </tr>\n",
              "    <tr>\n",
              "      <th>All</th>\n",
              "      <td>781</td>\n",
              "      <td>9219</td>\n",
              "      <td>10000</td>\n",
              "    </tr>\n",
              "  </tbody>\n",
              "</table>\n",
              "</div>"
            ],
            "text/plain": [
              "Predicted    0     1    All\n",
              "True                       \n",
              "0          340  2613   2953\n",
              "1          441  6606   7047\n",
              "All        781  9219  10000"
            ]
          },
          "metadata": {
            "tags": []
          },
          "execution_count": 552
        }
      ]
    },
    {
      "cell_type": "code",
      "metadata": {
        "id": "-O0ydBCt1GfU",
        "outputId": "73a544be-4ba3-4a31-be2b-fb7329a9300e",
        "colab": {
          "base_uri": "https://localhost:8080/",
          "height": 170
        }
      },
      "source": [
        "#import classification_report\n",
        "from sklearn.metrics import classification_report\n",
        "print(classification_report(y_test,y_pred))"
      ],
      "execution_count": 553,
      "outputs": [
        {
          "output_type": "stream",
          "text": [
            "              precision    recall  f1-score   support\n",
            "\n",
            "           0       0.44      0.12      0.18      2953\n",
            "           1       0.72      0.94      0.81      7047\n",
            "\n",
            "    accuracy                           0.69     10000\n",
            "   macro avg       0.58      0.53      0.50     10000\n",
            "weighted avg       0.63      0.69      0.63     10000\n",
            "\n"
          ],
          "name": "stdout"
        }
      ]
    },
    {
      "cell_type": "code",
      "metadata": {
        "id": "dLF8iRyOfM6l",
        "outputId": "8872beb9-491b-460c-c1f4-e90c5908c238",
        "colab": {
          "base_uri": "https://localhost:8080/",
          "height": 295
        }
      },
      "source": [
        "from sklearn.metrics import roc_curve\n",
        "y_pred_proba = knn.predict_proba(X_test)[:,1]\n",
        "fpr, tpr, thresholds = roc_curve(y_test, y_pred_proba)\n",
        "plt.plot([0,1],[0,1],'k--')\n",
        "plt.plot(fpr,tpr, label='Knn')\n",
        "plt.xlabel('fpr')\n",
        "plt.ylabel('tpr')\n",
        "plt.title('Knn(n_neighbors=19) ROC curve')\n",
        "plt.show()"
      ],
      "execution_count": 554,
      "outputs": [
        {
          "output_type": "display_data",
          "data": {
            "image/png": "[encoded data removed]",
            "text/plain": [
              "<Figure size 432x288 with 1 Axes>"
            ]
          },
          "metadata": {
            "tags": [],
            "needs_background": "light"
          }
        }
      ]
    },
    {
      "cell_type": "code",
      "metadata": {
        "id": "mMl9yzhbflcn",
        "outputId": "b5ab5dd7-ffb4-4c23-a60e-e8c10a3acce8",
        "colab": {
          "base_uri": "https://localhost:8080/",
          "height": 34
        }
      },
      "source": [
        "#Area under ROC curve\n",
        "from sklearn.metrics import roc_auc_score\n",
        "roc_auc_score(y_test,y_pred_proba)"
      ],
      "execution_count": 555,
      "outputs": [
        {
          "output_type": "execute_result",
          "data": {
            "text/plain": [
              "0.6088752885600821"
            ]
          },
          "metadata": {
            "tags": []
          },
          "execution_count": 555
        }
      ]
    },
    {
      "cell_type": "code",
      "metadata": {
        "id": "irxXTtOafl7I",
        "outputId": "45b80118-295d-4494-db9b-9be9c23fd9cc",
        "colab": {
          "base_uri": "https://localhost:8080/",
          "height": 51
        }
      },
      "source": [
        "#import GridSearchCV\n",
        "from sklearn.model_selection import GridSearchCV\n",
        "#In case of classifier like knn the parameter to be tuned is n_neighbors\n",
        "param_grid = {'n_neighbors':np.arange(1,25)}\n",
        "knn = KNeighborsClassifier()\n",
        "knn_cv= GridSearchCV(knn,param_grid,cv=5)\n",
        "knn_cv.fit(X_train,y_train)\n",
        "\n",
        "print(\"Best Score:\" + str(knn_cv.best_score_))\n",
        "print(\"Best Parameters: \" + str(knn_cv.best_params_))"
      ],
      "execution_count": 556,
      "outputs": [
        {
          "output_type": "stream",
          "text": [
            "Best Score:0.7019\n",
            "Best Parameters: {'n_neighbors': 23}\n"
          ],
          "name": "stdout"
        }
      ]
    },
    {
      "cell_type": "markdown",
      "metadata": {
        "id": "sIF6TKh6fyaE"
      },
      "source": [
        "**NAIVE** **BAYES**"
      ]
    },
    {
      "cell_type": "code",
      "metadata": {
        "id": "TRbaXXg9f33w"
      },
      "source": [
        "from sklearn.naive_bayes import GaussianNB\n",
        "from sklearn.metrics import confusion_matrix\n"
      ],
      "execution_count": 557,
      "outputs": []
    },
    {
      "cell_type": "code",
      "metadata": {
        "id": "f3DlaBOCf4c4",
        "outputId": "279b6d8a-0315-4814-cc4b-6d4c74922ff0",
        "colab": {
          "base_uri": "https://localhost:8080/",
          "height": 34
        }
      },
      "source": [
        "# Initiating the Gaussian Classifier\n",
        "mod = GaussianNB()\n",
        "\n",
        "# Training your model \n",
        "mod.fit(X_train, y_train)"
      ],
      "execution_count": 558,
      "outputs": [
        {
          "output_type": "execute_result",
          "data": {
            "text/plain": [
              "GaussianNB(priors=None, var_smoothing=1e-09)"
            ]
          },
          "metadata": {
            "tags": []
          },
          "execution_count": 558
        }
      ]
    },
    {
      "cell_type": "code",
      "metadata": {
        "id": "FBTDvi26f4S0"
      },
      "source": [
        "# Predicting Outcome \n",
        "predicted = mod.predict(X_test)"
      ],
      "execution_count": 559,
      "outputs": []
    },
    {
      "cell_type": "code",
      "metadata": {
        "id": "uCAClEKdgETy",
        "outputId": "fee5b49b-e064-4e6e-bcff-727663f829c5",
        "colab": {
          "base_uri": "https://localhost:8080/",
          "height": 34
        }
      },
      "source": [
        "mod.score(X_test,y_test)"
      ],
      "execution_count": 560,
      "outputs": [
        {
          "output_type": "execute_result",
          "data": {
            "text/plain": [
              "0.9983"
            ]
          },
          "metadata": {
            "tags": []
          },
          "execution_count": 560
        }
      ]
    },
    {
      "cell_type": "code",
      "metadata": {
        "id": "BEEoNgRsgERS",
        "outputId": "aa62cb3f-7f32-4444-87f8-a5ced81c1995",
        "colab": {
          "base_uri": "https://localhost:8080/",
          "height": 204
        }
      },
      "source": [
        "# Confusion Matrix\n",
        "y_pred = mod.predict(X_test)\n",
        "print(confusion_matrix(y_test, y_pred))  \n",
        "print(classification_report(y_test, y_pred)) "
      ],
      "execution_count": 561,
      "outputs": [
        {
          "output_type": "stream",
          "text": [
            "[[2945    8]\n",
            " [   9 7038]]\n",
            "              precision    recall  f1-score   support\n",
            "\n",
            "           0       1.00      1.00      1.00      2953\n",
            "           1       1.00      1.00      1.00      7047\n",
            "\n",
            "    accuracy                           1.00     10000\n",
            "   macro avg       1.00      1.00      1.00     10000\n",
            "weighted avg       1.00      1.00      1.00     10000\n",
            "\n"
          ],
          "name": "stdout"
        }
      ]
    },
    {
      "cell_type": "markdown",
      "metadata": {
        "id": "H_4bdFVfIZGc"
      },
      "source": [
        "**NN**"
      ]
    },
    {
      "cell_type": "code",
      "metadata": {
        "id": "Geb_mCzIIYy1"
      },
      "source": [
        "from sklearn.preprocessing import StandardScaler\n",
        "from sklearn.neural_network import MLPClassifier \n",
        "scaler = StandardScaler()  \n",
        "scaler.fit(X_train)\n",
        "\n",
        "X_train = scaler.transform(X_train)  \n",
        "X_test = scaler.transform(X_test)"
      ],
      "execution_count": 565,
      "outputs": []
    },
    {
      "cell_type": "code",
      "metadata": {
        "id": "dBGe4Z_ZIhnz",
        "outputId": "2e1509d1-5360-410d-8044-b13db63d0f07",
        "colab": {
          "base_uri": "https://localhost:8080/",
          "height": 493
        }
      },
      "source": [
        "from sklearn.neural_network import MLPClassifier  \n",
        "mlp = MLPClassifier(hidden_layer_sizes=(10,10), max_iter=1000,verbose=2)  \n",
        "mlp.fit(X_train, y_train)  "
      ],
      "execution_count": 566,
      "outputs": [
        {
          "output_type": "stream",
          "text": [
            "Iteration 1, loss = 0.47725949\n",
            "Iteration 2, loss = 0.08979944\n",
            "Iteration 3, loss = 0.01498786\n",
            "Iteration 4, loss = 0.00457617\n",
            "Iteration 5, loss = 0.00345021\n",
            "Iteration 6, loss = 0.00124280\n",
            "Iteration 7, loss = 0.00081198\n",
            "Iteration 8, loss = 0.00057198\n",
            "Iteration 9, loss = 0.00041606\n",
            "Iteration 10, loss = 0.00031749\n",
            "Iteration 11, loss = 0.00024884\n",
            "Iteration 12, loss = 0.00019950\n",
            "Iteration 13, loss = 0.00016206\n",
            "Iteration 14, loss = 0.00012727\n",
            "Iteration 15, loss = 0.00010435\n",
            "Iteration 16, loss = 0.00008838\n",
            "Iteration 17, loss = 0.00007581\n",
            "Iteration 18, loss = 0.00006597\n",
            "Iteration 19, loss = 0.00005779\n",
            "Iteration 20, loss = 0.00005119\n",
            "Training loss did not improve more than tol=0.000100 for 10 consecutive epochs. Stopping.\n"
          ],
          "name": "stdout"
        },
        {
          "output_type": "execute_result",
          "data": {
            "text/plain": [
              "MLPClassifier(activation='relu', alpha=0.0001, batch_size='auto', beta_1=0.9,\n",
              "              beta_2=0.999, early_stopping=False, epsilon=1e-08,\n",
              "              hidden_layer_sizes=(10, 10), learning_rate='constant',\n",
              "              learning_rate_init=0.001, max_fun=15000, max_iter=1000,\n",
              "              momentum=0.9, n_iter_no_change=10, nesterovs_momentum=True,\n",
              "              power_t=0.5, random_state=None, shuffle=True, solver='adam',\n",
              "              tol=0.0001, validation_fraction=0.1, verbose=2, warm_start=False)"
            ]
          },
          "metadata": {
            "tags": []
          },
          "execution_count": 566
        }
      ]
    },
    {
      "cell_type": "code",
      "metadata": {
        "id": "7ZwnUi_6I3Hr",
        "outputId": "d106ae33-f8b9-4ebe-9ceb-cc982ad688d4",
        "colab": {
          "base_uri": "https://localhost:8080/",
          "height": 221
        }
      },
      "source": [
        "predictions = mlp.predict(X_test)\n",
        "\n",
        "from sklearn import metrics \n",
        "print(\"Accuracy\", metrics.accuracy_score(y_test, predictions))\n",
        "print(confusion_matrix(y_test,predictions))  \n",
        "print(classification_report(y_test,predictions))  "
      ],
      "execution_count": 567,
      "outputs": [
        {
          "output_type": "stream",
          "text": [
            "Accuracy 1.0\n",
            "[[2953    0]\n",
            " [   0 7047]]\n",
            "              precision    recall  f1-score   support\n",
            "\n",
            "           0       1.00      1.00      1.00      2953\n",
            "           1       1.00      1.00      1.00      7047\n",
            "\n",
            "    accuracy                           1.00     10000\n",
            "   macro avg       1.00      1.00      1.00     10000\n",
            "weighted avg       1.00      1.00      1.00     10000\n",
            "\n"
          ],
          "name": "stdout"
        }
      ]
    },
    {
      "cell_type": "code",
      "metadata": {
        "id": "pZnUta8CI58j",
        "outputId": "5eb69d7e-b4a8-4ace-c731-93774d634b52",
        "colab": {
          "base_uri": "https://localhost:8080/",
          "height": 51
        }
      },
      "source": [
        "print(\"Accuracy on training set: {:.3f}\".format(mlp.score(X_train, y_train)))\n",
        "print(\"Accuracy on test set: {:.3f}\".format(mlp.score(X_test, y_test)))"
      ],
      "execution_count": 568,
      "outputs": [
        {
          "output_type": "stream",
          "text": [
            "Accuracy on training set: 1.000\n",
            "Accuracy on test set: 1.000\n"
          ],
          "name": "stdout"
        }
      ]
    },
    {
      "cell_type": "code",
      "metadata": {
        "id": "k0JgswVhJO6w"
      },
      "source": [
        "import matplotlib.pyplot as plt\n",
        "%matplotlib inline\n",
        "import matplotlib \n",
        "import pandas as pd\n",
        "import numpy as np"
      ],
      "execution_count": 569,
      "outputs": []
    },
    {
      "cell_type": "code",
      "metadata": {
        "id": "xsOtQ6syJQZf",
        "outputId": "a9155762-dfa0-4720-8a75-90aaad1c0a4f",
        "colab": {
          "base_uri": "https://localhost:8080/",
          "height": 295
        }
      },
      "source": [
        "plt.plot(mlp.loss_curve_)\n",
        "plt.title(\"NN Loss Curve\")\n",
        "plt.xlabel(\"number of steps\")\n",
        "plt.ylabel(\"loss function\")\n",
        "plt.show()"
      ],
      "execution_count": 571,
      "outputs": [
        {
          "output_type": "display_data",
          "data": {
            "image/png": "[encoded data removed]",
            "text/plain": [
              "<Figure size 432x288 with 1 Axes>"
            ]
          },
          "metadata": {
            "tags": [],
            "needs_background": "light"
          }
        }
      ]
    },
    {
      "cell_type": "code",
      "metadata": {
        "id": "kqIYM2ZYJTmJ",
        "outputId": "bdfe2a74-20f5-446a-c197-2ccfcb4d6e4d",
        "colab": {
          "base_uri": "https://localhost:8080/",
          "height": 34
        }
      },
      "source": [
        "(mlp.intercepts_[0]).shape"
      ],
      "execution_count": 572,
      "outputs": [
        {
          "output_type": "execute_result",
          "data": {
            "text/plain": [
              "(10,)"
            ]
          },
          "metadata": {
            "tags": []
          },
          "execution_count": 572
        }
      ]
    },
    {
      "cell_type": "code",
      "metadata": {
        "id": "tfdzHPEGJVMf",
        "outputId": "94debea5-e57d-46e3-d68b-da27b60ee331",
        "colab": {
          "base_uri": "https://localhost:8080/",
          "height": 34
        }
      },
      "source": [
        "(mlp.coefs_[0]).shape"
      ],
      "execution_count": 573,
      "outputs": [
        {
          "output_type": "execute_result",
          "data": {
            "text/plain": [
              "(19, 10)"
            ]
          },
          "metadata": {
            "tags": []
          },
          "execution_count": 573
        }
      ]
    },
    {
      "cell_type": "code",
      "metadata": {
        "id": "6xVaBC05JXGf",
        "outputId": "069ad442-3a87-4b5e-f4c3-5cc34e5a7877",
        "colab": {
          "base_uri": "https://localhost:8080/",
          "height": 51
        }
      },
      "source": [
        "mlp.intercepts_[0]"
      ],
      "execution_count": 574,
      "outputs": [
        {
          "output_type": "execute_result",
          "data": {
            "text/plain": [
              "array([-0.38156207, -0.0706702 ,  0.48001347,  0.32276311,  0.69152722,\n",
              "        0.63241397,  0.20200781,  0.41858214,  0.18358494,  0.99775849])"
            ]
          },
          "metadata": {
            "tags": []
          },
          "execution_count": 574
        }
      ]
    },
    {
      "cell_type": "code",
      "metadata": {
        "id": "nfGWY8aZJYOh",
        "outputId": "180e80a2-800f-4863-d92d-344d0acb5917",
        "colab": {
          "base_uri": "https://localhost:8080/",
          "height": 663
        }
      },
      "source": [
        "mlp.coefs_[0]"
      ],
      "execution_count": 575,
      "outputs": [
        {
          "output_type": "execute_result",
          "data": {
            "text/plain": [
              "array([[-0.16685621,  0.19598705,  0.15398386,  0.21815799, -0.54442151,\n",
              "        -0.3622947 , -0.13860211, -0.32921521, -0.05451202,  0.22524533],\n",
              "       [ 0.01642013, -0.31243389, -0.59625939,  0.09285406, -0.08739797,\n",
              "         0.27482552, -0.26908558,  0.32244785,  0.43672296,  0.21059056],\n",
              "       [ 0.21636344, -0.22974621, -0.57161612,  0.38768195, -0.08830424,\n",
              "        -0.50365911, -0.33571557, -0.07885524,  0.37628775, -0.05980102],\n",
              "       [ 0.29009455, -0.4458314 , -0.48291606,  0.22749563, -0.03405231,\n",
              "        -0.35541467, -0.59522334,  0.05625769,  0.32132016,  0.11813832],\n",
              "       [ 0.08463263, -0.09508971,  0.28113632,  0.1023112 ,  0.07639749,\n",
              "        -0.71101226, -0.04563642,  0.0363393 ,  0.27923496,  0.11170293],\n",
              "       [-0.09204754, -0.32496791, -0.55383963,  0.11825693, -0.0310577 ,\n",
              "        -0.25839873, -0.34076967, -0.11201367,  0.09160851, -0.25284057],\n",
              "       [ 0.06559047, -0.28531412, -0.11627816,  0.26504565, -0.07148655,\n",
              "        -0.00983686, -0.25052862,  0.0878655 ,  0.51671255, -0.33202947],\n",
              "       [-0.04775138, -0.62417849,  0.14891081, -0.03209191,  0.59667888,\n",
              "        -0.00443725,  0.10901214, -0.50754596,  0.3719743 ,  0.9392579 ],\n",
              "       [ 0.23086669, -0.30205987,  0.46178053, -0.70596291, -0.36614126,\n",
              "         0.33431326, -0.65868441, -0.90787739,  0.56251742,  0.82573667],\n",
              "       [-0.1985775 ,  0.06016631, -0.0418794 , -0.1762984 ,  0.23645147,\n",
              "        -0.08804037, -0.27209166,  0.13895022,  0.10987675, -0.07122606],\n",
              "       [-0.37634737,  0.20879252, -0.04796987, -0.11232206,  0.31185022,\n",
              "        -0.47599137, -0.16391396,  0.01920854, -0.16003589,  0.25586002],\n",
              "       [ 0.33021887,  0.05667133, -0.41648394,  0.56888002, -0.19077652,\n",
              "        -0.53514538,  0.31145785, -0.15454756, -0.11824041,  0.3478031 ],\n",
              "       [ 0.40229854,  0.09282694, -0.02389929, -0.19559829, -0.08788061,\n",
              "         0.00844191,  0.16779182, -0.15789986,  0.07992483,  0.18691893],\n",
              "       [ 0.01938057,  0.30350399,  0.02714627, -0.02240235,  0.29855497,\n",
              "        -0.22828436, -0.40472672,  0.06100105,  0.04707386, -0.10387771],\n",
              "       [-0.37278436,  0.08046434, -0.42980489,  0.17705639,  0.18613517,\n",
              "         0.00828507,  0.09480946, -0.01733514, -0.03900533, -0.08371941],\n",
              "       [ 0.04273977,  0.43162395,  0.35151498,  0.2650403 , -0.24984154,\n",
              "        -0.45011106, -0.13780524, -0.1497898 ,  0.19371917, -0.00180106],\n",
              "       [-0.3285407 , -0.00859899,  0.31506551, -0.10615391,  0.10318982,\n",
              "         0.13772923,  0.28269794,  0.17514033, -0.15616858,  0.1835063 ],\n",
              "       [ 0.30311145,  0.3278449 ,  0.44438898,  0.28273403,  0.12981054,\n",
              "        -0.17419571, -0.08728029, -0.03557663,  0.25440696, -0.26384482],\n",
              "       [ 0.41734769, -0.20688735,  0.0881755 ,  0.03458597, -0.33822798,\n",
              "         0.14749602,  0.11131621, -0.08598877,  0.1731092 ,  0.30068999]])"
            ]
          },
          "metadata": {
            "tags": []
          },
          "execution_count": 575
        }
      ]
    },
    {
      "cell_type": "code",
      "metadata": {
        "id": "lEdc6BTCJaRf",
        "outputId": "555efd71-bae3-4ad0-8e9e-e55dd9311116",
        "colab": {
          "base_uri": "https://localhost:8080/",
          "height": 510
        }
      },
      "source": [
        "#Adjust the number of hidde Layer/ hidden node to improve the NN performance. Write your code below.\n",
        "\n",
        "mlp = MLPClassifier(hidden_layer_sizes=(5,5), max_iter=1000,verbose=2)  \n",
        "mlp.fit(X_train, y_train) \n",
        "\n",
        "predictions = mlp.predict(X_test)  "
      ],
      "execution_count": 576,
      "outputs": [
        {
          "output_type": "stream",
          "text": [
            "Iteration 1, loss = 0.56564285\n",
            "Iteration 2, loss = 0.34470031\n",
            "Iteration 3, loss = 0.20807419\n",
            "Iteration 4, loss = 0.15816823\n",
            "Iteration 5, loss = 0.13060766\n",
            "Iteration 6, loss = 0.11093934\n",
            "Iteration 7, loss = 0.09557844\n",
            "Iteration 8, loss = 0.08314843\n",
            "Iteration 9, loss = 0.07282381\n",
            "Iteration 10, loss = 0.06387994\n",
            "Iteration 11, loss = 0.02696776\n",
            "Iteration 12, loss = 0.00430306\n",
            "Iteration 13, loss = 0.00186380\n",
            "Iteration 14, loss = 0.00107922\n",
            "Iteration 15, loss = 0.00068958\n",
            "Iteration 16, loss = 0.00048934\n",
            "Iteration 17, loss = 0.00035217\n",
            "Iteration 18, loss = 0.00026718\n",
            "Iteration 19, loss = 0.00020714\n",
            "Iteration 20, loss = 0.00016560\n",
            "Iteration 21, loss = 0.00013326\n",
            "Iteration 22, loss = 0.00010803\n",
            "Iteration 23, loss = 0.00008871\n",
            "Iteration 24, loss = 0.00007347\n",
            "Iteration 25, loss = 0.00006153\n",
            "Iteration 26, loss = 0.00005264\n",
            "Iteration 27, loss = 0.00004496\n",
            "Iteration 28, loss = 0.00003821\n",
            "Training loss did not improve more than tol=0.000100 for 10 consecutive epochs. Stopping.\n"
          ],
          "name": "stdout"
        }
      ]
    },
    {
      "cell_type": "code",
      "metadata": {
        "id": "3xVTuALOJcpg",
        "outputId": "351d95e7-7c10-4197-cce8-6498402638ae",
        "colab": {
          "base_uri": "https://localhost:8080/",
          "height": 221
        }
      },
      "source": [
        "from sklearn.metrics import confusion_matrix\n",
        "from sklearn.metrics import classification_report\n",
        "from sklearn import metrics\n",
        "print(\"Accuracy\", metrics.accuracy_score(y_test, predictions))\n",
        "print(confusion_matrix(y_test,predictions))  \n",
        "print(classification_report(y_test,predictions))"
      ],
      "execution_count": 577,
      "outputs": [
        {
          "output_type": "stream",
          "text": [
            "Accuracy 1.0\n",
            "[[2953    0]\n",
            " [   0 7047]]\n",
            "              precision    recall  f1-score   support\n",
            "\n",
            "           0       1.00      1.00      1.00      2953\n",
            "           1       1.00      1.00      1.00      7047\n",
            "\n",
            "    accuracy                           1.00     10000\n",
            "   macro avg       1.00      1.00      1.00     10000\n",
            "weighted avg       1.00      1.00      1.00     10000\n",
            "\n"
          ],
          "name": "stdout"
        }
      ]
    },
    {
      "cell_type": "markdown",
      "metadata": {
        "id": "2-n6qbhefBOB"
      },
      "source": [
        "**Logistic** **Regression**"
      ]
    },
    {
      "cell_type": "code",
      "metadata": {
        "id": "-U_DsYWMfIeL",
        "outputId": "0a87e65b-7141-499b-e4bf-6633f906e4b8",
        "colab": {
          "base_uri": "https://localhost:8080/",
          "height": 51
        }
      },
      "source": [
        "from sklearn.linear_model import LogisticRegression\n",
        "logreg = LogisticRegression(C=0.01, max_iter=10000).fit(X_train, y_train)\n",
        "print(\"Training set score: {:.3f}\".format(logreg.score(X_train, y_train)))\n",
        "print(\"Test set score: {:.3f}\".format(logreg.score(X_test, y_test)))"
      ],
      "execution_count": 579,
      "outputs": [
        {
          "output_type": "stream",
          "text": [
            "Training set score: 1.000\n",
            "Test set score: 1.000\n"
          ],
          "name": "stdout"
        }
      ]
    },
    {
      "cell_type": "code",
      "metadata": {
        "id": "EXd8Nhr0fJk1",
        "outputId": "17d8598c-b318-454a-9438-ca176267ce23",
        "colab": {
          "base_uri": "https://localhost:8080/",
          "height": 34
        }
      },
      "source": [
        "logreg.intercept_.T"
      ],
      "execution_count": 580,
      "outputs": [
        {
          "output_type": "execute_result",
          "data": {
            "text/plain": [
              "array([2.43225111])"
            ]
          },
          "metadata": {
            "tags": []
          },
          "execution_count": 580
        }
      ]
    },
    {
      "cell_type": "code",
      "metadata": {
        "id": "ZgY1sTVwfMXV",
        "outputId": "8e5b56d0-fc90-4ad8-d063-2ae517fd559f",
        "colab": {
          "base_uri": "https://localhost:8080/",
          "height": 340
        }
      },
      "source": [
        "logreg.coef_.T"
      ],
      "execution_count": 581,
      "outputs": [
        {
          "output_type": "execute_result",
          "data": {
            "text/plain": [
              "array([[-7.71119278e-04],\n",
              "       [ 3.24216856e-03],\n",
              "       [ 1.32693046e-03],\n",
              "       [-3.63929514e-03],\n",
              "       [ 2.27674770e-02],\n",
              "       [ 1.60419524e-02],\n",
              "       [ 1.57993234e-02],\n",
              "       [ 5.15203371e-01],\n",
              "       [ 3.70101599e+00],\n",
              "       [-4.26695904e-02],\n",
              "       [-4.88271497e-02],\n",
              "       [-8.60067651e-01],\n",
              "       [ 4.10888537e-03],\n",
              "       [-7.10899801e-03],\n",
              "       [ 1.36328796e-02],\n",
              "       [-7.84046241e-03],\n",
              "       [-8.48092350e-03],\n",
              "       [ 1.24786016e-02],\n",
              "       [ 5.83678093e-03]])"
            ]
          },
          "metadata": {
            "tags": []
          },
          "execution_count": 581
        }
      ]
    },
    {
      "cell_type": "code",
      "metadata": {
        "id": "_8i2E3XffMbu",
        "outputId": "60ae7e4a-1cc4-49f6-9b99-8a7fca911404",
        "colab": {
          "base_uri": "https://localhost:8080/",
          "height": 221
        }
      },
      "source": [
        "print(y_test)"
      ],
      "execution_count": 582,
      "outputs": [
        {
          "output_type": "stream",
          "text": [
            "11841    1\n",
            "19602    1\n",
            "45519    1\n",
            "25747    1\n",
            "42642    0\n",
            "        ..\n",
            "25091    0\n",
            "27853    0\n",
            "47278    1\n",
            "37020    1\n",
            "2217     1\n",
            "Name: 5-ingredients-or-less, Length: 10000, dtype: int64\n"
          ],
          "name": "stdout"
        }
      ]
    },
    {
      "cell_type": "code",
      "metadata": {
        "id": "TDsgGGMYfMZO",
        "outputId": "46a38ffb-dd15-45c4-86a2-aac2569217f7",
        "colab": {
          "base_uri": "https://localhost:8080/",
          "height": 204
        }
      },
      "source": [
        "from sklearn.metrics import classification_report, confusion_matrix  \n",
        "y_pred = logreg.predict(X_test)\n",
        "print(confusion_matrix(y_test, y_pred))  \n",
        "print(classification_report(y_test, y_pred))\n",
        "##before processing data in PCA, we got 0.73 accurancy, from this we can observe the accurancy do not decrease a lot\n",
        "#we can also normally use the model, and largely reduce caculation by using PCA"
      ],
      "execution_count": 583,
      "outputs": [
        {
          "output_type": "stream",
          "text": [
            "[[2953    0]\n",
            " [   0 7047]]\n",
            "              precision    recall  f1-score   support\n",
            "\n",
            "           0       1.00      1.00      1.00      2953\n",
            "           1       1.00      1.00      1.00      7047\n",
            "\n",
            "    accuracy                           1.00     10000\n",
            "   macro avg       1.00      1.00      1.00     10000\n",
            "weighted avg       1.00      1.00      1.00     10000\n",
            "\n"
          ],
          "name": "stdout"
        }
      ]
    },
    {
      "cell_type": "code",
      "metadata": {
        "id": "vA1i-9yFfMSd"
      },
      "source": [
        "#!conda install -c conda-forge scikit-plot\n",
        "import matplotlib.pyplot as plt\n",
        "import scikitplot as skplt\n",
        "y_pred_probas = logreg.predict_proba(X_test)"
      ],
      "execution_count": 584,
      "outputs": []
    },
    {
      "cell_type": "code",
      "metadata": {
        "id": "4tj863DRfazF",
        "outputId": "f9f22ce3-450d-465b-9452-420166cd74df",
        "colab": {
          "base_uri": "https://localhost:8080/",
          "height": 295
        }
      },
      "source": [
        "skplt.metrics.plot_cumulative_gain(y_test, y_pred_probas)\n",
        "plt.show()"
      ],
      "execution_count": 585,
      "outputs": [
        {
          "output_type": "display_data",
          "data": {
            "image/png": "[encoded data removed]",
            "text/plain": [
              "<Figure size 432x288 with 1 Axes>"
            ]
          },
          "metadata": {
            "tags": [],
            "needs_background": "light"
          }
        }
      ]
    },
    {
      "cell_type": "code",
      "metadata": {
        "id": "uf7br18Kfbov",
        "outputId": "ef990d36-98d0-49f1-8bca-6ce095db6424",
        "colab": {
          "base_uri": "https://localhost:8080/",
          "height": 295
        }
      },
      "source": [
        "skplt.metrics.plot_lift_curve(y_test, y_pred_probas)\n",
        "plt.show()"
      ],
      "execution_count": 586,
      "outputs": [
        {
          "output_type": "display_data",
          "data": {
            "image/png": "[encoded data removed]",
            "text/plain": [
              "<Figure size 432x288 with 1 Axes>"
            ]
          },
          "metadata": {
            "tags": [],
            "needs_background": "light"
          }
        }
      ]
    }
  ]
}